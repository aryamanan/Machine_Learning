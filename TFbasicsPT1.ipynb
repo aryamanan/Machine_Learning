{
  "nbformat": 4,
  "nbformat_minor": 0,
  "metadata": {
    "colab": {
      "provenance": [],
      "gpuType": "T4"
    },
    "kernelspec": {
      "name": "python3",
      "display_name": "Python 3"
    },
    "language_info": {
      "name": "python"
    },
    "accelerator": "GPU"
  },
  "cells": [
    {
      "cell_type": "markdown",
      "source": [
        "# TensorFlow basics for Computer Vision [Deep Learning] Part 1"
      ],
      "metadata": {
        "id": "CqtED4fE9Miu"
      }
    },
    {
      "cell_type": "code",
      "execution_count": null,
      "metadata": {
        "id": "kapfyCo9oWIX"
      },
      "outputs": [],
      "source": [
        "import tensorflow as tf"
      ]
    },
    {
      "cell_type": "markdown",
      "source": [
        "## Types of Tensors"
      ],
      "metadata": {
        "id": "Seiz7rPhrf5m"
      }
    },
    {
      "cell_type": "code",
      "source": [
        "const=tf.constant(7)\n",
        "print(const.ndim,const.shape,type(const))"
      ],
      "metadata": {
        "colab": {
          "base_uri": "https://localhost:8080/"
        },
        "id": "YFyriM9wox5e",
        "outputId": "9096d282-e96e-4f27-ec12-99e0888e779a"
      },
      "execution_count": null,
      "outputs": [
        {
          "name": "stdout",
          "output_type": "stream",
          "text": [
            "0 () <class 'tensorflow.python.framework.ops.EagerTensor'>\n"
          ]
        }
      ]
    },
    {
      "cell_type": "code",
      "source": [
        "vec=tf.constant([87,98])\n",
        "print(vec.ndim,vec.shape,type(vec))"
      ],
      "metadata": {
        "colab": {
          "base_uri": "https://localhost:8080/"
        },
        "id": "UgyJOknZo3Yb",
        "outputId": "d98948f9-35b6-4e29-b003-fcd0959f64e4"
      },
      "execution_count": null,
      "outputs": [
        {
          "name": "stdout",
          "output_type": "stream",
          "text": [
            "1 (2,) <class 'tensorflow.python.framework.ops.EagerTensor'>\n"
          ]
        }
      ]
    },
    {
      "cell_type": "code",
      "source": [
        "matrix=tf.constant([[98,87,97,78,9,55,9],[67,76,76,75,9,5,1]])\n",
        "print(matrix.ndim,matrix.shape,type(matrix))"
      ],
      "metadata": {
        "colab": {
          "base_uri": "https://localhost:8080/"
        },
        "id": "FCh0lt0RpDnj",
        "outputId": "d6c5163b-aeac-4737-e8c6-bd630dc5c7a8"
      },
      "execution_count": null,
      "outputs": [
        {
          "name": "stdout",
          "output_type": "stream",
          "text": [
            "2 (2, 7) <class 'tensorflow.python.framework.ops.EagerTensor'>\n"
          ]
        }
      ]
    },
    {
      "cell_type": "code",
      "source": [
        "tensr=tf.constant([[[12,21],[13,43],[12,23]],[[23,24],[23,4],[56,65]]])\n",
        "print(tensr.ndim,tensr.shape,type(tensr))"
      ],
      "metadata": {
        "colab": {
          "base_uri": "https://localhost:8080/"
        },
        "id": "qPRbqGhDpVTr",
        "outputId": "bbf9b47c-ac79-444f-bbcd-7d18071bb40d"
      },
      "execution_count": null,
      "outputs": [
        {
          "name": "stdout",
          "output_type": "stream",
          "text": [
            "3 (2, 3, 2) <class 'tensorflow.python.framework.ops.EagerTensor'>\n"
          ]
        }
      ]
    },
    {
      "cell_type": "code",
      "source": [
        "# set datatype of tensor by using \"dtype\" parameter\n",
        "\n",
        "floatTensr=tf.constant([23,53,0,34,23],dtype=tf.float16)\n",
        "print(floatTensr)"
      ],
      "metadata": {
        "colab": {
          "base_uri": "https://localhost:8080/"
        },
        "id": "Bby2cnqZpkrc",
        "outputId": "5f8e1c9b-b1b2-4faf-ff18-6c804e9d286f"
      },
      "execution_count": null,
      "outputs": [
        {
          "name": "stdout",
          "output_type": "stream",
          "text": [
            "tf.Tensor([23. 53.  0. 34. 23.], shape=(5,), dtype=float16)\n"
          ]
        }
      ]
    },
    {
      "cell_type": "markdown",
      "source": [
        "## Tensor casting using `tf.cast()`"
      ],
      "metadata": {
        "collapsed": false,
        "id": "v9Vjygimsnpf"
      }
    },
    {
      "cell_type": "code",
      "source": [
        "# change the datatype of a tensor using tf.cast() function\n",
        "intTensr=tf.cast(floatTensr,dtype=tf.int64)\n",
        "print(intTensr)"
      ],
      "metadata": {
        "colab": {
          "base_uri": "https://localhost:8080/"
        },
        "id": "C7FZbvGZrS2A",
        "outputId": "2f0bc896-fcd4-4f61-9426-d510ee6b587d"
      },
      "execution_count": null,
      "outputs": [
        {
          "name": "stdout",
          "output_type": "stream",
          "text": [
            "tf.Tensor([23 53  0 34 23], shape=(5,), dtype=int64)\n"
          ]
        }
      ]
    },
    {
      "cell_type": "code",
      "source": [
        "# we can cast to boolean values too, where only zero gives false\n",
        "boolTensr=tf.cast(floatTensr,dtype=tf.bool)\n",
        "print(boolTensr)"
      ],
      "metadata": {
        "colab": {
          "base_uri": "https://localhost:8080/"
        },
        "id": "1-An9RZfr6Ok",
        "outputId": "9dd13674-080f-4fed-9efd-fa71f7d6d666"
      },
      "execution_count": null,
      "outputs": [
        {
          "name": "stdout",
          "output_type": "stream",
          "text": [
            "tf.Tensor([ True  True False  True  True], shape=(5,), dtype=bool)\n"
          ]
        }
      ]
    },
    {
      "cell_type": "code",
      "source": [
        "# we can turn any tensor object into a vector (1D array) using np.flatten()\n",
        "\n",
        "import numpy as np\n",
        "arr=np.array(tensr)\n",
        "arr=arr.flatten() # only available in numpy library\n",
        "tensr=tf.constant(arr)\n",
        "print(tensr)"
      ],
      "metadata": {
        "colab": {
          "base_uri": "https://localhost:8080/"
        },
        "id": "Fnk0DwnEsXlW",
        "outputId": "68668f9b-52b2-48c6-a7ec-25bf314fb5d7"
      },
      "execution_count": null,
      "outputs": [
        {
          "name": "stdout",
          "output_type": "stream",
          "text": [
            "tf.Tensor([12 21 13 43 12 23 23 24 23  4 56 65], shape=(12,), dtype=int32)\n"
          ]
        }
      ]
    },
    {
      "cell_type": "markdown",
      "source": [
        "## `tf.eye()`: another way to create diagonal tensors"
      ],
      "metadata": {
        "id": "D-Y5EN8-uC-A"
      }
    },
    {
      "cell_type": "code",
      "source": [
        "eyeTensr=tf.eye(\n",
        "     num_rows=3,\n",
        "     num_columns=None,\n",
        "     # since columns is null, it'll give 3x3 identity matrix\n",
        "     batch_shape=None,\n",
        "     dtype=tf.float32,\n",
        "     name=None\n",
        ")\n",
        "print(eyeTensr)"
      ],
      "metadata": {
        "colab": {
          "base_uri": "https://localhost:8080/"
        },
        "id": "KdWxIHiYtZf0",
        "outputId": "e76fab12-b0b7-4c90-c0ec-284ce90083db"
      },
      "execution_count": null,
      "outputs": [
        {
          "name": "stdout",
          "output_type": "stream",
          "text": [
            "tf.Tensor(\n",
            "[[1. 0. 0.]\n",
            " [0. 1. 0.]\n",
            " [0. 0. 1.]], shape=(3, 3), dtype=float32)\n"
          ]
        }
      ]
    },
    {
      "cell_type": "code",
      "source": [
        "print(3*eyeTensr) # Scalar Multiplication"
      ],
      "metadata": {
        "colab": {
          "base_uri": "https://localhost:8080/"
        },
        "id": "4GbLqC0QuZNh",
        "outputId": "f41ef04f-884c-4b6a-a0df-73840cb8ef4e"
      },
      "execution_count": null,
      "outputs": [
        {
          "name": "stdout",
          "output_type": "stream",
          "text": [
            "tf.Tensor(\n",
            "[[3. 0. 0.]\n",
            " [0. 3. 0.]\n",
            " [0. 0. 3.]], shape=(3, 3), dtype=float32)\n"
          ]
        }
      ]
    },
    {
      "cell_type": "code",
      "source": [
        "eyeTensr=tf.eye(\n",
        "     num_rows=3,\n",
        "     num_columns=5,\n",
        "     # will give diagonal-matrix wih 1s at leading diagonal\n",
        "     batch_shape=None,\n",
        "     dtype=tf.float32,\n",
        "     name=None\n",
        ")\n",
        "print(eyeTensr)"
      ],
      "metadata": {
        "colab": {
          "base_uri": "https://localhost:8080/"
        },
        "id": "5VT1nW2wuyFR",
        "outputId": "dba7121e-95e4-4e91-b307-2437cbb64d6e"
      },
      "execution_count": null,
      "outputs": [
        {
          "name": "stdout",
          "output_type": "stream",
          "text": [
            "tf.Tensor(\n",
            "[[1. 0. 0. 0. 0.]\n",
            " [0. 1. 0. 0. 0.]\n",
            " [0. 0. 1. 0. 0.]], shape=(3, 5), dtype=float32)\n"
          ]
        }
      ]
    },
    {
      "cell_type": "code",
      "source": [
        "eyeTensr=tf.eye(\n",
        "     num_rows=3,\n",
        "     num_columns=5,\n",
        "     batch_shape=(2,3), # 2 tensors with 3 (3,5) matrices each\n",
        "     dtype=tf.float32,\n",
        "     name=None\n",
        ")\n",
        "print(eyeTensr)"
      ],
      "metadata": {
        "colab": {
          "base_uri": "https://localhost:8080/"
        },
        "id": "-pCpWvR4670I",
        "outputId": "a5b0925f-9a20-40e0-8e44-fefb8146f510"
      },
      "execution_count": null,
      "outputs": [
        {
          "name": "stdout",
          "output_type": "stream",
          "text": [
            "tf.Tensor(\n",
            "[[[[1. 0. 0. 0. 0.]\n",
            "   [0. 1. 0. 0. 0.]\n",
            "   [0. 0. 1. 0. 0.]]\n",
            "\n",
            "  [[1. 0. 0. 0. 0.]\n",
            "   [0. 1. 0. 0. 0.]\n",
            "   [0. 0. 1. 0. 0.]]\n",
            "\n",
            "  [[1. 0. 0. 0. 0.]\n",
            "   [0. 1. 0. 0. 0.]\n",
            "   [0. 0. 1. 0. 0.]]]\n",
            "\n",
            "\n",
            " [[[1. 0. 0. 0. 0.]\n",
            "   [0. 1. 0. 0. 0.]\n",
            "   [0. 0. 1. 0. 0.]]\n",
            "\n",
            "  [[1. 0. 0. 0. 0.]\n",
            "   [0. 1. 0. 0. 0.]\n",
            "   [0. 0. 1. 0. 0.]]\n",
            "\n",
            "  [[1. 0. 0. 0. 0.]\n",
            "   [0. 1. 0. 0. 0.]\n",
            "   [0. 0. 1. 0. 0.]]]], shape=(2, 3, 3, 5), dtype=float32)\n"
          ]
        }
      ]
    },
    {
      "cell_type": "markdown",
      "source": [
        "## `tf.fill()`: another way to create tensors with a single value"
      ],
      "metadata": {
        "id": "zxv337Fj7mSl"
      }
    },
    {
      "cell_type": "code",
      "source": [
        "arr=tf.fill([2,4],9)\n",
        "print(arr)"
      ],
      "metadata": {
        "colab": {
          "base_uri": "https://localhost:8080/"
        },
        "id": "htBpP0oC7liZ",
        "outputId": "7aac3b4f-e5e3-40ae-82b7-37d2b5ebe929"
      },
      "execution_count": null,
      "outputs": [
        {
          "name": "stdout",
          "output_type": "stream",
          "text": [
            "tf.Tensor(\n",
            "[[9 9 9 9]\n",
            " [9 9 9 9]], shape=(2, 4), dtype=int32)\n"
          ]
        }
      ]
    },
    {
      "cell_type": "code",
      "source": [
        "arr2=tf.fill([2,3,4,5],15)\n",
        "print(arr2)"
      ],
      "metadata": {
        "colab": {
          "base_uri": "https://localhost:8080/"
        },
        "id": "a6rHkp_D7NHP",
        "outputId": "9851b729-d156-4058-a5d4-71ea37acb83f"
      },
      "execution_count": null,
      "outputs": [
        {
          "name": "stdout",
          "output_type": "stream",
          "text": [
            "tf.Tensor(\n",
            "[[[[15 15 15 15 15]\n",
            "   [15 15 15 15 15]\n",
            "   [15 15 15 15 15]\n",
            "   [15 15 15 15 15]]\n",
            "\n",
            "  [[15 15 15 15 15]\n",
            "   [15 15 15 15 15]\n",
            "   [15 15 15 15 15]\n",
            "   [15 15 15 15 15]]\n",
            "\n",
            "  [[15 15 15 15 15]\n",
            "   [15 15 15 15 15]\n",
            "   [15 15 15 15 15]\n",
            "   [15 15 15 15 15]]]\n",
            "\n",
            "\n",
            " [[[15 15 15 15 15]\n",
            "   [15 15 15 15 15]\n",
            "   [15 15 15 15 15]\n",
            "   [15 15 15 15 15]]\n",
            "\n",
            "  [[15 15 15 15 15]\n",
            "   [15 15 15 15 15]\n",
            "   [15 15 15 15 15]\n",
            "   [15 15 15 15 15]]\n",
            "\n",
            "  [[15 15 15 15 15]\n",
            "   [15 15 15 15 15]\n",
            "   [15 15 15 15 15]\n",
            "   [15 15 15 15 15]]]], shape=(2, 3, 4, 5), dtype=int32)\n"
          ]
        }
      ]
    },
    {
      "cell_type": "markdown",
      "source": [
        "## `tf.ones` and `tf.zeros`: only zeros and ones tensors"
      ],
      "metadata": {
        "id": "dCqzf20_8usU"
      }
    },
    {
      "cell_type": "code",
      "source": [
        "ones=tf.ones([3,4])\n",
        "print(ones)"
      ],
      "metadata": {
        "colab": {
          "base_uri": "https://localhost:8080/"
        },
        "id": "NRCH7ddD8prK",
        "outputId": "c426f600-8dca-4e1b-d665-dc22d602808d"
      },
      "execution_count": null,
      "outputs": [
        {
          "name": "stdout",
          "output_type": "stream",
          "text": [
            "tf.Tensor(\n",
            "[[1. 1. 1. 1.]\n",
            " [1. 1. 1. 1.]\n",
            " [1. 1. 1. 1.]], shape=(3, 4), dtype=float32)\n"
          ]
        }
      ]
    },
    {
      "cell_type": "code",
      "source": [
        "zeros=tf.zeros([2,3])\n",
        "print(zeros)"
      ],
      "metadata": {
        "colab": {
          "base_uri": "https://localhost:8080/"
        },
        "id": "9-eBaCk089GU",
        "outputId": "cd35059d-b459-4dfe-f602-ef17ea645db0"
      },
      "execution_count": null,
      "outputs": [
        {
          "name": "stdout",
          "output_type": "stream",
          "text": [
            "tf.Tensor(\n",
            "[[0. 0. 0.]\n",
            " [0. 0. 0.]], shape=(2, 3), dtype=float32)\n"
          ]
        }
      ]
    },
    {
      "cell_type": "markdown",
      "source": [
        "# `tf.random`: Random Tensors"
      ],
      "metadata": {
        "id": "02XitaeJ9qns"
      }
    },
    {
      "cell_type": "code",
      "source": [
        "normal=tf.random.normal(mean=30,stddev=4,\\\n",
        "                        shape=[4,5],dtype=tf.double,\\\n",
        "                        seed=32,name=None)\n",
        "# name parameter can be provided to give a name to the operation being performed.\n",
        "print(normal)"
      ],
      "metadata": {
        "colab": {
          "base_uri": "https://localhost:8080/"
        },
        "id": "iWHLLOOE9B_F",
        "outputId": "2b5f2800-7960-4291-f61a-1c41a392dea7"
      },
      "execution_count": null,
      "outputs": [
        {
          "name": "stdout",
          "output_type": "stream",
          "text": [
            "tf.Tensor(\n",
            "[[27.31506792 31.02382829 28.09655488 28.54825721 32.35985488]\n",
            " [27.23645222 25.02776282 29.3740588  30.23386994 27.95143368]\n",
            " [34.92283589 32.46990679 30.85703139 32.15418015 34.85951039]\n",
            " [34.5457016  29.04404194 37.10091198 34.81103099 32.45139628]], shape=(4, 5), dtype=float64)\n"
          ]
        }
      ]
    },
    {
      "cell_type": "code",
      "source": [
        "uniform=tf.random.uniform(\n",
        "    [9,],\n",
        "    minval=100,\n",
        "    maxval=1000,\n",
        "    dtype=tf.int32,\n",
        "    seed=None,\n",
        "    name=None\n",
        ")\n",
        "print(uniform)"
      ],
      "metadata": {
        "colab": {
          "base_uri": "https://localhost:8080/"
        },
        "id": "t4B1oE9-97Yb",
        "outputId": "75a1452b-c55b-485c-becc-b59977bde875"
      },
      "execution_count": null,
      "outputs": [
        {
          "name": "stdout",
          "output_type": "stream",
          "text": [
            "tf.Tensor([631 373 960 228 372 597 855 375 472], shape=(9,), dtype=int32)\n"
          ]
        }
      ]
    },
    {
      "cell_type": "markdown",
      "source": [
        "`tf.random.uniform`: Generates random values from a uniform distribution.\n",
        "\n",
        "\n",
        "`tf.random.normal`: Generates random values from a normal (Gaussian) distribution.\n",
        "tf.random.truncated_normal: Generates random values from a truncated normal distribution.\n",
        "\n",
        "\n",
        "`tf.random.bernoulli`: Generates random values from a Bernoulli distribution.\n",
        "\n",
        "\n",
        "`tf.random.categorical`: Generates random values from a categorical distribution.\n",
        "\n",
        "\n",
        "`tf.random.multinomial`: Generates random values from a multinomial distribution.\n",
        "\n",
        "\n",
        "`tf.random.gamma`: Generates random values from a gamma distribution.\n",
        "\n",
        "\n",
        "`tf.random.exponential`: Generates random values from an exponential distribution.\n",
        "\n",
        "\n",
        "`tf.random.poisson`: Generates random values from a Poisson distribution.\n",
        "\n",
        "\n",
        "`tf.random.triangular`: Generates random values from a triangular distribution.\n",
        "\n",
        "\n",
        "`tf.random.uniform_unit_sphere`: Generates random points from a uniform distribution on the unit sphere."
      ],
      "metadata": {
        "collapsed": false,
        "id": "vFYNnV9Wsnpn"
      }
    },
    {
      "cell_type": "markdown",
      "source": [
        "## Indexing in Tensors"
      ],
      "metadata": {
        "id": "3qcpEW1GOosY"
      }
    },
    {
      "cell_type": "code",
      "source": [
        "index=tf.constant([3,5,6,7,33,2,4,54])\n",
        "print(index[0:4])\n",
        "print(index[1:6])\n",
        "print(index[6:])"
      ],
      "metadata": {
        "colab": {
          "base_uri": "https://localhost:8080/"
        },
        "id": "eRe6VXgiNukJ",
        "outputId": "d19aa548-ee5f-46e6-cc47-644a7381bee4"
      },
      "execution_count": null,
      "outputs": [
        {
          "name": "stdout",
          "output_type": "stream",
          "text": [
            "tf.Tensor([3 5 6 7], shape=(4,), dtype=int32)\n",
            "tf.Tensor([ 5  6  7 33  2], shape=(5,), dtype=int32)\n",
            "tf.Tensor([ 4 54], shape=(2,), dtype=int32)\n"
          ]
        }
      ]
    },
    {
      "cell_type": "code",
      "source": [
        "index2=tf.constant([\n",
        "    [1,2,3],\n",
        "    [3,34,2],\n",
        "    [32,34,64],\n",
        "    [23,34,2]\n",
        "])\n",
        "print(index2[0:3,7:3])"
      ],
      "metadata": {
        "colab": {
          "base_uri": "https://localhost:8080/"
        },
        "id": "gnhFm9iJPGxk",
        "outputId": "5d96cfac-b348-438d-a0b9-6b970f2f24f6"
      },
      "execution_count": null,
      "outputs": [
        {
          "name": "stdout",
          "output_type": "stream",
          "text": [
            "tf.Tensor([], shape=(3, 0), dtype=int32)\n"
          ]
        }
      ]
    },
    {
      "cell_type": "code",
      "source": [
        "a=tf.constant([4,5,4,5,4,5,4,5,4,5,4,5])\n",
        "print(a[...,1])"
      ],
      "metadata": {
        "colab": {
          "base_uri": "https://localhost:8080/"
        },
        "id": "rdMkoSDEPsAH",
        "outputId": "832464a5-4bae-44b3-e2e0-6638e2fd9316"
      },
      "execution_count": null,
      "outputs": [
        {
          "name": "stdout",
          "output_type": "stream",
          "text": [
            "tf.Tensor(5, shape=(), dtype=int32)\n"
          ]
        }
      ]
    },
    {
      "cell_type": "markdown",
      "source": [
        "## Math Operations\n",
        "\n",
        "#### Max-Min"
      ],
      "metadata": {
        "id": "0_-hSBZVQatk"
      }
    },
    {
      "cell_type": "code",
      "source": [
        "x=tf.constant([23,-23,-23,-4,23,-3,-3,-1,-534,23,-23,19])\n",
        "tf.math.abs(x) # give absolute value"
      ],
      "metadata": {
        "colab": {
          "base_uri": "https://localhost:8080/"
        },
        "id": "QacWzPYaQTbh",
        "outputId": "9058a3ef-927e-4128-ae56-1e8fa148233e"
      },
      "execution_count": null,
      "outputs": [
        {
          "data": {
            "text/plain": "<tf.Tensor: shape=(12,), dtype=int32, numpy=\narray([ 23,  23,  23,   4,  23,   3,   3,   1, 534,  23,  23,  19],\n      dtype=int32)>"
          },
          "execution_count": 136,
          "metadata": {},
          "output_type": "execute_result"
        }
      ]
    },
    {
      "cell_type": "code",
      "source": [
        "tf.math.abs(x-a)"
      ],
      "metadata": {
        "colab": {
          "base_uri": "https://localhost:8080/"
        },
        "id": "QBrJqMz5Qk5s",
        "outputId": "ab30414f-fddc-4836-9109-4ac865d5fc02"
      },
      "execution_count": null,
      "outputs": [
        {
          "data": {
            "text/plain": "<tf.Tensor: shape=(12,), dtype=int32, numpy=\narray([ 19,  28,  27,   9,  19,   8,   7,   6, 538,  18,  27,  14],\n      dtype=int32)>"
          },
          "execution_count": 100,
          "metadata": {},
          "output_type": "execute_result"
        }
      ]
    },
    {
      "cell_type": "code",
      "source": [
        "tf.math.minimum(x,a) # compare minimum values at each index b/w 2 same shape tensors"
      ],
      "metadata": {
        "colab": {
          "base_uri": "https://localhost:8080/"
        },
        "id": "Lf3abM_WWq_Z",
        "outputId": "4ec6026e-58d1-474d-ef03-f23be9de0f40"
      },
      "execution_count": null,
      "outputs": [
        {
          "data": {
            "text/plain": "<tf.Tensor: shape=(12,), dtype=int32, numpy=\narray([   4,  -23,  -23,   -4,    4,   -3,   -3,   -1, -534,    5,  -23,\n          5], dtype=int32)>"
          },
          "execution_count": 101,
          "metadata": {},
          "output_type": "execute_result"
        }
      ]
    },
    {
      "cell_type": "code",
      "source": [
        "tf.math.maximum(x,a) # same as above but maximum"
      ],
      "metadata": {
        "colab": {
          "base_uri": "https://localhost:8080/"
        },
        "id": "3jkUGLyMZenS",
        "outputId": "1a593452-80de-4761-db42-7cd70ccdfca1"
      },
      "execution_count": null,
      "outputs": [
        {
          "data": {
            "text/plain": "<tf.Tensor: shape=(12,), dtype=int32, numpy=array([23,  5,  4,  5, 23,  5,  4,  5,  4, 23,  4, 19], dtype=int32)>"
          },
          "execution_count": 102,
          "metadata": {},
          "output_type": "execute_result"
        }
      ]
    },
    {
      "cell_type": "markdown",
      "source": [
        "argmin and argmax give the indices of minimum and maximum terms"
      ],
      "metadata": {
        "id": "8sxejhYtZoFC"
      }
    },
    {
      "cell_type": "code",
      "source": [
        "argmin=tf.math.argmin(x)\n",
        "print(argmin)"
      ],
      "metadata": {
        "colab": {
          "base_uri": "https://localhost:8080/"
        },
        "id": "MPgAgOglYtxl",
        "outputId": "97a71e2e-b18d-4dd1-e61e-72f5c5f656b8"
      },
      "execution_count": null,
      "outputs": [
        {
          "name": "stdout",
          "output_type": "stream",
          "text": [
            "tf.Tensor(8, shape=(), dtype=int64)\n"
          ]
        }
      ]
    },
    {
      "cell_type": "code",
      "source": [
        "argmax=tf.math.argmax(x)\n",
        "print(argmax)"
      ],
      "metadata": {
        "colab": {
          "base_uri": "https://localhost:8080/"
        },
        "id": "7pa3qumWZD1d",
        "outputId": "6ce20cdf-34fc-451b-fd6a-92f257d9060c"
      },
      "execution_count": null,
      "outputs": [
        {
          "name": "stdout",
          "output_type": "stream",
          "text": [
            "tf.Tensor(0, shape=(), dtype=int64)\n"
          ]
        }
      ]
    },
    {
      "cell_type": "markdown",
      "source": [
        "### `tf.norm`: Calculate Euclidean Norm"
      ],
      "metadata": {
        "collapsed": false,
        "id": "xN9Vn-Mfsnpq"
      }
    },
    {
      "cell_type": "code",
      "execution_count": null,
      "outputs": [
        {
          "name": "stdout",
          "output_type": "stream",
          "text": [
            "tf.Tensor(537.3322994200144, shape=(), dtype=float64)\n"
          ]
        }
      ],
      "source": [
        "norm=tf.norm(x)\n",
        "print(norm)"
      ],
      "metadata": {
        "id": "DJy3BZJXsnpq",
        "outputId": "d8aadd26-32d3-46f6-d3dd-a7c02ca5e452"
      }
    },
    {
      "cell_type": "markdown",
      "source": [
        "#### `tf.math.pow`: element-wise exponentiation of a tensor with a specified exponent"
      ],
      "metadata": {
        "id": "vbNE3LqB1S6_"
      }
    },
    {
      "cell_type": "code",
      "source": [
        "tf.pow(x,a) # x to the power a"
      ],
      "metadata": {
        "colab": {
          "base_uri": "https://localhost:8080/"
        },
        "id": "Z-AD6pBqZa2q",
        "outputId": "9a4ec9ad-20d7-45ed-89bf-f12a79d272b3"
      },
      "execution_count": null,
      "outputs": [
        {
          "data": {
            "text/plain": "<tf.Tensor: shape=(12,), dtype=int32, numpy=\narray([    279841,   -6436343,     279841,      -1024,     279841,\n             -243,         81,         -1, -290434288,    6436343,\n           279841,    2476099], dtype=int32)>"
          },
          "execution_count": 105,
          "metadata": {},
          "output_type": "execute_result"
        }
      ]
    },
    {
      "cell_type": "code",
      "execution_count": null,
      "outputs": [
        {
          "data": {
            "text/plain": "<tf.Tensor: shape=(12,), dtype=int32, numpy=\narray([   529,    529,    529,     16,    529,      9,      9,      1,\n       285156,    529,    529,    361], dtype=int32)>"
          },
          "execution_count": 109,
          "metadata": {},
          "output_type": "execute_result"
        }
      ],
      "source": [
        "tf.pow(x,2)"
      ],
      "metadata": {
        "id": "V67hz5eTsnpr",
        "outputId": "beb15186-e8ec-4a56-e27d-deb03779c5f8"
      }
    },
    {
      "cell_type": "code",
      "execution_count": null,
      "outputs": [
        {
          "data": {
            "text/plain": "<tf.Tensor: shape=(12,), dtype=int32, numpy=\narray([   529,    529,    529,     16,    529,      9,      9,      1,\n       285156,    529,    529,    361], dtype=int32)>"
          },
          "execution_count": 110,
          "metadata": {},
          "output_type": "execute_result"
        }
      ],
      "source": [
        "# above is same as\n",
        "x**2"
      ],
      "metadata": {
        "id": "ZodUopBcsnpr",
        "outputId": "f0a29786-9dfe-4b51-e157-78521b3e73b4"
      }
    },
    {
      "cell_type": "markdown",
      "source": [
        "### `tf.math.exp`: calculate element-wise exponential of a tensor."
      ],
      "metadata": {
        "collapsed": false,
        "id": "OxIGXYklsnpr"
      }
    },
    {
      "cell_type": "code",
      "execution_count": null,
      "outputs": [
        {
          "data": {
            "text/plain": "<tf.Tensor: shape=(12,), dtype=float64, numpy=\narray([9.74480345e+009, 1.02618796e-010, 1.02618796e-010, 1.83156389e-002,\n       9.74480345e+009, 4.97870684e-002, 4.97870684e-002, 3.67879441e-001,\n       1.22108716e-232, 9.74480345e+009, 1.02618796e-010, 1.78482301e+008])>"
          },
          "execution_count": 214,
          "metadata": {},
          "output_type": "execute_result"
        }
      ],
      "source": [
        "tf.math.exp(x)"
      ],
      "metadata": {
        "id": "KWGOcs2Jsnps",
        "outputId": "1e74e8d3-9b50-4020-ae2a-dda2fb0f4035"
      }
    },
    {
      "cell_type": "markdown",
      "source": [
        "### `tf.math.log`: Computes the element-wise natural logarithm of a tensor."
      ],
      "metadata": {
        "collapsed": false,
        "id": "goBSSPnksnps"
      }
    },
    {
      "cell_type": "code",
      "execution_count": null,
      "outputs": [
        {
          "data": {
            "text/plain": "<tf.Tensor: shape=(12,), dtype=float64, numpy=\narray([3.13549422,        nan,        nan,        nan, 3.13549422,\n              nan,        nan,        nan,        nan, 3.13549422,\n              nan, 2.94443898])>"
          },
          "execution_count": 217,
          "metadata": {},
          "output_type": "execute_result"
        }
      ],
      "source": [
        "tf.math.log(x) #log of negative value is Nan\n",
        "# Logarithms are monotonic functions\n",
        "# ie they are either ever increasing or ever decreasing\n",
        "# wrt the independent variable"
      ],
      "metadata": {
        "id": "jO56vsT7snps",
        "outputId": "574fd249-9c13-41ae-b14b-203a0a6233ff"
      }
    },
    {
      "cell_type": "markdown",
      "source": [
        "More Element-wise Operations:\n",
        "\n",
        "- `tf.math.add`: Performs element-wise addition of tensors.\n",
        "- `tf.math.subtract`: Performs element-wise subtraction of tensors.\n",
        "- `tf.math.multiply`: Performs element-wise multiplication of tensors.\n",
        "- `tf.math.divide`: Performs element-wise division of tensors."
      ],
      "metadata": {
        "collapsed": false,
        "id": "o1MOm2FHsnps"
      }
    },
    {
      "cell_type": "markdown",
      "source": [
        "## Reduction Operations"
      ],
      "metadata": {
        "collapsed": false,
        "id": "YCIO6XmAsnpt"
      }
    },
    {
      "cell_type": "markdown",
      "source": [
        "## `tf.reduce_sum`:  sum of elements in a tensor along specified axes."
      ],
      "metadata": {
        "collapsed": false,
        "id": "9S7rHtzWsnpt"
      }
    },
    {
      "cell_type": "code",
      "execution_count": null,
      "outputs": [
        {
          "name": "stdout",
          "output_type": "stream",
          "text": [
            "tf.Tensor([12. 15. 18.], shape=(3,), dtype=float32)\n"
          ]
        }
      ],
      "source": [
        "rowSum=tf.reduce_sum(matrix,axis=0)\n",
        "# axis=0 alongside row\n",
        "print(rowSum)"
      ],
      "metadata": {
        "id": "R2yt3OAcsnpt",
        "outputId": "3f1e685b-28b9-40e3-9a1c-1c98b1cb1530"
      }
    },
    {
      "cell_type": "code",
      "execution_count": null,
      "outputs": [
        {
          "name": "stdout",
          "output_type": "stream",
          "text": [
            "tf.Tensor([433 309], shape=(2,), dtype=int32)\n"
          ]
        }
      ],
      "source": [
        "colSum=tf.reduce_sum(matrix,axis=1)\n",
        "# axis=1 alongside column\n",
        "print(colSum)"
      ],
      "metadata": {
        "id": "nifVfPvIsnpt",
        "outputId": "903c9972-d689-430d-c3bb-8741bf21f2eb"
      }
    },
    {
      "cell_type": "markdown",
      "source": [
        "### `tf.reduce_min()` and `tf.reduce_max` find min and max values along specified axis"
      ],
      "metadata": {
        "collapsed": false,
        "id": "h5QxqHiTsnpt"
      }
    },
    {
      "cell_type": "code",
      "execution_count": null,
      "outputs": [
        {
          "data": {
            "text/plain": "<tf.Tensor: shape=(3,), dtype=float32, numpy=array([1., 2., 3.], dtype=float32)>"
          },
          "execution_count": 213,
          "metadata": {},
          "output_type": "execute_result"
        }
      ],
      "source": [
        "# example\n",
        "tf.reduce_min(matrix,axis=0)"
      ],
      "metadata": {
        "id": "SPeqbiIbsnpt",
        "outputId": "d1e49a2e-1032-4c77-a1b3-06dbfa09155b"
      }
    },
    {
      "cell_type": "markdown",
      "source": [
        "### `tf.math.reduce_prod()`: Computes the product of elements along specified axes."
      ],
      "metadata": {
        "collapsed": false,
        "id": "2FMK0-HLsnpt"
      }
    },
    {
      "cell_type": "code",
      "execution_count": null,
      "outputs": [
        {
          "data": {
            "text/plain": "<tf.Tensor: shape=(3,), dtype=float32, numpy=array([  6., 120., 504.], dtype=float32)>"
          },
          "execution_count": 220,
          "metadata": {},
          "output_type": "execute_result"
        }
      ],
      "source": [
        "tf.math.reduce_prod(matrix,axis=1)"
      ],
      "metadata": {
        "id": "1T0_FKx6snpt",
        "outputId": "412fd3b7-d710-40fe-fb2d-7f6ff06bc086"
      }
    },
    {
      "cell_type": "markdown",
      "source": [
        "### `tf.math.reduce_mean()`: Computes the mean of elements along specified axes."
      ],
      "metadata": {
        "collapsed": false,
        "id": "UTKj2Tyqsnpu"
      }
    },
    {
      "cell_type": "code",
      "execution_count": null,
      "outputs": [
        {
          "data": {
            "text/plain": "<tf.Tensor: shape=(3,), dtype=float32, numpy=array([2., 5., 8.], dtype=float32)>"
          },
          "execution_count": 221,
          "metadata": {},
          "output_type": "execute_result"
        }
      ],
      "source": [
        "tf.math.reduce_mean(matrix,axis=1)"
      ],
      "metadata": {
        "id": "go37QYvVsnpu",
        "outputId": "25fc8329-aedf-4ade-e8ba-9dfb338c1d48"
      }
    },
    {
      "cell_type": "markdown",
      "source": [
        "- `tf.reduce_all`(input_tensor, axis=None, keepdims=False, name=None): Computes the logical AND across dimensions of a boolean tensor.\n",
        "\n",
        "- `tf.reduce_any`(input_tensor, axis=None, keepdims=False, name=None): Computes the logical OR across dimensions of a boolean tensor.\n",
        "\n",
        "- `tf.reduce_logsumexp`(input_tensor, axis=None, keepdims=False, name=None): Computes the logarithm of the sum of exponentials of elements across dimensions of a tensor.\n",
        "\n",
        "- `tf.reduce_variance`(input_tensor, axis=None, keepdims=False, name=None): Computes the variance of elements across dimensions of a tensor.\n",
        "\n",
        "- `tf.reduce_std`(input_tensor, axis=None, keepdims=False, name=None): Computes the standard deviation of elements across dimensions of a tensor."
      ],
      "metadata": {
        "collapsed": false,
        "id": "_a_u2Gswsnpu"
      }
    },
    {
      "cell_type": "markdown",
      "source": [
        "## Activation Functions"
      ],
      "metadata": {
        "collapsed": false,
        "id": "kKJtknmQsnpu"
      }
    },
    {
      "cell_type": "markdown",
      "source": [
        "#### sigmoid"
      ],
      "metadata": {
        "collapsed": false,
        "id": "v9xgEqblsnpu"
      }
    },
    {
      "cell_type": "code",
      "execution_count": null,
      "outputs": [
        {
          "name": "stdout",
          "output_type": "stream",
          "text": [
            "[  23.  -23.  -23.   -4.   23.   -3.   -3.   -1. -534.   23.  -23.   19.]\n"
          ]
        }
      ],
      "source": [
        "x=tf.cast(x,dtype=tf.float64)\n",
        "tf.math.sigmoid(x)\n",
        "print(np.round(x))"
      ],
      "metadata": {
        "id": "qWoYp7BNsnpv",
        "outputId": "82b37f05-4127-440b-c504-4bc1a6423ee7"
      }
    },
    {
      "cell_type": "markdown",
      "source": [
        "#### tanh"
      ],
      "metadata": {
        "collapsed": false,
        "id": "XoUdqjRQsnpv"
      }
    },
    {
      "cell_type": "code",
      "execution_count": null,
      "outputs": [
        {
          "name": "stdout",
          "output_type": "stream",
          "text": [
            "[ 1.     -1.     -1.     -0.9993  1.     -0.9951 -0.9951 -0.7616 -1.\n",
            "  1.     -1.      1.    ]\n"
          ]
        }
      ],
      "source": [
        "z=tf.math.tanh(x)\n",
        "print(np.round(z,4))"
      ],
      "metadata": {
        "id": "NDxIjiiwsnpv",
        "outputId": "ca8a1fd2-8e95-43ae-dcf0-ee3886b6199d"
      }
    },
    {
      "cell_type": "markdown",
      "source": [
        "### ReLU"
      ],
      "metadata": {
        "collapsed": false,
        "id": "1OTQDyrFsnpv"
      }
    },
    {
      "cell_type": "code",
      "execution_count": null,
      "outputs": [
        {
          "name": "stdout",
          "output_type": "stream",
          "text": [
            "tf.Tensor([23.  0.  0.  0. 23.  0.  0.  0.  0. 23.  0. 19.], shape=(12,), dtype=float64)\n"
          ]
        }
      ],
      "source": [
        "relu=tf.nn.relu(x)\n",
        "print(relu)"
      ],
      "metadata": {
        "id": "pdTsD5Bysnpw",
        "outputId": "a0d34cd0-95c9-49e3-f759-6c1ee006760e"
      }
    },
    {
      "cell_type": "markdown",
      "source": [
        "### softmax"
      ],
      "metadata": {
        "collapsed": false,
        "id": "8wMEUHgesnpw"
      }
    },
    {
      "cell_type": "code",
      "execution_count": null,
      "outputs": [
        {
          "name": "stdout",
          "output_type": "stream",
          "text": [
            "tf.Tensor(\n",
            "[3.31310611e-001 3.48890528e-021 3.48890528e-021 6.22707842e-013\n",
            " 3.31310611e-001 1.69269541e-012 1.69269541e-012 1.25074213e-011\n",
            " 4.15153712e-243 3.31310611e-001 3.48890528e-021 6.06816552e-003], shape=(12,), dtype=float64)\n"
          ]
        }
      ],
      "source": [
        "soft=tf.nn.softmax(x)\n",
        "print(soft)"
      ],
      "metadata": {
        "id": "YN4Tx1aCsnpw",
        "outputId": "a2a2731f-f8cb-406c-998a-6d78b0c35aeb"
      }
    },
    {
      "cell_type": "markdown",
      "source": [],
      "metadata": {
        "collapsed": false,
        "id": "AG5ecXDrsnpx"
      }
    },
    {
      "cell_type": "markdown",
      "source": [
        "### `tf.math.top_k`:  Top_K values\n",
        "> find the values and indices of the k largest elements along a specified axis in a tensor. It returns a tuple containing two tensors: the values tensor and the indices tensor."
      ],
      "metadata": {
        "collapsed": false,
        "id": "tq5WxKBpsnpx"
      }
    },
    {
      "cell_type": "code",
      "execution_count": null,
      "outputs": [
        {
          "name": "stdout",
          "output_type": "stream",
          "text": [
            "tf.Tensor([98 87], shape=(2,), dtype=int32) tf.Tensor([1 0], shape=(2,), dtype=int32)\n"
          ]
        }
      ],
      "source": [
        "values, indices = tf.math.top_k(vec, k=2, sorted=True, name=None)# top 2 values in vec\n",
        "print(values,indices)"
      ],
      "metadata": {
        "id": "AyEjjXWxsnpx",
        "outputId": "bbd51036-ad4c-4e0a-df43-4363f96f3db0"
      }
    },
    {
      "cell_type": "markdown",
      "source": [
        "## Linear Algebra"
      ],
      "metadata": {
        "collapsed": false,
        "id": "e2xcfK0gsnpx"
      }
    },
    {
      "cell_type": "markdown",
      "source": [
        "## `tf.linalg.matmul`: Matrix Multiplication\n",
        "\n",
        "- `transpose_a` and `transpose_b`: These are boolean flags that specify whether to transpose the respective input tensors m and n before multiplication. I\n",
        "\n",
        "    - If set to True, the corresponding tensor will be transposed. In your code, both are set to False, which means no transposition will be performed.\n",
        "\n",
        "- `adjoint_a` and `adjoint_b`: These are boolean flags similar to transpose_a and transpose_b, but instead of transposing,\n",
        "\n",
        "    - they indicate whether to take the adjoint (conjugate transpose) of the respective tensors. By default, both are set to False.\n",
        "\n",
        "- `a_is_sparse` and `b_is_sparse`: These are boolean flags that specify whether the input tensors m and n are sparse tensors.\n",
        "\n",
        "    - If set to True, the corresponding tensor is considered sparse. In your code, both are set to False, indicating that the tensors are dense.\n",
        "\n",
        "- `output_type`: This parameter specifies the data type of the resulting tensor.\n",
        "\n",
        "    - If not specified (set to None), the data type is inferred based on the input tensors.\n",
        "\n",
        "- `name`: An optional name for the operation."
      ],
      "metadata": {
        "collapsed": false,
        "id": "Qx47fQZdsnpx"
      }
    },
    {
      "cell_type": "code",
      "execution_count": null,
      "outputs": [],
      "source": [
        "m=tf.reshape(x,(3,4))\n",
        "n=tf.reshape(a,(4,3))\n",
        "m=tf.cast(m,dtype=tf.int32)"
      ],
      "metadata": {
        "id": "FZiy8FAqsnpx"
      }
    },
    {
      "cell_type": "code",
      "execution_count": null,
      "outputs": [
        {
          "name": "stdout",
          "output_type": "stream",
          "text": [
            "tf.Tensor(\n",
            "[[ -135  -108  -135]\n",
            " [   60    84    60]\n",
            " [-2018 -2617 -2018]], shape=(3, 3), dtype=int32)\n"
          ]
        }
      ],
      "source": [
        "matmul=tf.linalg.matmul(m,n,transpose_a=False,transpose_b=False,adjoint_a=False,adjoint_b=False,a_is_sparse=False,b_is_sparse=False,output_type=None,name=None)\n",
        "print(matmul)"
      ],
      "metadata": {
        "id": "iIL_CcM2snpy",
        "outputId": "6149ea9b-ba5e-427d-f575-b988a5db3378"
      }
    },
    {
      "cell_type": "code",
      "execution_count": null,
      "outputs": [
        {
          "name": "stdout",
          "output_type": "stream",
          "text": [
            "tf.Tensor(\n",
            "[[ -135  -108  -135]\n",
            " [   60    84    60]\n",
            " [-2018 -2617 -2018]], shape=(3, 3), dtype=int32)\n"
          ]
        }
      ],
      "source": [
        "# method 2 of matmul\n",
        "matmul=m@n\n",
        "print(matmul)"
      ],
      "metadata": {
        "id": "qttWlQTdsnpy",
        "outputId": "28198fd3-918f-4a7e-ecf0-321570ad4e89"
      }
    },
    {
      "cell_type": "markdown",
      "source": [
        "### `tf.linalg.matrix_transpose` or `tf.transpose`: find transpose of tensor"
      ],
      "metadata": {
        "collapsed": false,
        "id": "kO-jBqLgsnpy"
      }
    },
    {
      "cell_type": "code",
      "execution_count": null,
      "outputs": [
        {
          "name": "stdout",
          "output_type": "stream",
          "text": [
            "tf.Tensor(\n",
            "[[  23   23 -534]\n",
            " [ -23   -3   23]\n",
            " [ -23   -3  -23]\n",
            " [  -4   -1   19]], shape=(4, 3), dtype=int32)\n",
            "tf.Tensor(\n",
            "[[  1603    671 -12358]\n",
            " [   671    548 -12301]\n",
            " [-12358 -12301 286575]], shape=(3, 3), dtype=int32)\n"
          ]
        }
      ],
      "source": [
        "# transpose\n",
        "print(tf.transpose(m)) # lowercase t in transpose\n",
        "print(m@tf.transpose(m))"
      ],
      "metadata": {
        "id": "0_BWhrc-snpy",
        "outputId": "636acc8a-5a8b-4bcb-af9c-b0ac833b0c7e"
      }
    },
    {
      "cell_type": "markdown",
      "source": [
        "### `tf.lingalg.band_part`: used to extract a specific band or diagonal from a matrix. It allows you to set all elements outside the desired band or diagonal to zero.\n",
        "\n",
        "- *input*: The input tensor from which the band or diagonal is extracted.\n",
        "\n",
        "- *num_lower*: An integer representing the number of lower diagonals to keep. Diagonals below this value will be set to zero.\n",
        "\n",
        "- *num_upper*: An integer representing the number of upper diagonals to keep. Diagonals above this value will be set to zero.\n",
        "\n",
        "- *name* (optional): A name for the operation.\n",
        "\n",
        "\n"
      ],
      "metadata": {
        "collapsed": false,
        "id": "8rS-L-DLsnpy"
      }
    },
    {
      "cell_type": "code",
      "execution_count": null,
      "outputs": [
        {
          "name": "stdout",
          "output_type": "stream",
          "text": [
            "Diagonal:\n",
            "tf.Tensor(\n",
            "[[1 0 0]\n",
            " [0 5 0]\n",
            " [0 0 9]], shape=(3, 3), dtype=int32)\n",
            "Upper Triangle:\n",
            "tf.Tensor(\n",
            "[[1 2 3]\n",
            " [0 5 6]\n",
            " [0 0 9]], shape=(3, 3), dtype=int32)\n",
            "Lower Triangle:\n",
            "tf.Tensor(\n",
            "[[1 0 0]\n",
            " [4 5 0]\n",
            " [7 8 9]], shape=(3, 3), dtype=int32)\n",
            "Band:\n",
            "tf.Tensor(\n",
            "[[1 2 0]\n",
            " [4 5 6]\n",
            " [0 8 9]], shape=(3, 3), dtype=int32)\n"
          ]
        }
      ],
      "source": [
        "import tensorflow as tf\n",
        "\n",
        "# Create a matrix\n",
        "matrix=tf.constant([[1,2,3],[4,5,6],[7,8,9]])\n",
        "\n",
        "# Extract the main diagonal\n",
        "diagonal=tf.linalg.band_part(matrix,0,0)\n",
        "\n",
        "# Extract the upper triangle\n",
        "upper_triangle=tf.linalg.band_part(matrix,0,-1)\n",
        "\n",
        "# Extract the lower triangle\n",
        "lower_triangle=tf.linalg.band_part(matrix,-1,0)\n",
        "\n",
        "# Extract a band around the main diagonal\n",
        "band=tf.linalg.band_part(matrix,1,1)\n",
        "\n",
        "print(\"Diagonal:\")\n",
        "print(diagonal)\n",
        "\n",
        "print(\"Upper Triangle:\")\n",
        "print(upper_triangle)\n",
        "\n",
        "print(\"Lower Triangle:\")\n",
        "print(lower_triangle)\n",
        "\n",
        "print(\"Band:\")\n",
        "print(band)\n"
      ],
      "metadata": {
        "id": "Pgp9mgqWsnpy",
        "outputId": "94de3376-0f0c-407e-c7ed-42b742a8d419"
      }
    },
    {
      "cell_type": "code",
      "execution_count": null,
      "outputs": [
        {
          "name": "stdout",
          "output_type": "stream",
          "text": [
            "tf.Tensor([1 5 9], shape=(3,), dtype=int32)\n"
          ]
        }
      ],
      "source": [
        "# another way to do this\n",
        "\n",
        "# Create a matrix\n",
        "matrix=tf.constant([[1,2,3],[4,5,6],[7,8,9]])\n",
        "\n",
        "# Extract the main diagonal\n",
        "diagonal=tf.linalg.diag_part(matrix)\n",
        "print(diagonal)"
      ],
      "metadata": {
        "id": "fXT7xHpQsnpz",
        "outputId": "b894efe0-7352-40c7-a457-80e34ac6a49d"
      }
    },
    {
      "cell_type": "code",
      "execution_count": null,
      "outputs": [
        {
          "data": {
            "text/plain": "<tf.Tensor: shape=(3, 3), dtype=int32, numpy=\narray([[1, 0, 0],\n       [0, 5, 0],\n       [0, 0, 9]], dtype=int32)>"
          },
          "execution_count": 179,
          "metadata": {},
          "output_type": "execute_result"
        }
      ],
      "source": [
        "tf.linalg.band_part(matrix,0,0)"
      ],
      "metadata": {
        "id": "fX1Pp-59snpz",
        "outputId": "4307d9c7-67d4-4c02-e430-668692d63f97"
      }
    },
    {
      "cell_type": "markdown",
      "source": [
        "### `tf.linalg.svd`: Singular Value Decomposition\n",
        "\n",
        " > matrix factorization technique used in linear algebra. It decomposes a matrix into three constituent matrices, providing useful insights into the properties and structure of the original matrix.\n",
        "\n",
        "Given a matrix A, the SVD factorizes it as follows:\n",
        "\n",
        "**`A = U * S * V^T`** where:\n",
        "\n",
        "- U is an orthogonal matrix (U^T * U = U * U^T = I), representing the left singular vectors of A.\n",
        "- S is a diagonal matrix containing the singular values of A.\n",
        "- V^T is the transpose of an orthogonal matrix V, representing the right singular vectors of A.\n",
        "\n",
        "\n",
        "The singular values in S are non-negative and arranged in descending order along the diagonal.\n",
        "The singular vectors in U and V are unit vectors that form an orthonormal basis for the column and row spaces of A, respectively.\n",
        "<br>\n",
        "<hr>\n",
        "<br>\n",
        "In tensorflow, it's like following"
      ],
      "metadata": {
        "collapsed": false,
        "id": "ptXyKTnFsnpz"
      }
    },
    {
      "cell_type": "code",
      "execution_count": null,
      "outputs": [
        {
          "name": "stdout",
          "output_type": "stream",
          "text": [
            "tf.Tensor([1.6848103e+01 1.0683696e+00 2.8763120e-07], shape=(3,), dtype=float32) tf.Tensor(\n",
            "[[ 0.21483716  0.8872305  -0.40824857]\n",
            " [ 0.5205872   0.24964423  0.8164965 ]\n",
            " [ 0.8263376  -0.3879429  -0.4082481 ]], shape=(3, 3), dtype=float32) tf.Tensor(\n",
            "[[ 0.47967106 -0.77669096  0.40824836]\n",
            " [ 0.5723676  -0.07568647 -0.81649655]\n",
            " [ 0.6650643   0.62531805  0.40824822]], shape=(3, 3), dtype=float32)\n"
          ]
        }
      ],
      "source": [
        "matrix=tf.cast(matrix,dtype=tf.float32)\n",
        "s,u,v=tf.linalg.svd(matrix)\n",
        "print(s,u,v)"
      ],
      "metadata": {
        "id": "ZYCVHVpesnpz",
        "outputId": "5b1bc933-f8d0-40a4-c808-3500c2d8bf1c"
      }
    },
    {
      "cell_type": "markdown",
      "source": [
        "- matrix is a rank 2 tensor\n",
        "- s is a tensor of singular values\n",
        "- u is a tensor of left singular values\n",
        "- v is a tensor of right singular values"
      ],
      "metadata": {
        "collapsed": false,
        "id": "k6D3GdXBsnpz"
      }
    },
    {
      "cell_type": "markdown",
      "source": [
        "### `tf.linalg.trance`: Compute the trance of a tensor\n",
        "> The trace of a tensor is a scalar value that represents the sum of the elements along the leading diagonal of the tensor"
      ],
      "metadata": {
        "collapsed": false,
        "id": "qcLmOszasnpz"
      }
    },
    {
      "cell_type": "code",
      "execution_count": null,
      "outputs": [
        {
          "data": {
            "text/plain": "<tf.Tensor: shape=(), dtype=float32, numpy=15.0>"
          },
          "execution_count": 199,
          "metadata": {},
          "output_type": "execute_result"
        }
      ],
      "source": [
        "tf.linalg.trace(matrix, name=None)"
      ],
      "metadata": {
        "id": "nGqNiV85snpz",
        "outputId": "156f7720-7289-4631-e3ff-e3439e693dd5"
      }
    },
    {
      "cell_type": "markdown",
      "source": [],
      "metadata": {
        "collapsed": false,
        "id": "rkqeoAh3snp0"
      }
    },
    {
      "cell_type": "markdown",
      "source": [
        "### `tf.linalg.det()`: Compute the determinant of Tensor\n",
        "> The determinant represents a scalar value that characterizes certain properties of the matrix."
      ],
      "metadata": {
        "collapsed": false,
        "id": "ckiYQuNAsnp0"
      }
    },
    {
      "cell_type": "code",
      "execution_count": null,
      "outputs": [
        {
          "data": {
            "text/plain": "<tf.Tensor: shape=(), dtype=float32, numpy=0.0>"
          },
          "execution_count": 208,
          "metadata": {},
          "output_type": "execute_result"
        }
      ],
      "source": [
        "tf.linalg.det(matrix) # only works with sq matrices"
      ],
      "metadata": {
        "id": "vK9qwz12snp0",
        "outputId": "543a4396-34da-4335-e2a3-54bb675fcfb2"
      }
    },
    {
      "cell_type": "markdown",
      "source": [
        "## `tf.linalg.inv()`: Inverse of a matrix\n",
        "only works if the vector is non-singular, ie it's determinant is non-zero scalar value."
      ],
      "metadata": {
        "collapsed": false,
        "id": "ch0potphsnp0"
      }
    },
    {
      "cell_type": "code",
      "execution_count": null,
      "outputs": [
        {
          "data": {
            "text/plain": "<tf.Tensor: shape=(3, 3, 4, 4), dtype=float32, numpy=\narray([[[[-2.05815569e-01, -1.29703033e+00, -1.11068416e+00,\n           1.78049469e+00],\n         [ 2.15837717e+00, -3.34651923e+00,  1.34968305e+00,\n          -5.27091086e-01],\n         [ 4.27619457e-01,  2.09197998e+00,  2.81985492e-01,\n          -1.03872073e+00],\n         [-2.52408981e+00,  2.21167827e+00, -4.18799311e-01,\n           1.18505669e+00]],\n\n        [[-7.97803044e-01,  4.27582145e-01,  3.50974530e-01,\n           6.86855137e-01],\n         [ 9.01733100e-01,  2.45475078e+00, -5.16888237e+00,\n           2.85957766e+00],\n         [ 1.82960719e-01, -1.54897118e+00,  1.89441836e+00,\n          -2.15974644e-01],\n         [ 2.99410671e-01, -2.91068345e-01,  1.79613078e+00,\n          -1.94421065e+00]],\n\n        [[-2.28429294e+00,  1.45817912e+00, -1.34051764e+00,\n           2.33748531e+00],\n         [ 1.14468895e-01, -4.44002360e-01,  1.51055419e+00,\n           9.43744257e-02],\n         [ 4.77475929e+00, -5.60140753e+00,  2.03320241e+00,\n           2.54008627e+00],\n         [-4.78099871e+00,  7.81662464e+00, -3.43817282e+00,\n          -4.32991600e+00]]],\n\n\n       [[[ 1.94296665e+01,  3.03827572e+01, -1.50665569e+01,\n          -2.01147594e+01],\n         [-2.92424927e+01, -4.31166229e+01,  2.24905910e+01,\n           3.00043182e+01],\n         [ 2.34773712e+01,  3.32801895e+01, -1.82290154e+01,\n          -2.21389599e+01],\n         [-1.96941490e+01, -3.07788563e+01,  1.68180828e+01,\n           2.02769146e+01]],\n\n        [[ 9.23175395e-01,  1.72224784e+00, -1.31679606e+00,\n          -1.47141609e-02],\n         [-3.62926900e-01,  3.08652592e+00, -1.61961596e-02,\n          -1.91786781e-01],\n         [-1.11462533e+00, -9.87301469e-01,  7.50147462e-01,\n           1.40790141e+00],\n         [ 5.45947194e-01, -1.96413541e+00,  1.23301280e+00,\n          -4.70680624e-01]],\n\n        [[ 4.93948579e-01, -6.69798777e-02,  8.00692320e-01,\n          -9.60534692e-01],\n         [ 5.61972022e-01, -8.51822913e-01, -5.37212014e-01,\n           1.58289957e+00],\n         [ 3.01830560e-01,  1.48337281e+00, -3.71124119e-01,\n          -1.30459905e+00],\n         [-8.31687272e-01,  4.09697920e-01,  6.87688828e-01,\n           7.48637021e-02]]],\n\n\n       [[[-2.63947994e-01,  9.63464975e-02, -2.83239126e-01,\n           1.32634962e+00],\n         [ 9.61700261e-01, -1.76295459e+00,  3.37039852e+00,\n          -1.23031723e+00],\n         [ 2.18541455e+00, -2.59898752e-01,  1.45906210e-01,\n          -1.43059349e+00],\n         [-1.72995222e+00,  2.88459992e+00, -1.77938199e+00,\n          -2.68410653e-01]],\n\n        [[ 2.62370914e-01,  1.38981545e+00,  2.65582502e-01,\n          -7.81717539e-01],\n         [-9.16231513e-01,  1.82375443e+00, -1.51026356e+00,\n           1.55886078e+00],\n         [ 1.47732735e+00, -2.20143580e+00,  5.18636167e-01,\n          -8.44175443e-02],\n         [-1.25432456e+00,  7.61962175e-01,  7.05311000e-01,\n           3.38569850e-01]],\n\n        [[ 1.30479097e+01,  1.53498611e+01, -9.33269787e+00,\n          -1.08350067e+01],\n         [-2.56586939e-01,  2.48521328e+00, -1.18942845e+00,\n           4.49494869e-01],\n         [-1.33429365e+01, -1.72604733e+01,  1.00361090e+01,\n           1.22661018e+01],\n         [ 1.33275717e-01, -3.03654194e-01,  1.31454372e+00,\n          -9.31467474e-01]]]], dtype=float32)>"
          },
          "execution_count": 207,
          "metadata": {},
          "output_type": "execute_result"
        }
      ],
      "source": [
        "newarr=tf.random.uniform([3,3,4,4],dtype=tf.float32)\n",
        "tf.linalg.inv(newarr) # only works with sq matrices\n",
        "# that are non-singular"
      ],
      "metadata": {
        "id": "HsRbzUjZsnp0",
        "outputId": "81c2eef5-8cf0-4b4c-d3b6-35d05cff9b9f"
      }
    },
    {
      "cell_type": "markdown",
      "source": [
        "### `tf.linalg.ein()`: EigenVectors and EigenValues\n"
      ],
      "metadata": {
        "collapsed": false,
        "id": "pwAE3y8_snp0"
      }
    },
    {
      "cell_type": "code",
      "execution_count": null,
      "outputs": [
        {
          "name": "stdout",
          "output_type": "stream",
          "text": [
            "tf.Tensor([-0.37228122+0.j  5.372281  +0.j], shape=(2,), dtype=complex64) tf.Tensor(\n",
            "[[-0.8245648 +0.j -0.4159736 +0.j]\n",
            " [ 0.56576747+0.j -0.9093768 +0.j]], shape=(2, 2), dtype=complex64)\n"
          ]
        }
      ],
      "source": [
        "matrix=tf.constant([[1.0,2.0],[3.0,4.0]],dtype=tf.float32)\n",
        "\n",
        "# Compute eigenvalues and eigenvectors\n",
        "eigenvalues,eigenvectors=tf.linalg.eig(matrix)\n",
        "print(eigenvalues,eigenvectors)"
      ],
      "metadata": {
        "id": "UT1YKqVxsnp0",
        "outputId": "f36f15f5-f518-4c0f-ccf1-192dbd81cc4e"
      }
    },
    {
      "cell_type": "markdown",
      "source": [
        "###  `tf.linalg.cross`: Compute the pairwise cross product"
      ],
      "metadata": {
        "collapsed": false,
        "id": "sYAIvoQSsnp0"
      }
    },
    {
      "cell_type": "code",
      "execution_count": null,
      "outputs": [
        {
          "data": {
            "text/plain": "<tf.Tensor: shape=(3,), dtype=int32, numpy=array([0, 0, 0], dtype=int32)>"
          },
          "execution_count": 233,
          "metadata": {},
          "output_type": "execute_result"
        }
      ],
      "source": [
        "e=tf.constant([123,3,34])\n",
        "r=tf.constant([23,34,23])\n",
        "\n",
        "tf.linalg.cross(r,r)"
      ],
      "metadata": {
        "id": "K7lAQ8Ihsnp1",
        "outputId": "50b86cc0-e6a5-474a-a1d6-9c71de1627cd"
      }
    }
  ]
}