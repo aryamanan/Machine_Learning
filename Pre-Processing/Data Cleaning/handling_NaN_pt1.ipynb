{
  "cells": [
    {
      "cell_type": "markdown",
      "source": [
        "# Handling Missing/NaN values with Pandas pt1\n",
        "\n",
        "##### Handling missing or NaN values in a dataframe is an important step in the data preprocessing stage before applying machine learning (ML) models\n",
        "\n",
        "##### This is because most ML algorithms cannot handle missing values directly. Here are a few reasons why missing values should be handled before applying ML models:\n",
        "\n",
        "- `NaN values can cause errors:` Most ML algorithms cannot handle missing values, so if there are any NaN values present in the data, the algorithm will throw an error.\n",
        "- `NaN values can impact the quality of results:` If NaN values are present in the data, they can impact the quality of results produced by the ML algorithm. For example, if there are many NaN values in a particular feature or column, it may not be included in the final model, even though it may have been an important feature.\n",
        "- `NaN values can cause bias:` If NaN values are not handled properly, they can cause bias in the data, which can lead to incorrect or biased results from the ML algorithm."
      ],
      "metadata": {
        "collapsed": false,
        "id": "7_LyC0dYasMh"
      },
      "id": "7_LyC0dYasMh"
    },
    {
      "cell_type": "code",
      "execution_count": 1,
      "outputs": [],
      "source": [
        "import pandas as pd\n",
        "import numpy as np\n",
        "import matplotlib.pyplot as plt"
      ],
      "metadata": {
        "id": "aViMeqq0asMj"
      },
      "id": "aViMeqq0asMj"
    },
    {
      "cell_type": "markdown",
      "source": [
        "# Pandas Dataframe:\n",
        "It is a data-structure supposed to store tabular data like a spreadsheet or SQL table and perform manipulationd. Pandas is designed to treat data in a tabular format, where rows represent observations and columns represent variables."
      ],
      "metadata": {
        "collapsed": false,
        "id": "hYpHtn7EasMk"
      },
      "id": "hYpHtn7EasMk"
    },
    {
      "cell_type": "code",
      "execution_count": 4,
      "outputs": [],
      "source": [
        "# creating a sample dataframe using python dictionary\n",
        "df=pd.DataFrame({\n",
        "    \"colA\":[None,4,None,8,9,3],\n",
        "    \"colB\":['Dog','Cat',None,'Cat','Dog','Horse'],\n",
        "    \"colC\":[None,None,None,None,None,None],\n",
        "    \"colD\":[0,4,None,7,8,4],\n",
        "    \"colE\":[None,2,None,None,1,None]\n",
        "})"
      ],
      "metadata": {
        "id": "FLE6ftA0asMk"
      },
      "id": "FLE6ftA0asMk"
    },
    {
      "cell_type": "markdown",
      "source": [
        "##### Remember: Dataframe in pandas needs the column arrays to all be of same length/size, otherwise datafrane is invalid"
      ],
      "metadata": {
        "collapsed": false,
        "id": "r3oC1HVkasMl"
      },
      "id": "r3oC1HVkasMl"
    },
    {
      "cell_type": "code",
      "execution_count": 5,
      "outputs": [
        {
          "output_type": "execute_result",
          "data": {
            "text/plain": [
              "Index(['colA', 'colB', 'colC', 'colD', 'colE'], dtype='object')"
            ]
          },
          "metadata": {},
          "execution_count": 5
        }
      ],
      "source": [
        "df.columns # gives a string list of all the columns in dataframe"
      ],
      "metadata": {
        "colab": {
          "base_uri": "https://localhost:8080/"
        },
        "id": "xZBXYMSfasMl",
        "outputId": "563d19a2-c198-4793-f02e-403181370b72"
      },
      "id": "xZBXYMSfasMl"
    },
    {
      "cell_type": "code",
      "execution_count": 6,
      "outputs": [
        {
          "output_type": "execute_result",
          "data": {
            "text/plain": [
              "30"
            ]
          },
          "metadata": {},
          "execution_count": 6
        }
      ],
      "source": [
        "df.size # returns the no of elements in df"
      ],
      "metadata": {
        "colab": {
          "base_uri": "https://localhost:8080/"
        },
        "id": "2CR8R4RxasMm",
        "outputId": "86266007-08a9-42b7-9777-d262597e8e50"
      },
      "id": "2CR8R4RxasMm"
    },
    {
      "cell_type": "code",
      "execution_count": 7,
      "outputs": [
        {
          "output_type": "execute_result",
          "data": {
            "text/plain": [
              "(6, 5)"
            ]
          },
          "metadata": {},
          "execution_count": 7
        }
      ],
      "source": [
        "df.shape # returns (no of rows x no of columns)"
      ],
      "metadata": {
        "colab": {
          "base_uri": "https://localhost:8080/"
        },
        "id": "26KvqnabasMm",
        "outputId": "20ba7a5c-63c9-427a-8ab3-48293073f39f"
      },
      "id": "26KvqnabasMm"
    },
    {
      "cell_type": "markdown",
      "source": [
        "##### IMPORTANT: size and shape are attributes not methods, so no paranthesis needed"
      ],
      "metadata": {
        "collapsed": false,
        "id": "Mc-UJJi1asMn"
      },
      "id": "Mc-UJJi1asMn"
    },
    {
      "cell_type": "code",
      "execution_count": 8,
      "outputs": [
        {
          "output_type": "execute_result",
          "data": {
            "text/plain": [
              "6"
            ]
          },
          "metadata": {},
          "execution_count": 8
        }
      ],
      "source": [
        "df.shape[0] # returns no of elements in 0th column (but the column index here is irrelevant since all columns have same size)"
      ],
      "metadata": {
        "colab": {
          "base_uri": "https://localhost:8080/"
        },
        "id": "t2zRH-j4asMn",
        "outputId": "cbd040b9-fe21-42f7-a1db-64d2a9559921"
      },
      "id": "t2zRH-j4asMn"
    },
    {
      "cell_type": "code",
      "execution_count": 9,
      "outputs": [
        {
          "output_type": "stream",
          "name": "stdout",
          "text": [
            "   colA   colB  colC  colD  colE\n",
            "0   NaN    Dog  None   0.0   NaN\n",
            "1   4.0    Cat  None   4.0   2.0\n",
            "2   NaN   None  None   NaN   NaN\n",
            "3   8.0    Cat  None   7.0   NaN\n",
            "4   9.0    Dog  None   8.0   1.0\n",
            "5   3.0  Horse  None   4.0   NaN\n"
          ]
        }
      ],
      "source": [
        "print(df)"
      ],
      "metadata": {
        "colab": {
          "base_uri": "https://localhost:8080/"
        },
        "id": "lTTMecOTasMn",
        "outputId": "58604e1e-beb7-4104-f42e-047d73ded1c4"
      },
      "id": "lTTMecOTasMn"
    },
    {
      "cell_type": "markdown",
      "source": [
        "### `isna()` and `isnull()` command achieve the same things, ie mask the dataframe with boolean values where every NaN is True and non NaN values are false"
      ],
      "metadata": {
        "collapsed": false,
        "id": "Rup30ysnasMo"
      },
      "id": "Rup30ysnasMo"
    },
    {
      "cell_type": "code",
      "execution_count": 10,
      "outputs": [
        {
          "output_type": "execute_result",
          "data": {
            "text/plain": [
              "    colA   colB  colC   colD   colE\n",
              "0   True  False  True  False   True\n",
              "1  False  False  True  False  False\n",
              "2   True   True  True   True   True\n",
              "3  False  False  True  False   True\n",
              "4  False  False  True  False  False\n",
              "5  False  False  True  False   True"
            ],
            "text/html": [
              "\n",
              "  <div id=\"df-907f11ac-2af2-48a7-9576-89e9535e5a54\">\n",
              "    <div class=\"colab-df-container\">\n",
              "      <div>\n",
              "<style scoped>\n",
              "    .dataframe tbody tr th:only-of-type {\n",
              "        vertical-align: middle;\n",
              "    }\n",
              "\n",
              "    .dataframe tbody tr th {\n",
              "        vertical-align: top;\n",
              "    }\n",
              "\n",
              "    .dataframe thead th {\n",
              "        text-align: right;\n",
              "    }\n",
              "</style>\n",
              "<table border=\"1\" class=\"dataframe\">\n",
              "  <thead>\n",
              "    <tr style=\"text-align: right;\">\n",
              "      <th></th>\n",
              "      <th>colA</th>\n",
              "      <th>colB</th>\n",
              "      <th>colC</th>\n",
              "      <th>colD</th>\n",
              "      <th>colE</th>\n",
              "    </tr>\n",
              "  </thead>\n",
              "  <tbody>\n",
              "    <tr>\n",
              "      <th>0</th>\n",
              "      <td>True</td>\n",
              "      <td>False</td>\n",
              "      <td>True</td>\n",
              "      <td>False</td>\n",
              "      <td>True</td>\n",
              "    </tr>\n",
              "    <tr>\n",
              "      <th>1</th>\n",
              "      <td>False</td>\n",
              "      <td>False</td>\n",
              "      <td>True</td>\n",
              "      <td>False</td>\n",
              "      <td>False</td>\n",
              "    </tr>\n",
              "    <tr>\n",
              "      <th>2</th>\n",
              "      <td>True</td>\n",
              "      <td>True</td>\n",
              "      <td>True</td>\n",
              "      <td>True</td>\n",
              "      <td>True</td>\n",
              "    </tr>\n",
              "    <tr>\n",
              "      <th>3</th>\n",
              "      <td>False</td>\n",
              "      <td>False</td>\n",
              "      <td>True</td>\n",
              "      <td>False</td>\n",
              "      <td>True</td>\n",
              "    </tr>\n",
              "    <tr>\n",
              "      <th>4</th>\n",
              "      <td>False</td>\n",
              "      <td>False</td>\n",
              "      <td>True</td>\n",
              "      <td>False</td>\n",
              "      <td>False</td>\n",
              "    </tr>\n",
              "    <tr>\n",
              "      <th>5</th>\n",
              "      <td>False</td>\n",
              "      <td>False</td>\n",
              "      <td>True</td>\n",
              "      <td>False</td>\n",
              "      <td>True</td>\n",
              "    </tr>\n",
              "  </tbody>\n",
              "</table>\n",
              "</div>\n",
              "      <button class=\"colab-df-convert\" onclick=\"convertToInteractive('df-907f11ac-2af2-48a7-9576-89e9535e5a54')\"\n",
              "              title=\"Convert this dataframe to an interactive table.\"\n",
              "              style=\"display:none;\">\n",
              "        \n",
              "  <svg xmlns=\"http://www.w3.org/2000/svg\" height=\"24px\"viewBox=\"0 0 24 24\"\n",
              "       width=\"24px\">\n",
              "    <path d=\"M0 0h24v24H0V0z\" fill=\"none\"/>\n",
              "    <path d=\"M18.56 5.44l.94 2.06.94-2.06 2.06-.94-2.06-.94-.94-2.06-.94 2.06-2.06.94zm-11 1L8.5 8.5l.94-2.06 2.06-.94-2.06-.94L8.5 2.5l-.94 2.06-2.06.94zm10 10l.94 2.06.94-2.06 2.06-.94-2.06-.94-.94-2.06-.94 2.06-2.06.94z\"/><path d=\"M17.41 7.96l-1.37-1.37c-.4-.4-.92-.59-1.43-.59-.52 0-1.04.2-1.43.59L10.3 9.45l-7.72 7.72c-.78.78-.78 2.05 0 2.83L4 21.41c.39.39.9.59 1.41.59.51 0 1.02-.2 1.41-.59l7.78-7.78 2.81-2.81c.8-.78.8-2.07 0-2.86zM5.41 20L4 18.59l7.72-7.72 1.47 1.35L5.41 20z\"/>\n",
              "  </svg>\n",
              "      </button>\n",
              "      \n",
              "  <style>\n",
              "    .colab-df-container {\n",
              "      display:flex;\n",
              "      flex-wrap:wrap;\n",
              "      gap: 12px;\n",
              "    }\n",
              "\n",
              "    .colab-df-convert {\n",
              "      background-color: #E8F0FE;\n",
              "      border: none;\n",
              "      border-radius: 50%;\n",
              "      cursor: pointer;\n",
              "      display: none;\n",
              "      fill: #1967D2;\n",
              "      height: 32px;\n",
              "      padding: 0 0 0 0;\n",
              "      width: 32px;\n",
              "    }\n",
              "\n",
              "    .colab-df-convert:hover {\n",
              "      background-color: #E2EBFA;\n",
              "      box-shadow: 0px 1px 2px rgba(60, 64, 67, 0.3), 0px 1px 3px 1px rgba(60, 64, 67, 0.15);\n",
              "      fill: #174EA6;\n",
              "    }\n",
              "\n",
              "    [theme=dark] .colab-df-convert {\n",
              "      background-color: #3B4455;\n",
              "      fill: #D2E3FC;\n",
              "    }\n",
              "\n",
              "    [theme=dark] .colab-df-convert:hover {\n",
              "      background-color: #434B5C;\n",
              "      box-shadow: 0px 1px 3px 1px rgba(0, 0, 0, 0.15);\n",
              "      filter: drop-shadow(0px 1px 2px rgba(0, 0, 0, 0.3));\n",
              "      fill: #FFFFFF;\n",
              "    }\n",
              "  </style>\n",
              "\n",
              "      <script>\n",
              "        const buttonEl =\n",
              "          document.querySelector('#df-907f11ac-2af2-48a7-9576-89e9535e5a54 button.colab-df-convert');\n",
              "        buttonEl.style.display =\n",
              "          google.colab.kernel.accessAllowed ? 'block' : 'none';\n",
              "\n",
              "        async function convertToInteractive(key) {\n",
              "          const element = document.querySelector('#df-907f11ac-2af2-48a7-9576-89e9535e5a54');\n",
              "          const dataTable =\n",
              "            await google.colab.kernel.invokeFunction('convertToInteractive',\n",
              "                                                     [key], {});\n",
              "          if (!dataTable) return;\n",
              "\n",
              "          const docLinkHtml = 'Like what you see? Visit the ' +\n",
              "            '<a target=\"_blank\" href=https://colab.research.google.com/notebooks/data_table.ipynb>data table notebook</a>'\n",
              "            + ' to learn more about interactive tables.';\n",
              "          element.innerHTML = '';\n",
              "          dataTable['output_type'] = 'display_data';\n",
              "          await google.colab.output.renderOutput(dataTable, element);\n",
              "          const docLink = document.createElement('div');\n",
              "          docLink.innerHTML = docLinkHtml;\n",
              "          element.appendChild(docLink);\n",
              "        }\n",
              "      </script>\n",
              "    </div>\n",
              "  </div>\n",
              "  "
            ]
          },
          "metadata": {},
          "execution_count": 10
        }
      ],
      "source": [
        "# check if null values exist in df\n",
        "df.isna()"
      ],
      "metadata": {
        "colab": {
          "base_uri": "https://localhost:8080/",
          "height": 235
        },
        "id": "Hys_l_kIasMo",
        "outputId": "95221239-01fd-4b91-ce3b-7f3d081a7a30"
      },
      "id": "Hys_l_kIasMo"
    },
    {
      "cell_type": "code",
      "execution_count": 11,
      "outputs": [
        {
          "output_type": "execute_result",
          "data": {
            "text/plain": [
              "    colA   colB  colC   colD   colE\n",
              "0   True  False  True  False   True\n",
              "1  False  False  True  False  False\n",
              "2   True   True  True   True   True\n",
              "3  False  False  True  False   True\n",
              "4  False  False  True  False  False\n",
              "5  False  False  True  False   True"
            ],
            "text/html": [
              "\n",
              "  <div id=\"df-ce4d42c2-8498-4d84-bb35-8c7aa8e76880\">\n",
              "    <div class=\"colab-df-container\">\n",
              "      <div>\n",
              "<style scoped>\n",
              "    .dataframe tbody tr th:only-of-type {\n",
              "        vertical-align: middle;\n",
              "    }\n",
              "\n",
              "    .dataframe tbody tr th {\n",
              "        vertical-align: top;\n",
              "    }\n",
              "\n",
              "    .dataframe thead th {\n",
              "        text-align: right;\n",
              "    }\n",
              "</style>\n",
              "<table border=\"1\" class=\"dataframe\">\n",
              "  <thead>\n",
              "    <tr style=\"text-align: right;\">\n",
              "      <th></th>\n",
              "      <th>colA</th>\n",
              "      <th>colB</th>\n",
              "      <th>colC</th>\n",
              "      <th>colD</th>\n",
              "      <th>colE</th>\n",
              "    </tr>\n",
              "  </thead>\n",
              "  <tbody>\n",
              "    <tr>\n",
              "      <th>0</th>\n",
              "      <td>True</td>\n",
              "      <td>False</td>\n",
              "      <td>True</td>\n",
              "      <td>False</td>\n",
              "      <td>True</td>\n",
              "    </tr>\n",
              "    <tr>\n",
              "      <th>1</th>\n",
              "      <td>False</td>\n",
              "      <td>False</td>\n",
              "      <td>True</td>\n",
              "      <td>False</td>\n",
              "      <td>False</td>\n",
              "    </tr>\n",
              "    <tr>\n",
              "      <th>2</th>\n",
              "      <td>True</td>\n",
              "      <td>True</td>\n",
              "      <td>True</td>\n",
              "      <td>True</td>\n",
              "      <td>True</td>\n",
              "    </tr>\n",
              "    <tr>\n",
              "      <th>3</th>\n",
              "      <td>False</td>\n",
              "      <td>False</td>\n",
              "      <td>True</td>\n",
              "      <td>False</td>\n",
              "      <td>True</td>\n",
              "    </tr>\n",
              "    <tr>\n",
              "      <th>4</th>\n",
              "      <td>False</td>\n",
              "      <td>False</td>\n",
              "      <td>True</td>\n",
              "      <td>False</td>\n",
              "      <td>False</td>\n",
              "    </tr>\n",
              "    <tr>\n",
              "      <th>5</th>\n",
              "      <td>False</td>\n",
              "      <td>False</td>\n",
              "      <td>True</td>\n",
              "      <td>False</td>\n",
              "      <td>True</td>\n",
              "    </tr>\n",
              "  </tbody>\n",
              "</table>\n",
              "</div>\n",
              "      <button class=\"colab-df-convert\" onclick=\"convertToInteractive('df-ce4d42c2-8498-4d84-bb35-8c7aa8e76880')\"\n",
              "              title=\"Convert this dataframe to an interactive table.\"\n",
              "              style=\"display:none;\">\n",
              "        \n",
              "  <svg xmlns=\"http://www.w3.org/2000/svg\" height=\"24px\"viewBox=\"0 0 24 24\"\n",
              "       width=\"24px\">\n",
              "    <path d=\"M0 0h24v24H0V0z\" fill=\"none\"/>\n",
              "    <path d=\"M18.56 5.44l.94 2.06.94-2.06 2.06-.94-2.06-.94-.94-2.06-.94 2.06-2.06.94zm-11 1L8.5 8.5l.94-2.06 2.06-.94-2.06-.94L8.5 2.5l-.94 2.06-2.06.94zm10 10l.94 2.06.94-2.06 2.06-.94-2.06-.94-.94-2.06-.94 2.06-2.06.94z\"/><path d=\"M17.41 7.96l-1.37-1.37c-.4-.4-.92-.59-1.43-.59-.52 0-1.04.2-1.43.59L10.3 9.45l-7.72 7.72c-.78.78-.78 2.05 0 2.83L4 21.41c.39.39.9.59 1.41.59.51 0 1.02-.2 1.41-.59l7.78-7.78 2.81-2.81c.8-.78.8-2.07 0-2.86zM5.41 20L4 18.59l7.72-7.72 1.47 1.35L5.41 20z\"/>\n",
              "  </svg>\n",
              "      </button>\n",
              "      \n",
              "  <style>\n",
              "    .colab-df-container {\n",
              "      display:flex;\n",
              "      flex-wrap:wrap;\n",
              "      gap: 12px;\n",
              "    }\n",
              "\n",
              "    .colab-df-convert {\n",
              "      background-color: #E8F0FE;\n",
              "      border: none;\n",
              "      border-radius: 50%;\n",
              "      cursor: pointer;\n",
              "      display: none;\n",
              "      fill: #1967D2;\n",
              "      height: 32px;\n",
              "      padding: 0 0 0 0;\n",
              "      width: 32px;\n",
              "    }\n",
              "\n",
              "    .colab-df-convert:hover {\n",
              "      background-color: #E2EBFA;\n",
              "      box-shadow: 0px 1px 2px rgba(60, 64, 67, 0.3), 0px 1px 3px 1px rgba(60, 64, 67, 0.15);\n",
              "      fill: #174EA6;\n",
              "    }\n",
              "\n",
              "    [theme=dark] .colab-df-convert {\n",
              "      background-color: #3B4455;\n",
              "      fill: #D2E3FC;\n",
              "    }\n",
              "\n",
              "    [theme=dark] .colab-df-convert:hover {\n",
              "      background-color: #434B5C;\n",
              "      box-shadow: 0px 1px 3px 1px rgba(0, 0, 0, 0.15);\n",
              "      filter: drop-shadow(0px 1px 2px rgba(0, 0, 0, 0.3));\n",
              "      fill: #FFFFFF;\n",
              "    }\n",
              "  </style>\n",
              "\n",
              "      <script>\n",
              "        const buttonEl =\n",
              "          document.querySelector('#df-ce4d42c2-8498-4d84-bb35-8c7aa8e76880 button.colab-df-convert');\n",
              "        buttonEl.style.display =\n",
              "          google.colab.kernel.accessAllowed ? 'block' : 'none';\n",
              "\n",
              "        async function convertToInteractive(key) {\n",
              "          const element = document.querySelector('#df-ce4d42c2-8498-4d84-bb35-8c7aa8e76880');\n",
              "          const dataTable =\n",
              "            await google.colab.kernel.invokeFunction('convertToInteractive',\n",
              "                                                     [key], {});\n",
              "          if (!dataTable) return;\n",
              "\n",
              "          const docLinkHtml = 'Like what you see? Visit the ' +\n",
              "            '<a target=\"_blank\" href=https://colab.research.google.com/notebooks/data_table.ipynb>data table notebook</a>'\n",
              "            + ' to learn more about interactive tables.';\n",
              "          element.innerHTML = '';\n",
              "          dataTable['output_type'] = 'display_data';\n",
              "          await google.colab.output.renderOutput(dataTable, element);\n",
              "          const docLink = document.createElement('div');\n",
              "          docLink.innerHTML = docLinkHtml;\n",
              "          element.appendChild(docLink);\n",
              "        }\n",
              "      </script>\n",
              "    </div>\n",
              "  </div>\n",
              "  "
            ]
          },
          "metadata": {},
          "execution_count": 11
        }
      ],
      "source": [
        "# another way to do this is\n",
        "df.isnull()"
      ],
      "metadata": {
        "colab": {
          "base_uri": "https://localhost:8080/",
          "height": 235
        },
        "id": "Bnnf2VLhasMo",
        "outputId": "b18a7cf3-5e6a-45c2-8d07-ea0f62a49e70"
      },
      "id": "Bnnf2VLhasMo"
    },
    {
      "cell_type": "markdown",
      "source": [
        "### `any()` method in pandas is used to check whether at least one element of a boolean array or boolean DataFrame axis (ie column or row) is True"
      ],
      "metadata": {
        "collapsed": false,
        "id": "HMgCD1BXasMp"
      },
      "id": "HMgCD1BXasMp"
    },
    {
      "cell_type": "markdown",
      "source": [
        "##### IMPORTANT: (axis=0) parameter marks rows and (axis=1) marks columns"
      ],
      "metadata": {
        "collapsed": false,
        "id": "ytVPHQrjasMp"
      },
      "id": "ytVPHQrjasMp"
    },
    {
      "cell_type": "code",
      "execution_count": 12,
      "outputs": [
        {
          "output_type": "execute_result",
          "data": {
            "text/plain": [
              "colA     True\n",
              "colB     True\n",
              "colC    False\n",
              "colD     True\n",
              "colE     True\n",
              "dtype: bool"
            ]
          },
          "metadata": {},
          "execution_count": 12
        }
      ],
      "source": [
        "df.any() # default on columns"
      ],
      "metadata": {
        "colab": {
          "base_uri": "https://localhost:8080/"
        },
        "id": "CCkA4pqYasMp",
        "outputId": "b1fb1f63-64e2-44f4-9b6d-83f240d42d93"
      },
      "id": "CCkA4pqYasMp"
    },
    {
      "cell_type": "code",
      "execution_count": 13,
      "outputs": [
        {
          "output_type": "execute_result",
          "data": {
            "text/plain": [
              "colA     True\n",
              "colB     True\n",
              "colC    False\n",
              "colD     True\n",
              "colE     True\n",
              "dtype: bool"
            ]
          },
          "metadata": {},
          "execution_count": 13
        }
      ],
      "source": [
        "df.any(axis=0) # returns false only if entire column is NaN values"
      ],
      "metadata": {
        "colab": {
          "base_uri": "https://localhost:8080/"
        },
        "id": "qrfLyvrvasMq",
        "outputId": "77da6dd2-8bf9-42db-e007-cf80a972c23f"
      },
      "id": "qrfLyvrvasMq"
    },
    {
      "cell_type": "code",
      "execution_count": 14,
      "outputs": [
        {
          "output_type": "execute_result",
          "data": {
            "text/plain": [
              "0     True\n",
              "1     True\n",
              "2    False\n",
              "3     True\n",
              "4     True\n",
              "5     True\n",
              "dtype: bool"
            ]
          },
          "metadata": {},
          "execution_count": 14
        }
      ],
      "source": [
        "df.any(axis=1) # returns false only if entire row is NaN / 0 values"
      ],
      "metadata": {
        "colab": {
          "base_uri": "https://localhost:8080/"
        },
        "id": "C0ucs6ZaasMq",
        "outputId": "cd05f4a4-d3ed-498c-d4c2-db559a086734"
      },
      "id": "C0ucs6ZaasMq"
    },
    {
      "cell_type": "markdown",
      "source": [
        "### `all()` returns True if all elements in a DataFrame (row, column, or entire dataframe) evaluate to True, and False otherwise."
      ],
      "metadata": {
        "collapsed": false,
        "id": "uXI2aPjLasMq"
      },
      "id": "uXI2aPjLasMq"
    },
    {
      "cell_type": "code",
      "execution_count": 15,
      "outputs": [
        {
          "output_type": "execute_result",
          "data": {
            "text/plain": [
              "colA     True\n",
              "colB     True\n",
              "colC     True\n",
              "colD    False\n",
              "colE     True\n",
              "dtype: bool"
            ]
          },
          "metadata": {},
          "execution_count": 15
        }
      ],
      "source": [
        "df.all() # default on columns"
      ],
      "metadata": {
        "colab": {
          "base_uri": "https://localhost:8080/"
        },
        "id": "z6NDvGMWasMq",
        "outputId": "803c215a-afaa-4126-bc16-0885ee104fca"
      },
      "id": "z6NDvGMWasMq"
    },
    {
      "cell_type": "markdown",
      "source": [
        "#### On default, a DataFrame is marked as false only if values are '0', while NaN values are marked as true\n",
        "\n",
        "#### We can however mask all non NaN values as true and NaN values as false using `isna()` or `isnull()` as we saw above"
      ],
      "metadata": {
        "collapsed": false,
        "id": "bZNgAcUMasMr"
      },
      "id": "bZNgAcUMasMr"
    },
    {
      "cell_type": "code",
      "execution_count": 16,
      "outputs": [
        {
          "output_type": "execute_result",
          "data": {
            "text/plain": [
              "colA     True\n",
              "colB     True\n",
              "colC     True\n",
              "colD    False\n",
              "colE     True\n",
              "dtype: bool"
            ]
          },
          "metadata": {},
          "execution_count": 16
        }
      ],
      "source": [
        "df.all(axis=0) # returns false if it encounters a \"0\" value in column"
      ],
      "metadata": {
        "colab": {
          "base_uri": "https://localhost:8080/"
        },
        "id": "xl-GO0sQasMr",
        "outputId": "f184720d-1f5e-41ac-efbe-ef023572dbcc"
      },
      "id": "xl-GO0sQasMr"
    },
    {
      "cell_type": "code",
      "execution_count": 17,
      "outputs": [
        {
          "output_type": "execute_result",
          "data": {
            "text/plain": [
              "0    False\n",
              "1     True\n",
              "2     True\n",
              "3     True\n",
              "4     True\n",
              "5     True\n",
              "dtype: bool"
            ]
          },
          "metadata": {},
          "execution_count": 17
        }
      ],
      "source": [
        "df.all(axis=1)  # returns false if it encounters a \"0\" value in rows"
      ],
      "metadata": {
        "colab": {
          "base_uri": "https://localhost:8080/"
        },
        "id": "QnK_r0J1asMs",
        "outputId": "dee1addd-d21e-42d3-c7f1-faf031b05a3c"
      },
      "id": "QnK_r0J1asMs"
    },
    {
      "cell_type": "markdown",
      "source": [
        "### `sum()` command calculate the sum of values in a DataFrame or Series."
      ],
      "metadata": {
        "collapsed": false,
        "id": "I6zeGs8yasMs"
      },
      "id": "I6zeGs8yasMs"
    },
    {
      "cell_type": "code",
      "execution_count": 18,
      "outputs": [
        {
          "output_type": "execute_result",
          "data": {
            "text/plain": [
              "colA    24.0\n",
              "colD    23.0\n",
              "colE     3.0\n",
              "dtype: float64"
            ]
          },
          "metadata": {},
          "execution_count": 18
        }
      ],
      "source": [
        "df.sum(numeric_only=True) # on default adds up columns"
      ],
      "metadata": {
        "colab": {
          "base_uri": "https://localhost:8080/"
        },
        "id": "gl2l8XrnasMs",
        "outputId": "e7f4fdbe-70c0-4777-8b0e-718df78226a4"
      },
      "id": "gl2l8XrnasMs"
    },
    {
      "cell_type": "markdown",
      "source": [
        "##### `numeric_only=True` ensures only numeric valued columns are added up"
      ],
      "metadata": {
        "collapsed": false,
        "id": "zrhZxipNasMs"
      },
      "id": "zrhZxipNasMs"
    },
    {
      "cell_type": "code",
      "execution_count": 19,
      "outputs": [
        {
          "output_type": "execute_result",
          "data": {
            "text/plain": [
              "0     0.0\n",
              "1    10.0\n",
              "2     0.0\n",
              "3    15.0\n",
              "4    18.0\n",
              "5     7.0\n",
              "dtype: float64"
            ]
          },
          "metadata": {},
          "execution_count": 19
        }
      ],
      "source": [
        "df.sum(axis=1, numeric_only=True) # row wise addition"
      ],
      "metadata": {
        "colab": {
          "base_uri": "https://localhost:8080/"
        },
        "id": "FsJ6gbxTasMt",
        "outputId": "3a242142-024a-4060-ab51-b8f0b3f15209"
      },
      "id": "FsJ6gbxTasMt"
    },
    {
      "cell_type": "markdown",
      "source": [
        "### `mean()` calculates the mean of values in a DataFrame or series"
      ],
      "metadata": {
        "collapsed": false,
        "id": "JEfiu8TwasMt"
      },
      "id": "JEfiu8TwasMt"
    },
    {
      "cell_type": "code",
      "execution_count": 20,
      "outputs": [
        {
          "output_type": "execute_result",
          "data": {
            "text/plain": [
              "colA    6.0\n",
              "colD    4.6\n",
              "colE    1.5\n",
              "dtype: float64"
            ]
          },
          "metadata": {},
          "execution_count": 20
        }
      ],
      "source": [
        "df.mean(numeric_only=True) # on default finds mean of columns"
      ],
      "metadata": {
        "colab": {
          "base_uri": "https://localhost:8080/"
        },
        "id": "rrZ4YQioasMt",
        "outputId": "62a26db9-2700-44f5-e9cf-70225186dc91"
      },
      "id": "rrZ4YQioasMt"
    },
    {
      "cell_type": "code",
      "execution_count": 21,
      "outputs": [
        {
          "output_type": "execute_result",
          "data": {
            "text/plain": [
              "0    0.000000\n",
              "1    3.333333\n",
              "2         NaN\n",
              "3    7.500000\n",
              "4    6.000000\n",
              "5    3.500000\n",
              "dtype: float64"
            ]
          },
          "metadata": {},
          "execution_count": 21
        }
      ],
      "source": [
        "df.mean(axis=1, numeric_only=True) # row wise mean"
      ],
      "metadata": {
        "colab": {
          "base_uri": "https://localhost:8080/"
        },
        "id": "lfg0pyEjasMt",
        "outputId": "daf8ef94-794d-48f0-ba37-db10e85ab3d5"
      },
      "id": "lfg0pyEjasMt"
    },
    {
      "cell_type": "markdown",
      "source": [
        "### `groupby('column_which_we_group_by')['column_that_gets_grouped_accordingly']`  is for grouping and selecting subsets of data from a DataFrame."
      ],
      "metadata": {
        "collapsed": false,
        "id": "EsfZhDAJasMt"
      },
      "id": "EsfZhDAJasMt"
    },
    {
      "cell_type": "code",
      "execution_count": 22,
      "outputs": [
        {
          "output_type": "execute_result",
          "data": {
            "text/plain": [
              "colB\n",
              "Cat      5.5\n",
              "Dog      4.0\n",
              "Horse    4.0\n",
              "Name: colD, dtype: float64"
            ]
          },
          "metadata": {},
          "execution_count": 22
        }
      ],
      "source": [
        "grouped=df.groupby('colB')['colD'] #groups the column D according to column B\n",
        "\n",
        "# Print the mean of grouped data\n",
        "grouped.mean()"
      ],
      "metadata": {
        "colab": {
          "base_uri": "https://localhost:8080/"
        },
        "id": "2m1Hqbq6asMu",
        "outputId": "afa2937a-dfd5-40b7-e1c2-d4007a18da7f"
      },
      "id": "2m1Hqbq6asMu"
    },
    {
      "cell_type": "markdown",
      "source": [
        "## We can use the above to filter and find important data in our dataframe"
      ],
      "metadata": {
        "collapsed": false,
        "id": "t34cBHMOasMu"
      },
      "id": "t34cBHMOasMu"
    },
    {
      "cell_type": "code",
      "execution_count": 23,
      "outputs": [
        {
          "output_type": "execute_result",
          "data": {
            "text/plain": [
              "colA    2\n",
              "colB    1\n",
              "colC    6\n",
              "colD    1\n",
              "colE    4\n",
              "dtype: int64"
            ]
          },
          "metadata": {},
          "execution_count": 23
        }
      ],
      "source": [
        "# count no of NaN values in our dataframe columns\n",
        "df.isna().sum(axis=0)"
      ],
      "metadata": {
        "colab": {
          "base_uri": "https://localhost:8080/"
        },
        "id": "R-SvXyXSasMu",
        "outputId": "32bd973d-3b8d-48df-8ffa-e07d14beb25a"
      },
      "id": "R-SvXyXSasMu"
    },
    {
      "cell_type": "code",
      "execution_count": 24,
      "outputs": [
        {
          "output_type": "execute_result",
          "data": {
            "text/plain": [
              "0    3\n",
              "1    1\n",
              "2    5\n",
              "3    2\n",
              "4    1\n",
              "5    2\n",
              "dtype: int64"
            ]
          },
          "metadata": {},
          "execution_count": 24
        }
      ],
      "source": [
        "# count no of NaN values in our dataframe rows\n",
        "df.isna().sum(axis=1)"
      ],
      "metadata": {
        "colab": {
          "base_uri": "https://localhost:8080/"
        },
        "id": "lBhT_FGIasMu",
        "outputId": "e7d6feba-1667-4085-e95f-f28c334c147b"
      },
      "id": "lBhT_FGIasMu"
    },
    {
      "cell_type": "code",
      "execution_count": 25,
      "outputs": [
        {
          "output_type": "stream",
          "name": "stdout",
          "text": [
            "colA   2\n",
            "colB   1\n",
            "colC   6\n",
            "colD   1\n",
            "colE   4\n",
            "\n",
            "\n",
            "0   3\n",
            "1   1\n",
            "2   5\n",
            "3   2\n",
            "4   1\n",
            "5   2\n"
          ]
        }
      ],
      "source": [
        "# another way to do this would be to:\n",
        "\n",
        "for col in df.columns:\n",
        "    print(col,\" \",df[col].isnull().sum())\n",
        "\n",
        "print(\"\\n\")\n",
        "\n",
        "for index, row in df.iterrows():\n",
        "    print(index,\" \",row.isna().sum())"
      ],
      "metadata": {
        "colab": {
          "base_uri": "https://localhost:8080/"
        },
        "id": "ozxmJ_ZhasMu",
        "outputId": "459dc15f-dd9f-4995-a658-14422d937525"
      },
      "id": "ozxmJ_ZhasMu"
    },
    {
      "cell_type": "markdown",
      "source": [
        "#### `iterrows()` method allows you to iterate over the rows of a DataFrame as a tuple of (index, Series) pairs."
      ],
      "metadata": {
        "collapsed": false,
        "id": "WOdAd_e_asMv"
      },
      "id": "WOdAd_e_asMv"
    },
    {
      "cell_type": "code",
      "execution_count": 26,
      "outputs": [
        {
          "output_type": "execute_result",
          "data": {
            "text/plain": [
              "1"
            ]
          },
          "metadata": {},
          "execution_count": 26
        }
      ],
      "source": [
        "# count no of entire NaN rows in dataframe\n",
        "df.isna().all(axis=0).sum()"
      ],
      "metadata": {
        "colab": {
          "base_uri": "https://localhost:8080/"
        },
        "id": "SRIxOOWoasMv",
        "outputId": "e2505cdc-bc4e-49da-eb82-9175c22f6426"
      },
      "id": "SRIxOOWoasMv"
    },
    {
      "cell_type": "code",
      "execution_count": 27,
      "outputs": [
        {
          "output_type": "execute_result",
          "data": {
            "text/plain": [
              "1"
            ]
          },
          "metadata": {},
          "execution_count": 27
        }
      ],
      "source": [
        "# count no of entire NaN rows in dataframe\n",
        "df.isna().all(axis=1).sum()"
      ],
      "metadata": {
        "colab": {
          "base_uri": "https://localhost:8080/"
        },
        "id": "8bJsoxByasMv",
        "outputId": "b3bc45fc-6ea6-48d0-f7ba-78582bde664a"
      },
      "id": "8bJsoxByasMv"
    },
    {
      "cell_type": "markdown",
      "source": [
        "### But this in itself isn't good enough, what if we want to check a ratio of NaN values so we only drop or modify the ones which have more NaN values than we want"
      ],
      "metadata": {
        "collapsed": false,
        "id": "AnKBlrceasMv"
      },
      "id": "AnKBlrceasMv"
    },
    {
      "cell_type": "code",
      "execution_count": 28,
      "outputs": [
        {
          "output_type": "stream",
          "name": "stdout",
          "text": [
            "2\n"
          ]
        }
      ],
      "source": [
        "# count no of features (ie column) that contain more than half NaN values\n",
        "# ie 0.5 NaN to non-NaN ratio\n",
        "\n",
        "threshold=0.5 # sets the mimimum NaN to non-NaN ratio to 0.5\n",
        "count=0 # counts no of features that surpass\n",
        "for col in df.columns:\n",
        "    if (df[col].isna().sum()/df.shape[0]>threshold).any():\n",
        "        count+=1\n",
        "print(count)"
      ],
      "metadata": {
        "colab": {
          "base_uri": "https://localhost:8080/"
        },
        "id": "qTjjsQH6asMv",
        "outputId": "afc3adaa-562e-4210-b80e-cb889e9de9f9"
      },
      "id": "qTjjsQH6asMv"
    },
    {
      "cell_type": "code",
      "execution_count": 29,
      "outputs": [
        {
          "output_type": "stream",
          "name": "stdout",
          "text": [
            "1\n"
          ]
        }
      ],
      "source": [
        "# another way to do this would be\n",
        "\n",
        "threshold=0.8 # sets the mimimum NaN to non-NaN ratio to 0.8\n",
        "count2=0;\n",
        "for col in df.columns:\n",
        "    if(df[col].isna().mean()>threshold).any():\n",
        "        count2+=1\n",
        "print(count2)"
      ],
      "metadata": {
        "colab": {
          "base_uri": "https://localhost:8080/"
        },
        "id": "uBjScCKKasMv",
        "outputId": "d70d3c5c-fd9d-492f-a2da-290f2542b6cf"
      },
      "id": "uBjScCKKasMv"
    },
    {
      "cell_type": "code",
      "execution_count": 30,
      "outputs": [
        {
          "output_type": "stream",
          "name": "stdout",
          "text": [
            "   colA   colB  colC  colD  colE\n",
            "0   NaN    Dog  None   0.0   NaN\n",
            "1   4.0    Cat  None   4.0   2.0\n",
            "2   NaN   None  None   NaN   NaN\n",
            "3   8.0    Cat  None   7.0   NaN\n",
            "4   9.0    Dog  None   8.0   1.0\n",
            "5   3.0  Horse  None   4.0   NaN\n"
          ]
        }
      ],
      "source": [
        "# Now, let's make a feature list of all values\n",
        "\n",
        "features_with_na=[feature for feature in df if df[feature].isna().sum()>0]\n",
        "X=df[features_with_na]\n",
        "print(X)"
      ],
      "metadata": {
        "colab": {
          "base_uri": "https://localhost:8080/"
        },
        "id": "gcYzT1Z5asMv",
        "outputId": "82e37367-cb90-4f62-be15-e53908f67837"
      },
      "id": "gcYzT1Z5asMv"
    },
    {
      "cell_type": "code",
      "execution_count": 31,
      "outputs": [
        {
          "output_type": "stream",
          "name": "stdout",
          "text": [
            "colA --> 0.3333 % missing values\n",
            "colB --> 0.1667 % missing values\n",
            "colC --> 1.0 % missing values\n",
            "colD --> 0.1667 % missing values\n",
            "colE --> 0.6667 % missing values\n"
          ]
        }
      ],
      "source": [
        "# check the percentage of NaN values in each column\n",
        "\n",
        "for feature in features_with_na:\n",
        "    print(feature,\"-->\",np.round(df[feature].isnull().mean(),4),'% missing values')"
      ],
      "metadata": {
        "colab": {
          "base_uri": "https://localhost:8080/"
        },
        "id": "-c9p31HVasMw",
        "outputId": "c7185b28-5a51-4510-a3fa-3534f2e418b3"
      },
      "id": "-c9p31HVasMw"
    },
    {
      "cell_type": "code",
      "execution_count": 32,
      "outputs": [],
      "source": [
        "df[\"colF\"] = [1, 2, 3, 4, 5, 6] # add a new row to our dataframe"
      ],
      "metadata": {
        "id": "sdHMWtknasMw"
      },
      "id": "sdHMWtknasMw"
    }
  ],
  "metadata": {
    "colab": {
      "provenance": []
    },
    "language_info": {
      "name": "python"
    },
    "kernelspec": {
      "name": "python3",
      "display_name": "Python 3"
    },
    "gpuClass": "standard"
  },
  "nbformat": 4,
  "nbformat_minor": 5
}
