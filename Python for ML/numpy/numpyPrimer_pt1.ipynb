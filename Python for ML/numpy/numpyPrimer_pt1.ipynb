{
  "nbformat": 4,
  "nbformat_minor": 0,
  "metadata": {
    "colab": {
      "provenance": [],
      "authorship_tag": "ABX9TyPvsKS4Rlm8R+LJwSGeYFCv"
    },
    "kernelspec": {
      "name": "python3",
      "display_name": "Python 3"
    },
    "language_info": {
      "name": "python"
    }
  },
  "cells": [
    {
      "cell_type": "markdown",
      "source": [
        "# numpy **PRIMER** pt1\n"
      ],
      "metadata": {
        "id": "xq9eS4FTNA5d"
      }
    },
    {
      "cell_type": "code",
      "execution_count": 3,
      "metadata": {
        "id": "bclrli6OLFQE"
      },
      "outputs": [],
      "source": [
        "import numpy as np"
      ]
    },
    {
      "cell_type": "code",
      "source": [
        "# array of zeroes\n",
        "\n",
        "a=np.zeros(10,dtype=int)\n",
        "print(a)"
      ],
      "metadata": {
        "colab": {
          "base_uri": "https://localhost:8080/"
        },
        "id": "Ft-cGfLXLRLP",
        "outputId": "11fbe14e-f5d6-4728-a4bd-3af5f3a0ef32"
      },
      "execution_count": null,
      "outputs": [
        {
          "output_type": "stream",
          "name": "stdout",
          "text": [
            "[0 0 0 0 0 0 0 0 0 0]\n"
          ]
        }
      ]
    },
    {
      "cell_type": "code",
      "source": [
        "# matrix of value 'x'\n",
        "\n",
        "a=np.full((2,4),5,dtype=float) # new array of shape 2x4 and value 5p\n",
        "print(a)"
      ],
      "metadata": {
        "colab": {
          "base_uri": "https://localhost:8080/"
        },
        "id": "HSpKavtLLx9n",
        "outputId": "01c5f5ba-b0e9-4381-9c33-ca8624d10722"
      },
      "execution_count": null,
      "outputs": [
        {
          "output_type": "stream",
          "name": "stdout",
          "text": [
            "[[5. 5. 5. 5.]\n",
            " [5. 5. 5. 5.]]\n"
          ]
        }
      ]
    },
    {
      "cell_type": "code",
      "source": [
        "a=np.arange(10) # new array from zero->n\n",
        "print(a)"
      ],
      "metadata": {
        "colab": {
          "base_uri": "https://localhost:8080/"
        },
        "id": "YP9gda92ME_7",
        "outputId": "5bcb6a85-c14d-451f-cd39-bbcc1b462d56"
      },
      "execution_count": null,
      "outputs": [
        {
          "output_type": "stream",
          "name": "stdout",
          "text": [
            "[0 1 2 3 4 5 6 7 8 9]\n"
          ]
        }
      ]
    },
    {
      "cell_type": "code",
      "source": [
        "a=np.arange(2,20,2) # (start_val,end_val,distance)\n",
        "print(a)"
      ],
      "metadata": {
        "colab": {
          "base_uri": "https://localhost:8080/"
        },
        "id": "cRUZHFxOMWIq",
        "outputId": "64bd1e16-0aa6-4121-b83d-4027932e8584"
      },
      "execution_count": null,
      "outputs": [
        {
          "output_type": "stream",
          "name": "stdout",
          "text": [
            "[ 2  4  6  8 10 12 14 16 18]\n"
          ]
        }
      ]
    },
    {
      "cell_type": "markdown",
      "source": [
        "we can do all this using loops too, but this is more optimized method since compilation happens in c language"
      ],
      "metadata": {
        "id": "6i-hlgusSVpL"
      }
    },
    {
      "cell_type": "markdown",
      "source": [
        "## numpy **linspace**\n",
        "\n",
        "generates equidistant values randomly between a given range"
      ],
      "metadata": {
        "id": "jgEchYkzOFch"
      }
    },
    {
      "cell_type": "code",
      "source": [
        "b=np.linspace(2,10,dtype=float) # give random values b/w (a,b)\n",
        "print(b)"
      ],
      "metadata": {
        "colab": {
          "base_uri": "https://localhost:8080/"
        },
        "id": "t29monzQMzQw",
        "outputId": "f1883f66-1dbd-4603-9fba-1e8a67ceedc9"
      },
      "execution_count": null,
      "outputs": [
        {
          "output_type": "stream",
          "name": "stdout",
          "text": [
            "[ 2.          2.16326531  2.32653061  2.48979592  2.65306122  2.81632653\n",
            "  2.97959184  3.14285714  3.30612245  3.46938776  3.63265306  3.79591837\n",
            "  3.95918367  4.12244898  4.28571429  4.44897959  4.6122449   4.7755102\n",
            "  4.93877551  5.10204082  5.26530612  5.42857143  5.59183673  5.75510204\n",
            "  5.91836735  6.08163265  6.24489796  6.40816327  6.57142857  6.73469388\n",
            "  6.89795918  7.06122449  7.2244898   7.3877551   7.55102041  7.71428571\n",
            "  7.87755102  8.04081633  8.20408163  8.36734694  8.53061224  8.69387755\n",
            "  8.85714286  9.02040816  9.18367347  9.34693878  9.51020408  9.67346939\n",
            "  9.83673469 10.        ]\n"
          ]
        }
      ]
    },
    {
      "cell_type": "markdown",
      "source": [
        "What's special about linspace is every instance is equi-distant from other\n",
        "\n"
      ],
      "metadata": {
        "id": "8-r9vZjkOAZl"
      }
    },
    {
      "cell_type": "code",
      "source": [
        "print(b[1]-b[0], b[2]-b[1], b[3]-b[2]) # same distances"
      ],
      "metadata": {
        "colab": {
          "base_uri": "https://localhost:8080/"
        },
        "id": "_Y9w2d0NNh4d",
        "outputId": "c1a544b1-a8fc-4f3f-c91e-84a56a14c47c"
      },
      "execution_count": null,
      "outputs": [
        {
          "output_type": "stream",
          "name": "stdout",
          "text": [
            "0.16326530612244916 0.16326530612244872 0.16326530612244916\n"
          ]
        }
      ]
    },
    {
      "cell_type": "code",
      "source": [
        "b=np.linspace(2,10,5) # (a,b,c) gives c equidistant values b/w a & b"
      ],
      "metadata": {
        "id": "6q810gTNO_A1"
      },
      "execution_count": null,
      "outputs": []
    },
    {
      "cell_type": "code",
      "source": [
        "# identity matrix of order (x)\n",
        "b=np.identity(3)\n",
        "print(b)"
      ],
      "metadata": {
        "colab": {
          "base_uri": "https://localhost:8080/"
        },
        "id": "zTwjHqq1Pa6Y",
        "outputId": "47cad4f5-93da-463c-a430-517993ce8251"
      },
      "execution_count": null,
      "outputs": [
        {
          "output_type": "stream",
          "name": "stdout",
          "text": [
            "[[1. 0. 0.]\n",
            " [0. 1. 0.]\n",
            " [0. 0. 1.]]\n"
          ]
        }
      ]
    },
    {
      "cell_type": "code",
      "source": [
        "# 2-D array with ones on the leading diagonal and zeros elsewhere.\n",
        "b=np.eye(3,4)\n",
        "print(b)"
      ],
      "metadata": {
        "colab": {
          "base_uri": "https://localhost:8080/"
        },
        "id": "MVs3mfPVQe26",
        "outputId": "bfb51fca-ec3b-4e8f-e55f-403e6ef2c0f4"
      },
      "execution_count": null,
      "outputs": [
        {
          "output_type": "stream",
          "name": "stdout",
          "text": [
            "[[1. 0. 0. 0.]\n",
            " [0. 1. 0. 0.]\n",
            " [0. 0. 1. 0.]]\n"
          ]
        }
      ]
    },
    {
      "cell_type": "markdown",
      "source": [
        "## numpy **random**\n",
        "generates random values"
      ],
      "metadata": {
        "id": "e2GSd4u_TFt3"
      }
    },
    {
      "cell_type": "code",
      "source": [
        "# generate a single random value between 0 and 1\n",
        "\n",
        "r=np.random.random()\n",
        "print(r,\"\\n\")\n",
        "\n",
        "# generate (x) uniformy distributed random values b/w 0 and 1 (of any specified shape)\n",
        "\n",
        "c=np.random.rand(10)\n",
        "print(c)\n",
        "\n"
      ],
      "metadata": {
        "colab": {
          "base_uri": "https://localhost:8080/"
        },
        "id": "_OpGAX2RRGve",
        "outputId": "359b3661-02c3-4800-9579-a62e11b35892"
      },
      "execution_count": 12,
      "outputs": [
        {
          "output_type": "stream",
          "name": "stdout",
          "text": [
            "0.007022578218907172 \n",
            "\n",
            "[0.07440057 0.1398569  0.33304048 0.9817316  0.50516944 0.8750213\n",
            " 0.15418858 0.34318107 0.51347159 0.38349431]\n"
          ]
        }
      ]
    },
    {
      "cell_type": "code",
      "source": [
        "# Hence, to get any uniform random values that're between say 0 and 1000\n",
        "\n",
        "c=np.random.rand(5)*1000\n",
        "print(c)"
      ],
      "metadata": {
        "colab": {
          "base_uri": "https://localhost:8080/"
        },
        "id": "bom9NB0GUxiy",
        "outputId": "370aea4a-d905-48f9-ed85-546305bd6f78"
      },
      "execution_count": null,
      "outputs": [
        {
          "output_type": "stream",
          "name": "stdout",
          "text": [
            "[ 20.5844943  969.90985216 832.4426408  212.33911068 181.82496721]\n"
          ]
        }
      ]
    },
    {
      "cell_type": "code",
      "source": [
        "# but what if I want (x) uniform values between a specified range (a and b) instead of 0 and some number \n",
        "\n",
        "# generates (x) random numbers from a uniform distribution within a specified range.\n",
        "\n",
        "c=np.random.uniform(-10,10,size=10) # (start_val,end_val,x)\n",
        "print(c)"
      ],
      "metadata": {
        "colab": {
          "base_uri": "https://localhost:8080/"
        },
        "id": "bWb0GyUY1b8r",
        "outputId": "9ecac1c0-894b-4596-a330-1d50e70d539b"
      },
      "execution_count": 9,
      "outputs": [
        {
          "output_type": "stream",
          "name": "stdout",
          "text": [
            "[-1.53836882 -6.22312555  6.46234572  9.9108253  -8.19232333 -5.39626615\n",
            "  3.1094453   0.49534914 -6.89294506  2.6531438 ]\n"
          ]
        }
      ]
    },
    {
      "cell_type": "code",
      "source": [
        "# generates (x) random integers within a specified range\n",
        "\n",
        "c=np.random.randint(0,100,size=10) # (start_val,end_val,x)\n",
        "print(c)"
      ],
      "metadata": {
        "colab": {
          "base_uri": "https://localhost:8080/"
        },
        "id": "p0J34_JDcEz0",
        "outputId": "b416fa53-a75c-4bea-8da9-d71523c08fd1"
      },
      "execution_count": null,
      "outputs": [
        {
          "output_type": "stream",
          "name": "stdout",
          "text": [
            "[87 79 55 15  1 19 42 66 63 66]\n"
          ]
        }
      ]
    },
    {
      "cell_type": "code",
      "source": [
        "# generate (x) random values with gaussian/normal distribution \n",
        "\n",
        "c=np.random.normal(10,5,size=10) # (mean,std_dev,x)\n",
        "print(c)"
      ],
      "metadata": {
        "colab": {
          "base_uri": "https://localhost:8080/"
        },
        "id": "5wWI9hKPTohw",
        "outputId": "a2a8099c-f8e7-4b16-bf95-19afeb5e8766"
      },
      "execution_count": null,
      "outputs": [
        {
          "output_type": "stream",
          "name": "stdout",
          "text": [
            "[ 4.49183882  0.56932892  7.92399349  6.31996339  8.06539907  6.56094539\n",
            "  2.26507988  5.84199326 15.55554497 15.33563993]\n"
          ]
        }
      ]
    },
    {
      "cell_type": "code",
      "source": [
        "# generate (x) random values with exponential distribution\n",
        "\n",
        "c=np.random.exponential(3,size=10) # (e^3, x)\n",
        "print(c)"
      ],
      "metadata": {
        "colab": {
          "base_uri": "https://localhost:8080/"
        },
        "id": "kXhDv1PET66t",
        "outputId": "b4bab8a7-e386-4511-de2b-7a308bfd461e"
      },
      "execution_count": 6,
      "outputs": [
        {
          "output_type": "stream",
          "name": "stdout",
          "text": [
            "[6.62427312 5.44542532 0.14857105 7.98525887 1.03576085 1.56284614\n",
            " 3.0726149  0.79448925 0.96731838 8.08910001]\n"
          ]
        }
      ]
    },
    {
      "cell_type": "code",
      "source": [
        "# More random number distbutions\n",
        "\n",
        "# generates random numbers from a Binomial distribution with specified number of trials and success probability.\n",
        "b=np.random.binomial(10,0.5,size=10) # (trials, success_probability, x)\n",
        "print(b,\"\\n\")\n",
        "\n",
        "# generates random numbers from a Gamma distribution with specified shape and scale parameters.\n",
        "g=np.random.gamma(2,1,size=10) # (shape, scale, x)\n",
        "print(g,\"\\n\")\n",
        "\n",
        "# generates random numbers from a Poisson distribution with specified lambda (mean) parameter\n",
        "p=np.random.poisson(2,size=10) # (lambda[mean], x)\n",
        "print(p,\"\\n\")\n",
        "\n",
        "# generates random numbers from a log-normal distribution with specified mean and standard deviation of the underlying normal distribution.\n",
        "l=np.random.lognormal(0,1,size=10) # (mean, std_dev, x)\n",
        "print(l,\"\\n\")"
      ],
      "metadata": {
        "colab": {
          "base_uri": "https://localhost:8080/"
        },
        "id": "r4ifhLpe2sFg",
        "outputId": "7254f8b9-2e11-4908-9bc9-de1a50c033fa"
      },
      "execution_count": 8,
      "outputs": [
        {
          "output_type": "stream",
          "name": "stdout",
          "text": [
            "[6 5 3 4 3 6 4 3 5 3] \n",
            "\n",
            "[2.71611436 0.4915566  5.35499207 4.46007826 0.52005089 3.68278198\n",
            " 1.34353327 4.79705627 2.41125905 1.34416364] \n",
            "\n",
            "[0 3 1 3 4 2 5 3 0 5] \n",
            "\n",
            "[0.62964591 3.0375497  0.89894953 0.25205888 2.44039324 0.60275936\n",
            " 0.4904356  5.14197103 3.54322547 0.86070007] \n",
            "\n"
          ]
        }
      ]
    },
    {
      "cell_type": "code",
      "source": [
        "# another way for logarithmic distribution\n",
        "\n",
        "c=np.random.rand(10)\n",
        "# Apply logarithmic transformation to approximate a logarithmic distribution\n",
        "c=np.exp(c)-1 \n",
        "print(c)"
      ],
      "metadata": {
        "colab": {
          "base_uri": "https://localhost:8080/"
        },
        "id": "EivIbeUqmnN9",
        "outputId": "445f0e5b-2540-4c68-a7c5-1c6e393c68c5"
      },
      "execution_count": null,
      "outputs": [
        {
          "output_type": "stream",
          "name": "stdout",
          "text": [
            "[0.00808241 0.85300572 0.49919238 0.85480072 1.35220208 1.33661306\n",
            " 1.09010404 1.39265245 1.1035297  0.02827208]\n"
          ]
        }
      ]
    },
    {
      "cell_type": "markdown",
      "source": [
        "problem is, these values change everytime we execute these commands\n",
        "\n",
        "### So we'll introduce ***Random Seed*** to ensure reproducibility of these values"
      ],
      "metadata": {
        "id": "OIBZbW9LV_MC"
      }
    },
    {
      "cell_type": "code",
      "source": [
        "np.random.seed(42) # this ensures values remain consistent and reproducible\n",
        "c=np.random.randint(0,100,size=10)\n",
        "print(c)\n",
        "\n",
        "# Here, any x=non zero value in random.seed(x) ensure that our c generates reproducible values "
      ],
      "metadata": {
        "colab": {
          "base_uri": "https://localhost:8080/"
        },
        "id": "ZXGrdaSFWTrh",
        "outputId": "11b541dd-9f2a-4c02-9e43-a1c13b193967"
      },
      "execution_count": null,
      "outputs": [
        {
          "output_type": "stream",
          "name": "stdout",
          "text": [
            "[51 92 14 71 60 20 82 86 74 74]\n"
          ]
        }
      ]
    },
    {
      "cell_type": "markdown",
      "source": [
        "### Instead of size, we can put `(row,column)` input to have a matrix of random inputs instead of just simple arrays\n",
        "\n",
        "\n"
      ],
      "metadata": {
        "id": "4gMabYX_6C7p"
      }
    },
    {
      "cell_type": "code",
      "source": [
        "# Examples\n",
        "\n",
        "# generate uniform random values between 0 and 1 for a matrix of size (1,3)\n",
        "c=np.random.rand(1,3)\n",
        "print(c,\"\\n\",\"\\n\")\n",
        "\n",
        "# generate normal random values for a matrix of size (3,5)\n",
        "c=np.random.normal(10,2,(3,5))\n",
        "print(c,\"\\n\",\"\\n\")\n",
        "\n",
        "# generate uniform random values between (-5 and 5) for a matrix of size (3,3)\n",
        "c=np.random.uniform(-5,5,size=(3,3))\n",
        "print(c,\"\\n,'\\n\")"
      ],
      "metadata": {
        "colab": {
          "base_uri": "https://localhost:8080/"
        },
        "id": "1eJ0KiZB6lsn",
        "outputId": "008121ec-c56b-40ea-8c6d-24ce264b9928"
      },
      "execution_count": 21,
      "outputs": [
        {
          "output_type": "stream",
          "name": "stdout",
          "text": [
            "[[0.01227376 0.96006941 0.21925673]] \n",
            " \n",
            "\n",
            "[[12.3625081   8.11418005 10.05892033  9.96746241 10.38645417]\n",
            " [ 9.26418949 11.60223038 10.55423885 14.25887078  9.63343448]\n",
            " [11.50561299 11.09017517 11.01131771 10.02939554  8.20206146]] \n",
            " \n",
            "\n",
            "[[ 4.44992567  0.6934493  -3.04654434]\n",
            " [-1.20652454  4.85618089 -3.14001521]\n",
            " [-0.7596492  -0.46165341 -3.74840092]] \n",
            ",'\n",
            "\n"
          ]
        }
      ]
    },
    {
      "cell_type": "markdown",
      "source": [
        "### other distributions for random values\n",
        "\n",
        "\n",
        "`np.random.pareto()`: Generates random numbers from a Pareto distribution with specified shape parameter.\n",
        "\n",
        "`np.random.geometric()`: Generates random numbers from a geometric distribution with specified success probability.\n",
        "\n",
        "`np.random.hypergeometric()`: Generates random numbers from a hypergeometric distribution with specified population sizes and sample size.\n",
        "\n",
        "`np.random.multinomial()`: Generates random numbers from a multinomial distribution with specified number of trials and probabilities for each category.\n",
        "\n",
        "`np.random.triangular()`: Generates random numbers from a triangular distribution within a specified range.\n",
        "\n",
        "`np.random.vonmises()`: Generates random numbers from a von Mises distribution (circular distribution) with specified mean and concentration parameter.\n",
        "\n",
        "`np.random.wald()`: Generates random numbers from a Wald (inverse Gaussian) distribution with specified mean and scale parameters.\n",
        "\n",
        "`np.random.weibull()`: Generates random numbers from a Weibull distribution with specified shape parameter."
      ],
      "metadata": {
        "id": "A2d-yqbw9T2n"
      }
    },
    {
      "cell_type": "markdown",
      "source": [
        "## numpy **indexing**"
      ],
      "metadata": {
        "id": "dzcvAx2ilqmz"
      }
    },
    {
      "cell_type": "code",
      "source": [
        "li=[3,5,6,77,65,4,3,2,2,2,4,7,64,3,2,3,4,5,6,6,5,3,13]\n",
        "\n",
        "arr=np.array(li)\n",
        "print(li, arr) # same"
      ],
      "metadata": {
        "colab": {
          "base_uri": "https://localhost:8080/"
        },
        "id": "60CPf0JYmbsY",
        "outputId": "31508166-69c6-475a-86b8-1668a8053b0b"
      },
      "execution_count": null,
      "outputs": [
        {
          "output_type": "stream",
          "name": "stdout",
          "text": [
            "[3, 5, 6, 77, 65, 4, 3, 2, 2, 2, 4, 7, 64, 3, 2, 3, 4, 5, 6, 6, 5, 3, 13] [ 3  5  6 77 65  4  3  2  2  2  4  7 64  3  2  3  4  5  6  6  5  3 13]\n"
          ]
        }
      ]
    },
    {
      "cell_type": "code",
      "source": [
        "print(arr.data)\n",
        "print(arr.shape)\n",
        "print(arr.size)\n",
        "print(arr.dtype) \n",
        "print(arr.strides) #  to move to the next element along the rows (axis 0), you need to skip 8 bytes in memory,"
      ],
      "metadata": {
        "colab": {
          "base_uri": "https://localhost:8080/"
        },
        "id": "tmuvtMpAhmAa",
        "outputId": "8d51cebe-1ba7-4a41-fd60-8a5cc7d3c5d4"
      },
      "execution_count": null,
      "outputs": [
        {
          "output_type": "stream",
          "name": "stdout",
          "text": [
            "<memory at 0x7f846f537a00>\n",
            "(23,)\n",
            "23\n",
            "int64\n",
            "(8,)\n"
          ]
        }
      ]
    },
    {
      "cell_type": "code",
      "source": [
        "li_2d=[[32,4,5,34],[23,52,3,5],[23,64,234,5],[5,3,6,8]]\n",
        "arr_2d=np.array(li_2d)\n",
        "print(arr_2d)"
      ],
      "metadata": {
        "colab": {
          "base_uri": "https://localhost:8080/"
        },
        "id": "y8PdTLW3l7u4",
        "outputId": "b2f56438-10a5-4c23-efeb-e212e64e17f3"
      },
      "execution_count": null,
      "outputs": [
        {
          "output_type": "stream",
          "name": "stdout",
          "text": [
            "[[ 32   4   5  34]\n",
            " [ 23  52   3   5]\n",
            " [ 23  64 234   5]\n",
            " [  5   3   6   8]]\n"
          ]
        }
      ]
    },
    {
      "cell_type": "code",
      "source": [
        "print(arr_2d.data)\n",
        "print(arr_2d.shape)\n",
        "print(arr_2d.size)\n",
        "print(arr_2d.dtype) \n",
        "print(arr_2d.strides)"
      ],
      "metadata": {
        "colab": {
          "base_uri": "https://localhost:8080/"
        },
        "id": "1KUsgBsZmli5",
        "outputId": "21a46e11-0aec-4ef0-f383-e338026f3c5e"
      },
      "execution_count": null,
      "outputs": [
        {
          "output_type": "stream",
          "name": "stdout",
          "text": [
            "<memory at 0x7f846f507850>\n",
            "(4, 4)\n",
            "16\n",
            "int64\n",
            "(32, 8)\n"
          ]
        }
      ]
    },
    {
      "cell_type": "markdown",
      "source": [
        "## numpy **Slicing**"
      ],
      "metadata": {
        "id": "pztrYaD7pPDU"
      }
    },
    {
      "cell_type": "code",
      "source": [
        "# in 1D array\n",
        "print(arr)\n",
        "\n",
        "print(arr[3]) # single value at index 3\n",
        "\n",
        "print(arr[0:3]) # from 0 to 2\n",
        "print(arr[:5]) # all row values till columnidx=5 (0 to 4)\n",
        "print(arr[2:5]) # from 2 to 4"
      ],
      "metadata": {
        "colab": {
          "base_uri": "https://localhost:8080/"
        },
        "id": "kkx-S8BHmuLy",
        "outputId": "ff172871-a805-4b99-9be4-06b63ed28a3c"
      },
      "execution_count": null,
      "outputs": [
        {
          "output_type": "stream",
          "name": "stdout",
          "text": [
            "[ 3  5  6 77 65  4  3  2  2  2  4  7 64  3  2  3  4  5  6  6  5  3 13]\n",
            "77\n",
            "[3 5 6]\n",
            "[ 3  5  6 77 65]\n",
            "[ 6 77 65]\n"
          ]
        }
      ]
    },
    {
      "cell_type": "code",
      "source": [
        "# in 2D array\n",
        "print(arr_2d,\"\\n\")\n",
        "\n",
        "print(arr_2d[1,2],\"\\n\") # single value at rowidx=1 and columnidx=2\n",
        "\n",
        "print(arr_2d[2:],\"\\n\") # exclude first 2 arrays only and print rest\n",
        "print(arr_2d[:3],\"\\n\") # exclude first 3 columns each array and print\n",
        "\n",
        "# Slice the second row, but only the first three elements\n",
        "print(arr_2d[1, :3],\"\\n\") \n",
        "\n",
        "# Slice the first three rows, but only the third column\n",
        "print(arr_2d[:3, 2],\"\\n\")\n",
        "\n",
        "# Slice the third row, but only the first three elements\n",
        "print(arr_2d[2, :3],\"\\n\") \n",
        "\n",
        "# Slice the fourth row, starting from index 1 until the end of the row\n",
        "print(arr_2d[3, 1:],\"\\n\")\n",
        "\n",
        "# Slice the first 3 rows, but only the first column\n",
        "print(arr_2d[0:3, 0],\"\\n\")  \n",
        "\n",
        "# Slice the third row, but only the first 2 columns\n",
        "print(arr_2d[2, 0:2],\"\\n\")  \n",
        "\n",
        "# Slice rows 2 to 4-1=3 (inclusive), and columns 1 to 3-1=2 (inclusive)\n",
        "print(arr_2d[2:4,1:3],\"\\n\")"
      ],
      "metadata": {
        "colab": {
          "base_uri": "https://localhost:8080/"
        },
        "id": "v2g85ZLFp13I",
        "outputId": "494d3088-1fab-424e-a80b-2b17a5a3b7ef"
      },
      "execution_count": null,
      "outputs": [
        {
          "output_type": "stream",
          "name": "stdout",
          "text": [
            "[[ 32   4   5  34]\n",
            " [ 23  52   3   5]\n",
            " [ 23  64 234   5]\n",
            " [  5   3   6   8]] \n",
            "\n",
            "3 \n",
            "\n",
            "[[ 23  64 234   5]\n",
            " [  5   3   6   8]] \n",
            "\n",
            "[[ 32   4   5  34]\n",
            " [ 23  52   3   5]\n",
            " [ 23  64 234   5]] \n",
            "\n",
            "[23 52  3] \n",
            "\n",
            "[  5   3 234] \n",
            "\n",
            "[ 23  64 234] \n",
            "\n",
            "[3 6 8] \n",
            "\n",
            "[32 23 23] \n",
            "\n",
            "[23 64] \n",
            "\n",
            "[[ 64 234]\n",
            " [  3   6]] \n",
            "\n"
          ]
        }
      ]
    }
  ]
}
