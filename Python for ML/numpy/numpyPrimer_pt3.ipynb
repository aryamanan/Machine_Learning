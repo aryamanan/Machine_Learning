{
  "nbformat": 4,
  "nbformat_minor": 0,
  "metadata": {
    "colab": {
      "provenance": [],
      "authorship_tag": "ABX9TyNbhz7QgdRysS/1hfhmeejD"
    },
    "kernelspec": {
      "name": "python3",
      "display_name": "Python 3"
    },
    "language_info": {
      "name": "python"
    }
  },
  "cells": [
    {
      "cell_type": "markdown",
      "source": [
        "# Numpy Primer pt3 "
      ],
      "metadata": {
        "id": "ah5Xum0pYLip"
      }
    },
    {
      "cell_type": "code",
      "execution_count": 1,
      "metadata": {
        "id": "vyM0eKpAXuQw"
      },
      "outputs": [],
      "source": [
        "import numpy as np"
      ]
    },
    {
      "cell_type": "markdown",
      "source": [
        "###  Other Useful numpy Operations "
      ],
      "metadata": {
        "id": "F5woyVDWcPVU"
      }
    },
    {
      "cell_type": "code",
      "source": [
        "a=np.array([22,3,56,34,2,45,6,74]) # New Vector\n",
        "\n",
        "expn=np.exp(a) # gives e^x value\n",
        "\n",
        "natlog=np.log(a) # gives natural log value\n",
        "\n",
        "clipped=np.clip(a,None,20) # only includes values below threshold\n",
        "\n",
        "print(expn,'\\n\\n',natlog,'\\n\\n',clipped)"
      ],
      "metadata": {
        "colab": {
          "base_uri": "https://localhost:8080/"
        },
        "id": "I4kMb6p5dovd",
        "outputId": "21ddd8ce-d6dc-4a75-f0ec-60fe84b647f3"
      },
      "execution_count": 42,
      "outputs": [
        {
          "output_type": "stream",
          "name": "stdout",
          "text": [
            "[3.58491285e+09 2.00855369e+01 2.09165950e+24 5.83461743e+14\n",
            " 7.38905610e+00 3.49342711e+19 4.03428793e+02 1.37338298e+32] \n",
            "\n",
            " [3.09104245 1.09861229 4.02535169 3.52636052 0.69314718 3.80666249\n",
            " 1.79175947 4.30406509] \n",
            "\n",
            " [20  3 20 20  2 20  6 20]\n"
          ]
        }
      ]
    },
    {
      "cell_type": "code",
      "source": [
        "# Min-Max values\n",
        "\n",
        "max=np.max(a)\n",
        "min=np.min(a)\n",
        "\n",
        "\n",
        "# Find the indices of the maximum or minimum values in an array.\n",
        "position_of_max_element=np.argmax(a) \n",
        "position_of_min_element=np.argmin(a)\n",
        "\n",
        "sortindices=np.argsort(a) #Return the indices that would sort an array.\n",
        "\n",
        "sorted_a=np.sort(a) # Sort the array\n",
        "\n",
        "print(max,min,position_of_min_element,position_of_max_element,'\\n\\n',sortindices,'\\n\\n',sorted_a)"
      ],
      "metadata": {
        "colab": {
          "base_uri": "https://localhost:8080/"
        },
        "id": "8e0hyESCcYJM",
        "outputId": "ea3a4766-3c91-42a2-b2c6-351be99595ba"
      },
      "execution_count": 45,
      "outputs": [
        {
          "output_type": "stream",
          "name": "stdout",
          "text": [
            "74 2 4 7 \n",
            "\n",
            " [4 1 6 0 3 5 2 7] \n",
            "\n",
            " [ 2  3  6 22 34 45 56 74]\n"
          ]
        }
      ]
    },
    {
      "cell_type": "code",
      "source": [
        "# let's create an array again\n",
        "\n",
        "arr=np.ones(10)\n",
        "print(arr)"
      ],
      "metadata": {
        "colab": {
          "base_uri": "https://localhost:8080/"
        },
        "id": "7RVlxgP2X4XP",
        "outputId": "b7bde704-246a-4bd4-96af-0541e55ce8ca"
      },
      "execution_count": 3,
      "outputs": [
        {
          "output_type": "stream",
          "name": "stdout",
          "text": [
            "[1. 1. 1. 1. 1. 1. 1. 1. 1. 1.]\n"
          ]
        }
      ]
    },
    {
      "cell_type": "code",
      "source": [
        "# Reshape the array\n",
        "\n",
        "reshaped=np.reshape(arr,(2,5))\n",
        "print(reshaped,'\\n','\\n',reshaped.shape)"
      ],
      "metadata": {
        "colab": {
          "base_uri": "https://localhost:8080/"
        },
        "id": "sNtfb30SYZfY",
        "outputId": "21ca2cfc-672e-44ce-ef3c-ebd1c1e3eab4"
      },
      "execution_count": 12,
      "outputs": [
        {
          "output_type": "stream",
          "name": "stdout",
          "text": [
            "[[1. 1. 1. 1. 1.]\n",
            " [1. 1. 1. 1. 1.]] \n",
            " \n",
            " (2, 5)\n"
          ]
        }
      ]
    },
    {
      "cell_type": "markdown",
      "source": [
        "###  numpy **Concatenate**\n",
        "join 2 arrays either row-wise or column-wise\n",
        "\n",
        "> Useful in One Hot Encoding with multiple categorical variables"
      ],
      "metadata": {
        "id": "2LdvseQTZJPO"
      }
    },
    {
      "cell_type": "code",
      "source": [
        "# Concatenate arrays\n",
        "\n",
        "binarr1=[1 if a>0.5 else 0 for a in np.random.random(size=4)]\n",
        "binarr2=[1 if a>0.7 else 0 for a in np.random.random(size=4)]\n",
        "print(binarr1,'\\n',binarr2)"
      ],
      "metadata": {
        "colab": {
          "base_uri": "https://localhost:8080/"
        },
        "id": "vtKtKMLcYkDD",
        "outputId": "0c0e0abf-56dd-4667-dcd9-d3526d015eeb"
      },
      "execution_count": 33,
      "outputs": [
        {
          "output_type": "stream",
          "name": "stdout",
          "text": [
            "[1, 1, 1, 0] \n",
            " [0, 1, 1, 0]\n"
          ]
        }
      ]
    },
    {
      "cell_type": "code",
      "source": [
        "# works only on numpy arrays\n",
        "b1=np.array(binarr1)\n",
        "b2=np.array(binarr2)\n",
        "\n",
        "res=np.concatenate((b1,b2),axis=0) # concatenate a1 and a1 row-wise\n",
        "print(res)"
      ],
      "metadata": {
        "colab": {
          "base_uri": "https://localhost:8080/"
        },
        "id": "tpYinXy3Z_R6",
        "outputId": "06f6fc3e-76b8-46dd-f78f-5ca6d16e11ce"
      },
      "execution_count": 25,
      "outputs": [
        {
          "output_type": "stream",
          "name": "stdout",
          "text": [
            "[1 0 0 1 0 0 0 0]\n"
          ]
        }
      ]
    },
    {
      "cell_type": "code",
      "source": [
        "# For column-wise concatenation we need 2D arrays\n",
        "b1=np.reshape(b1,(2,2))\n",
        "b2=np.reshape(b2,(2,2))\n",
        "print(b1,'\\n','\\n',b2,'\\n')\n",
        "\n",
        "res=np.concatenate((b1,b2),axis=1)\n",
        "print(res)"
      ],
      "metadata": {
        "colab": {
          "base_uri": "https://localhost:8080/"
        },
        "id": "UFs2aVB1ai1I",
        "outputId": "08bdea2b-329a-483b-b6a0-e2cb244790e1"
      },
      "execution_count": 32,
      "outputs": [
        {
          "output_type": "stream",
          "name": "stdout",
          "text": [
            "[[1 0]\n",
            " [0 1]] \n",
            " \n",
            " [[0 0]\n",
            " [0 0]] \n",
            "\n",
            "[[1 0 0 0]\n",
            " [0 1 0 0]]\n"
          ]
        }
      ]
    },
    {
      "cell_type": "markdown",
      "source": [
        "# **Linear Algebra Calculations** in `numpy`"
      ],
      "metadata": {
        "id": "veCgAYwxe6R5"
      }
    },
    {
      "cell_type": "code",
      "source": [
        "# Let's make a square matrix for this\n",
        "sq=np.random.randint(5,20,(3,3))\n",
        "\n",
        "\n",
        "inverse=np.linalg.inv(sq) # Compute the inverse of a square matrix.\n",
        "\n",
        "determinant=np.linalg.det(sq) #  Compute the determinant of a square matrix.\n",
        "\n",
        "eigenvectors=np.linalg.eig(sq) #  Compute the eigenvalues and eigenvectors of a square matrix.\n",
        "\n",
        "print(inverse,'\\n\\n',determinant,'\\n\\n', eigenvectors)"
      ],
      "metadata": {
        "colab": {
          "base_uri": "https://localhost:8080/"
        },
        "id": "8hu8OiTbbLm9",
        "outputId": "9ab850f1-7f3e-423a-b859-6cbda4a0023c"
      },
      "execution_count": 69,
      "outputs": [
        {
          "output_type": "stream",
          "name": "stdout",
          "text": [
            "[[ 0.02083333  0.09375    -0.05208333]\n",
            " [ 0.625      -0.6875     -0.0625    ]\n",
            " [-0.77083333  0.78125     0.17708333]] \n",
            "\n",
            " -192.0 \n",
            "\n",
            " (array([31.8604919 ,  4.48358316, -1.34407506]), array([[-0.57968892, -0.37091524,  0.13346188],\n",
            "       [-0.44461478, -0.31457551, -0.69790793],\n",
            "       [-0.68284584,  0.87376434,  0.70364227]]))\n"
          ]
        }
      ]
    },
    {
      "cell_type": "markdown",
      "source": [
        "### numpy **split**"
      ],
      "metadata": {
        "id": "qA-qCWf1gZOY"
      }
    },
    {
      "cell_type": "code",
      "source": [
        "arr=np.array([1,2,3,4,5,6,7,8])\n",
        "\n",
        "subarrays=np.split(arr,4) # split array into 4 subarrays\n",
        "print(subarrays)"
      ],
      "metadata": {
        "colab": {
          "base_uri": "https://localhost:8080/"
        },
        "id": "MOzB1YwgfKjY",
        "outputId": "3c4216d4-6431-462a-eda0-09c9fea5952c"
      },
      "execution_count": 57,
      "outputs": [
        {
          "output_type": "stream",
          "name": "stdout",
          "text": [
            "[array([1, 2]), array([3, 4]), array([5, 6]), array([7, 8])]\n"
          ]
        }
      ]
    },
    {
      "cell_type": "code",
      "source": [
        "# splitting at specific indices\n",
        "\n",
        "subarrays=np.split(arr,[2,5])\n",
        "print(subarrays)"
      ],
      "metadata": {
        "colab": {
          "base_uri": "https://localhost:8080/"
        },
        "id": "10XjhuH0g3wd",
        "outputId": "1491b968-31e7-4f3d-b2c2-0e0d81ca468d"
      },
      "execution_count": 59,
      "outputs": [
        {
          "output_type": "stream",
          "name": "stdout",
          "text": [
            "[array([1, 2]), array([3, 4, 5]), array([6, 7, 8])]\n"
          ]
        }
      ]
    },
    {
      "cell_type": "code",
      "source": [
        "# splitting 2D array along second axis\n",
        "\n",
        "arr = np.array([[1,2,3],[4,5,6],[7,8,9],[10,11,12]])\n",
        "subarrays=np.split(arr,3,axis=1)\n",
        "print(subarrays)"
      ],
      "metadata": {
        "colab": {
          "base_uri": "https://localhost:8080/"
        },
        "id": "LXUi_WIihFrA",
        "outputId": "eb7fcb76-0a99-4c4f-fb38-b7a6706790bf"
      },
      "execution_count": 61,
      "outputs": [
        {
          "output_type": "stream",
          "name": "stdout",
          "text": [
            "[array([[ 1],\n",
            "       [ 4],\n",
            "       [ 7],\n",
            "       [10]]), array([[ 2],\n",
            "       [ 5],\n",
            "       [ 8],\n",
            "       [11]]), array([[ 3],\n",
            "       [ 6],\n",
            "       [ 9],\n",
            "       [12]])]\n"
          ]
        }
      ]
    },
    {
      "cell_type": "code",
      "source": [
        "# Matrix Multiplication method 2\n",
        "\n",
        "a1=np.random.randint(0,100,(2,3))\n",
        "print(a1,\"\\n\\n\")\n",
        "\n",
        "a2=np.random.randint(0,100,(3,5))\n",
        "print(a2,\"\\n\\n\")\n",
        "\n",
        "res=np.matmul(a1,a2)\n",
        "print(res)"
      ],
      "metadata": {
        "colab": {
          "base_uri": "https://localhost:8080/"
        },
        "id": "xnP6REpuhO2O",
        "outputId": "4e8a882d-1319-41a8-f84d-c1d7c7fb249e"
      },
      "execution_count": 66,
      "outputs": [
        {
          "output_type": "stream",
          "name": "stdout",
          "text": [
            "[[86 97 81]\n",
            " [11 73 54]] \n",
            "\n",
            "\n",
            "[[77 90 73 91 67]\n",
            " [40 16 89 81 77]\n",
            " [17 18 60 53 77]] \n",
            "\n",
            "\n",
            "[[11879 10750 19771 19976 19468]\n",
            " [ 4685  3130 10540  9776 10516]]\n"
          ]
        }
      ]
    },
    {
      "cell_type": "markdown",
      "source": [
        "## numpy  `expand_dims()`"
      ],
      "metadata": {
        "id": "RFtyX9hMiozd"
      }
    },
    {
      "cell_type": "code",
      "source": [
        "# Expand dimensions at the beginning (axis 0)\n",
        "\n",
        "arr=np.array([1,2,3])\n",
        "expanded_arr=np.expand_dims(arr,axis=0)\n",
        "print(expanded_arr.shape)  # Output: (1, 3)"
      ],
      "metadata": {
        "colab": {
          "base_uri": "https://localhost:8080/"
        },
        "id": "53jS5tZWiBpE",
        "outputId": "7147b052-702d-497f-bbf7-29d0d034a5a8"
      },
      "execution_count": 70,
      "outputs": [
        {
          "output_type": "stream",
          "name": "stdout",
          "text": [
            "(1, 3)\n"
          ]
        }
      ]
    },
    {
      "cell_type": "code",
      "source": [
        "# Expand dimensions at the end (default behavior, axis -1):\n",
        "\n",
        "expanded_arr = np.expand_dims(arr,axis=-1)\n",
        "print(expanded_arr.shape)  # Output: (3, 1)"
      ],
      "metadata": {
        "colab": {
          "base_uri": "https://localhost:8080/"
        },
        "id": "IWiiyFI-i8WR",
        "outputId": "507d3203-7d22-4860-c07d-107b7d97ffb5"
      },
      "execution_count": 72,
      "outputs": [
        {
          "output_type": "stream",
          "name": "stdout",
          "text": [
            "(3, 1)\n"
          ]
        }
      ]
    },
    {
      "cell_type": "code",
      "source": [
        "# Expand dimensions of a 2D array:\n",
        "\n",
        "arr=np.array([[1,2],[3,4]])\n",
        "expanded_arr=np.expand_dims(arr,axis=0)\n",
        "print(expanded_arr.shape)  # Output: (1, 2, 2)"
      ],
      "metadata": {
        "colab": {
          "base_uri": "https://localhost:8080/"
        },
        "id": "yggLfmmwi_gR",
        "outputId": "9f607551-b0f3-432e-d448-bb1c73e3afe6"
      },
      "execution_count": 73,
      "outputs": [
        {
          "output_type": "stream",
          "name": "stdout",
          "text": [
            "(1, 2, 2)\n"
          ]
        }
      ]
    },
    {
      "cell_type": "code",
      "source": [
        "# Expand dimensions of a higher-dimensional array:\n",
        "\n",
        "arr=np.ones((2,3,4))\n",
        "expanded_arr = np.expand_dims(arr,axis=1)\n",
        "print(expanded_arr.shape)  # Output: (2, 1, 3, 4)\n"
      ],
      "metadata": {
        "colab": {
          "base_uri": "https://localhost:8080/"
        },
        "id": "X2aO7MyrjY-l",
        "outputId": "40a89bad-af18-4f6f-b11d-47e972da207d"
      },
      "execution_count": 74,
      "outputs": [
        {
          "output_type": "stream",
          "name": "stdout",
          "text": [
            "(2, 1, 3, 4)\n"
          ]
        }
      ]
    }
  ]
}
