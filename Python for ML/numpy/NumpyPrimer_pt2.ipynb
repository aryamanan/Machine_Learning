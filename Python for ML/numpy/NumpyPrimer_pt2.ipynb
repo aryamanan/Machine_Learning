{
  "nbformat": 4,
  "nbformat_minor": 0,
  "metadata": {
    "colab": {
      "provenance": [],
      "authorship_tag": "ABX9TyMxb1PaiF7c4U6q/wsZHdQY"
    },
    "kernelspec": {
      "name": "python3",
      "display_name": "Python 3"
    },
    "language_info": {
      "name": "python"
    }
  },
  "cells": [
    {
      "cell_type": "markdown",
      "source": [
        "# Numpy Primer pt2"
      ],
      "metadata": {
        "id": "zAyYcrTG3Llf"
      }
    },
    {
      "cell_type": "code",
      "execution_count": 114,
      "metadata": {
        "id": "xmHVIsMn3H0x"
      },
      "outputs": [],
      "source": [
        "# import dependencies\n",
        "import numpy as np"
      ]
    },
    {
      "cell_type": "code",
      "source": [
        "# Make vectors ie 1D arrays in numpy\n",
        "\n",
        "a1=np.array([1,3,5,5,7,2,1],dtype='int64')\n",
        "a2=np.array([4,6,7,4,2,4,3],dtype='int64')"
      ],
      "metadata": {
        "colab": {
          "base_uri": "https://localhost:8080/",
          "height": 224
        },
        "id": "xeRVKPZrJWxx",
        "outputId": "0b33a550-e985-4401-dbcb-9f8ec2678318"
      },
      "execution_count": 115,
      "outputs": [
        {
          "output_type": "error",
          "ename": "TypeError",
          "evalue": "ignored",
          "traceback": [
            "\u001b[0;31m---------------------------------------------------------------------------\u001b[0m",
            "\u001b[0;31mTypeError\u001b[0m                                 Traceback (most recent call last)",
            "\u001b[0;32m<ipython-input-115-a97ca0f83f25>\u001b[0m in \u001b[0;36m<cell line: 3>\u001b[0;34m()\u001b[0m\n\u001b[1;32m      1\u001b[0m \u001b[0;31m# Make vectors ie 1D arrays in numpy\u001b[0m\u001b[0;34m\u001b[0m\u001b[0;34m\u001b[0m\u001b[0m\n\u001b[1;32m      2\u001b[0m \u001b[0;34m\u001b[0m\u001b[0m\n\u001b[0;32m----> 3\u001b[0;31m \u001b[0ma1\u001b[0m\u001b[0;34m=\u001b[0m\u001b[0mnp\u001b[0m\u001b[0;34m.\u001b[0m\u001b[0marray\u001b[0m\u001b[0;34m(\u001b[0m\u001b[0;34m[\u001b[0m\u001b[0;36m1\u001b[0m\u001b[0;34m,\u001b[0m\u001b[0;36m3\u001b[0m\u001b[0;34m,\u001b[0m\u001b[0;36m5\u001b[0m\u001b[0;34m,\u001b[0m\u001b[0;36m5\u001b[0m\u001b[0;34m,\u001b[0m\u001b[0;36m7\u001b[0m\u001b[0;34m,\u001b[0m\u001b[0;36m2\u001b[0m\u001b[0;34m,\u001b[0m\u001b[0;36m1\u001b[0m\u001b[0;34m]\u001b[0m\u001b[0;34m,\u001b[0m\u001b[0mdtype\u001b[0m\u001b[0;34m=\u001b[0m\u001b[0;34m'int64'\u001b[0m\u001b[0;34m)\u001b[0m\u001b[0;34m\u001b[0m\u001b[0;34m\u001b[0m\u001b[0m\n\u001b[0m\u001b[1;32m      4\u001b[0m \u001b[0ma2\u001b[0m\u001b[0;34m=\u001b[0m\u001b[0mnp\u001b[0m\u001b[0;34m.\u001b[0m\u001b[0marray\u001b[0m\u001b[0;34m(\u001b[0m\u001b[0;34m[\u001b[0m\u001b[0;36m4\u001b[0m\u001b[0;34m,\u001b[0m\u001b[0;36m6\u001b[0m\u001b[0;34m,\u001b[0m\u001b[0;36m7\u001b[0m\u001b[0;34m,\u001b[0m\u001b[0;36m4\u001b[0m\u001b[0;34m,\u001b[0m\u001b[0;36m2\u001b[0m\u001b[0;34m,\u001b[0m\u001b[0;36m4\u001b[0m\u001b[0;34m,\u001b[0m\u001b[0;36m3\u001b[0m\u001b[0;34m]\u001b[0m\u001b[0;34m,\u001b[0m\u001b[0mdtype\u001b[0m\u001b[0;34m=\u001b[0m\u001b[0;34m'int64'\u001b[0m\u001b[0;34m)\u001b[0m\u001b[0;34m\u001b[0m\u001b[0;34m\u001b[0m\u001b[0m\n",
            "\u001b[0;31mTypeError\u001b[0m: 'list' object is not callable"
          ]
        }
      ]
    },
    {
      "cell_type": "code",
      "source": [
        "# Make a matrix ie 2D arrays in numpy\n",
        "mat=np.matrix('1 3 5 6; 3 5 7 8')\n",
        "print(mat,np.shape(mat))\n",
        "\n",
        "# a better way to make a numpy matrix\n",
        "np.array=([[3,4,5,6,7,2],[9,7,6,0,7,8],[5,0,8,6,4,3]])\n",
        "print(np.shape(array), \"\\n\", array) # np.shape gives as you can guess, shape of array"
      ],
      "metadata": {
        "colab": {
          "base_uri": "https://localhost:8080/"
        },
        "id": "IVPRJIV73_ho",
        "outputId": "4a8da47b-3880-49ac-c1f0-f107924079e5"
      },
      "execution_count": 100,
      "outputs": [
        {
          "output_type": "stream",
          "name": "stdout",
          "text": [
            "[[1 3 5 6]\n",
            " [3 5 7 8]] (2, 4)\n",
            "(3, 6) \n",
            " [[3, 4, 5, 6, 7, 2], [9, 7, 6, 0, 7, 8], [5, 0, 8, 6, 4, 3]]\n"
          ]
        }
      ]
    },
    {
      "cell_type": "markdown",
      "source": [
        "## Shuffle\n",
        "Shuffles the rows randomly in a numpy array object\n",
        "> Extremely important for Stochastic Gradient Descent"
      ],
      "metadata": {
        "id": "I0-hAnOd3dxE"
      }
    },
    {
      "cell_type": "code",
      "source": [
        "# now shuffle the rows\n",
        "np.random.seed(42)\n",
        "np.random.shuffle(array)\n",
        "print(array)"
      ],
      "metadata": {
        "colab": {
          "base_uri": "https://localhost:8080/"
        },
        "id": "hsEiAw5L4dfU",
        "outputId": "2609f13a-20ae-43bb-adb9-246c964a0f75"
      },
      "execution_count": 56,
      "outputs": [
        {
          "output_type": "stream",
          "name": "stdout",
          "text": [
            "[[3, 4, 5, 6, 7, 2], [9, 7, 6, 0, 7, 8], [5, 0, 8, 6, 4, 3]]\n"
          ]
        }
      ]
    },
    {
      "cell_type": "markdown",
      "source": [
        "## Basic Operations "
      ],
      "metadata": {
        "id": "_LnINDN03bfG"
      }
    },
    {
      "cell_type": "code",
      "source": [
        "# you can perform basic arithmetic operations on numpy arrays\n",
        "# in all these, corresponding elements are affected by each other only\n",
        "# hence dimention of each vector ie shape needs to be same for them to work\n",
        "\n",
        "print(a1+a2,\"\\n\")\n",
        "print(a1-a2,\"\\n\")\n",
        "print(a1/a2,\"\\n\")\n",
        "print(a1*a2,\"\\n\")\n",
        "print(a1**a2,\"\\n\") # a1 to the power of a2"
      ],
      "metadata": {
        "colab": {
          "base_uri": "https://localhost:8080/"
        },
        "id": "vZ7Qvc-0-gMn",
        "outputId": "13ecc98d-1a28-48ea-ed90-4e395e00564c"
      },
      "execution_count": 61,
      "outputs": [
        {
          "output_type": "stream",
          "name": "stdout",
          "text": [
            "[ 5  9 12  9  9  6  4] \n",
            "\n",
            "[-3 -3 -2  1  5 -2 -2] \n",
            "\n",
            "[0.25       0.5        0.71428571 1.25       3.5        0.5\n",
            " 0.33333333] \n",
            "\n",
            "[ 4 18 35 20 14  8  3] \n",
            "\n",
            "[    1   729 78125   625    49    16     1] \n",
            "\n"
          ]
        }
      ]
    },
    {
      "cell_type": "code",
      "source": [
        "# another way to do this\n",
        "add=np.add(a1,a2) # Add two arrays element-wise.\n",
        "subs=np.subtract(a1,a2) # Subtract two arrays element-wise.\n",
        "mult=np.multiply(a1,a2) # Multiply two arrays element-wise.\n",
        "divd=np.divide(a1,a2) # Divide two arrays element-wise.\n",
        "divd=[np.round(x,2) for x in divd] \n",
        "print(add,\"\\n\",subs,\"\\n\",mult,\"\\n\",divd)"
      ],
      "metadata": {
        "colab": {
          "base_uri": "https://localhost:8080/"
        },
        "id": "f-CgnCq0GHpo",
        "outputId": "203e1745-ea70-4e95-e733-2caae85effa7"
      },
      "execution_count": 96,
      "outputs": [
        {
          "output_type": "stream",
          "name": "stdout",
          "text": [
            "[ 5  9 12  9  9  6  4] \n",
            " [-3 -3 -2  1  5 -2 -2] \n",
            " [ 4 18 35 20 14  8  3] \n",
            " [0.25, 0.5, 0.71, 1.25, 3.5, 0.5, 0.33]\n"
          ]
        }
      ]
    },
    {
      "cell_type": "code",
      "source": [
        "sum=np.sum([a1,a2]) #add arrays\n",
        "print(sum,\"\\n\")\n",
        "\n",
        "dot=np.dot(a1,a2) # dot product of vectors (matrix multiplication)\n",
        "print(dot,\"\\n\")\n",
        "\n",
        "res=np.transpose(array) # Transpose the matrix/vector\n",
        "print(res,\"\\n\")\n",
        "\n",
        "mean=np.mean(a1) # mean of an array\n",
        "std_dev=np.std(a1) # standard deviation of the array\n",
        "print(mean, std_dev,\"\\n\")\n",
        "\n",
        "# Other basic operations\n",
        "sqrt=np.sqrt(25)\n",
        "ceil=np.ceil(34.533)\n",
        "floor=np.floor(67.4545)\n",
        "print(sqrt,ceil,floor,\"\\n\")\n",
        "\n",
        "# Trignometric Functions\n",
        "\n",
        "sin=np.sin(4/5)\n",
        "cos=np.cos(3/5)\n",
        "tan=np.tan(23)\n",
        "\n",
        "# Inverse Trignometric Functions\n",
        "\n",
        "arcsin=np.arcsin(0.4)\n",
        "arccos=np.arccos(0.5)\n",
        "arctan=np.arctan(0.01)\n",
        "\n",
        "# Hyperbolic Trignometric Functions (angle = length of arc/radius but the arc is of hyperbola instead of a circle)\n",
        "\n",
        "hypersin=np.sinh(434)\n",
        "hypercos=np.cosh(34)\n",
        "hypertan=np.tanh(4334) #### VERY IMPORTANT FUNCTION (ACTIVATION FUNCTION)\n",
        "\n",
        "print(sin,cos,tan,arcsin,arccos,arctan,hypersin,hypercos,hypertan)"
      ],
      "metadata": {
        "colab": {
          "base_uri": "https://localhost:8080/"
        },
        "id": "NVCTLSQw490n",
        "outputId": "1630a93c-2a52-4b9f-c744-b554bbed5f65"
      },
      "execution_count": 76,
      "outputs": [
        {
          "output_type": "stream",
          "name": "stdout",
          "text": [
            "54 \n",
            "\n",
            "102 \n",
            "\n",
            "[[3 9 5]\n",
            " [4 7 0]\n",
            " [5 6 8]\n",
            " [6 0 6]\n",
            " [7 7 4]\n",
            " [2 8 3]] \n",
            "\n",
            "3.4285714285714284 2.1285234893930483 \n",
            "\n",
            "5.0 35.0 67.0 \n",
            "\n",
            "0.7173560908995228 0.8253356149096783 1.5881530833912738 0.41151684606748806 1.0471975511965979 0.009999666686665238 1.5232639018720384e+188 291730871263727.44 1.0\n"
          ]
        }
      ]
    },
    {
      "cell_type": "code",
      "source": [
        "# Round-off and Truncation \n",
        "\n",
        "a=np.trunc(5.34343) # removes decimal values ie truncates\n",
        "b=np.round(5.34343,2) # rounds the vaulue till 2nd decimal value\n",
        "print(a,b)"
      ],
      "metadata": {
        "colab": {
          "base_uri": "https://localhost:8080/"
        },
        "id": "UXQwkLqf5adc",
        "outputId": "5e35b8bc-b170-410f-bc77-de822e300319"
      },
      "execution_count": 63,
      "outputs": [
        {
          "output_type": "stream",
          "name": "stdout",
          "text": [
            "5.0 5.34\n"
          ]
        }
      ]
    },
    {
      "cell_type": "code",
      "source": [
        "# Euclidian Distance between 2 Vectors\n",
        "\n",
        "# euclidean distances are helful in algorithms like KNN\n",
        "# they also help in finding cosine_similarity\n",
        "\n",
        "d=((a1-a2)**2).sum()\n",
        "euc_dist=np.sqrt(d)\n",
        "print(euc_dist)"
      ],
      "metadata": {
        "colab": {
          "base_uri": "https://localhost:8080/"
        },
        "id": "zHIGWMlw87Vw",
        "outputId": "1ad94a4a-ce01-45d2-f345-d67771cf718b"
      },
      "execution_count": 84,
      "outputs": [
        {
          "output_type": "stream",
          "name": "stdout",
          "text": [
            "7.483314773547883\n"
          ]
        }
      ]
    },
    {
      "cell_type": "code",
      "source": [
        "# Standard Deviation and Variance (manually using numpy)\n",
        "\n",
        "x=a1 # copy the array here\n",
        "\n",
        "x_bar=np.mean(a1)\n",
        "#OR\n",
        "x_bar=a1.mean()\n",
        "\n",
        "# x.shape[0] gives the no of elements in a row of the array\n",
        "var=np.sum((x-x_bar)**2)/(x.shape[0]-1) # Variance\n",
        "std_dev=np.sqrt(var)\n",
        "print(var, std_dev)"
      ],
      "metadata": {
        "colab": {
          "base_uri": "https://localhost:8080/"
        },
        "id": "7ps7fZbt9RzO",
        "outputId": "be65f79c-d9b2-43cd-baee-f12d93736257"
      },
      "execution_count": 82,
      "outputs": [
        {
          "output_type": "stream",
          "name": "stdout",
          "text": [
            "5.285714285714286 2.29906813420444\n"
          ]
        }
      ]
    }
  ]
}
