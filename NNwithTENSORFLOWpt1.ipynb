{
  "nbformat": 4,
  "nbformat_minor": 0,
  "metadata": {
    "colab": {
      "provenance": [],
      "authorship_tag": "ABX9TyOeNyTdck4rFnHIvZLsygAV"
    },
    "kernelspec": {
      "name": "python3",
      "display_name": "Python 3"
    },
    "language_info": {
      "name": "python"
    }
  },
  "cells": [
    {
      "cell_type": "markdown",
      "source": [
        "\n",
        "# Modeling linearly separable problems using Single Layer Perceptron in TENSORFLOW\n",
        "\n",
        "> `Universal Approximation Theorem:` a neural network with a single hidden layer containing a finite number of neurons can approximate any continuous function, given that the activation function is non-linear\n",
        "\n",
        "SINGLE LAYER PERCEPTRON  doesn't have a hidden layer, only has one layer of input nodes that are fully connected to the output node. \n",
        "\n",
        "![single-layer-perceptron-in-tensorflow2.png](data:image/png;base64,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)\n",
        "\n",
        "Here, The output node calculates the weighted sum of the input values and applies an activation function to produce the output."
      ],
      "metadata": {
        "id": "EJCl5QfVu3a2"
      }
    },
    {
      "cell_type": "code",
      "execution_count": null,
      "metadata": {
        "id": "gM6erY4PuzJi"
      },
      "outputs": [],
      "source": [
        "# Importing Dependencies (modules/libraries)\n",
        "\n",
        "import tensorflow as tf\n",
        "import keras as ks\n",
        "import numpy as np \n",
        "import sklearn.preprocessing"
      ]
    },
    {
      "cell_type": "markdown",
      "source": [
        "### What is a Model?\n",
        "acts as a mathematical function which takes input features and returns a target variable value/output label\n",
        "> remember, a model is problem specific and different for every distict ml problem,\n",
        "\n",
        "### What do we mean by Training a model?\n",
        "  > fitting the model on set of training data\n",
        "\n",
        "\n",
        "  The act of calculating the current loss of a model and then improving it is precisely what training is.\n",
        "\n",
        "  - During training, the optimizer function is used to calculate adjustments to the model's internal variables. \n",
        "  - The goal is to adjust the internal variables until we recieve predicted values which resemble actual values that are recieved for a given problem\n",
        "\n",
        "\n",
        "\n",
        "### Steps involved in training a NN model:\n",
        "---\n",
        "  1. `Data Preprocessing:` This may involve \n",
        "    - handling missing values\n",
        "    - normalizing or scaling features\n",
        "    - encoding categorical variables.\n",
        "  ---\n",
        "  2. `Splitting the data` into test and train(validation) set\n",
        "  \n",
        "    - `train set` is used to train the model\n",
        "\n",
        "    - `test set` is used to evaluate its performance\n",
        "  ---\n",
        "  3. `Model Selection:`  Choose the appropriate model or algorithm for the problem at hand.\n",
        "\n",
        "  - This could be a \n",
        "    - linear regression\n",
        "    - decision tree\n",
        "    - neural network, \n",
        "    - any other suitable model depending on the problem type (regression, classification, etc.) and the nature of the data.\n",
        "  ---\n",
        "  4. `Model Configuration `\n",
        "\n",
        "    - no of layers in NN\n",
        "    - type of layer selected\n",
        "    - activation function\n",
        "    - other relevant parameters\n",
        "  ---\n",
        "  5. `Model Training`\n",
        "   - Train the model using the training data by iteratively adjusting its internal parameters to minimize the difference between its predictions and the actual target values. \n",
        "   - This process is typically guided by a loss function and an optimization algorithm.\n",
        "  ---\n",
        "  6. `Model Evaluation`\n",
        "    - Assess the model's performance on the validation set to ensure it generalizes well to new, unseen data.\n",
        "    -  This may involve calculating various evaluation metrics such as accuracy, precision, recall, or mean"
      ],
      "metadata": {
        "id": "VBq5dnMGs08w"
      }
    },
    {
      "cell_type": "code",
      "source": [
        "def calc(x):\n",
        "  return (x*9/5)+32"
      ],
      "metadata": {
        "id": "AqhnI0v58y4T"
      },
      "execution_count": null,
      "outputs": []
    },
    {
      "cell_type": "markdown",
      "source": [
        "## Setting up training data\n",
        "\n",
        "> Supervised Learning is all about creating a model(function) which takes input values and returns accurate corresponding output values.\n",
        "\n",
        "#### Some terminology for Supervised learning\n",
        "\n",
        "- `feature` --> input values/columns that are inserted as training/testing data into ml model\n",
        "- `label` --> the corresponding output label recieved from the input data, can take multiple inputs depending on no of model/function parameters"
      ],
      "metadata": {
        "id": "H1jUk9aUU6VO"
      }
    },
    {
      "cell_type": "code",
      "source": [
        "# lets make a simple training data first with 2 ordered lists \n",
        "# ie temprature in Celsius to temprature in farenheit\n",
        "\n",
        "list1=[12,34,84,56,76,4,2,234,676,45,22,45,65,453] # temp in celcius\n",
        "list2=[calc(x) for x in list1] # corresponding temp in farenheit\n",
        "\n",
        "for i,c in enumerate(list1):\n",
        "    print('{} degree Celsius = {} degree Fahrenheit'.format(c,list2[i]))"
      ],
      "metadata": {
        "id": "wjBoHR-b8zFt",
        "colab": {
          "base_uri": "https://localhost:8080/"
        },
        "outputId": "bfe83780-3806-49ee-c566-d8b38d176315"
      },
      "execution_count": null,
      "outputs": [
        {
          "output_type": "stream",
          "name": "stdout",
          "text": [
            "12 degree Celsius = 53.6 degree Fahrenheit\n",
            "34 degree Celsius = 93.2 degree Fahrenheit\n",
            "84 degree Celsius = 183.2 degree Fahrenheit\n",
            "56 degree Celsius = 132.8 degree Fahrenheit\n",
            "76 degree Celsius = 168.8 degree Fahrenheit\n",
            "4 degree Celsius = 39.2 degree Fahrenheit\n",
            "2 degree Celsius = 35.6 degree Fahrenheit\n",
            "234 degree Celsius = 453.2 degree Fahrenheit\n",
            "676 degree Celsius = 1248.8 degree Fahrenheit\n",
            "45 degree Celsius = 113.0 degree Fahrenheit\n",
            "22 degree Celsius = 71.6 degree Fahrenheit\n",
            "45 degree Celsius = 113.0 degree Fahrenheit\n",
            "65 degree Celsius = 149.0 degree Fahrenheit\n",
            "453 degree Celsius = 847.4 degree Fahrenheit\n"
          ]
        }
      ]
    },
    {
      "cell_type": "markdown",
      "source": [
        "## ***STEP1: Building a Dense Layer/Fully Connected Layer (ANN):***\n",
        "- `Dense layers:` type of layer in neural networks in which each artificial neuron/perceptron in a layer is connected to all neurons in the previous layer and all neurons in the next layer (creates an ANN) \n",
        "\n",
        "  - Dense layers are also known as fully connected layers.\n",
        "  - They involve basic linear algebra operations like matrix multiplication and addition\n",
        "  - They have fewer hyperparameters to tune (as compared to CNN and RNN layers) \n",
        "  - They are less prone to overfitting when used with appropriate regularization techniques.\n",
        "  - This layer is used for learning complex, non-linear relationships in the data.\n",
        " \n",
        "\n",
        "- In TensorFlow, `tf.keras.layers.Dense` command is a convenient way to create a dense layer with a specified number of neurons (units) and an activation function. \n",
        "\n",
        "- It takes following arguments:\n",
        "\n",
        "  - `units`: The number of neurons in the dense layer.\n",
        "  - `activation`: The activation function to be used for the neurons in the layer (e.g., 'relu', 'sigmoid', 'tanh', etc.)\n",
        "  - `input_shape=[x]`: the model expects a one-dimensional input with x no of values (x features)\n",
        "  \n",
        "  >  If not specified, the default is a linear activation function (i.e., no activation)"
      ],
      "metadata": {
        "id": "DUSKrGn17IsY"
      }
    },
    {
      "cell_type": "code",
      "source": [
        "#  create a single dense layer with 10 neurons and a ReLU activation function\n",
        "\n",
        "layer1=tf.keras.layers.Dense(input_shape=[1],units=1,activation='relu')"
      ],
      "metadata": {
        "id": "6Aflg8aw_clt"
      },
      "execution_count": 54,
      "outputs": []
    },
    {
      "cell_type": "markdown",
      "source": [
        "## ***STEP2: Assemble layers into the model***\n",
        "\n",
        "- Once layers are defined, they need to be assembled into a model.\n",
        "- The Sequential model definition takes a list of layers as argument, specifying the calculation order\n",
        "from the input to the output.\n",
        "\n",
        "\n",
        "- This model has just a single layer `layer1`\n",
        "- Remember that a single layer perceptron model can only solve Linearly Separable problems (ie problems that can be solved using linear equations) and hence cannot solve problems like the XOR problem"
      ],
      "metadata": {
        "id": "Pbqzj4i3EE1k"
      }
    },
    {
      "cell_type": "code",
      "source": [
        "model=tf.keras.Sequential([layer1])"
      ],
      "metadata": {
        "id": "nSfXZocEPIwD"
      },
      "execution_count": 55,
      "outputs": []
    },
    {
      "cell_type": "markdown",
      "source": [
        "#### **Note**\n",
        "You will often see the layers defined inside the model definition, rather than beforehand:"
      ],
      "metadata": {
        "id": "Rv6NAhu6XzlD"
      }
    },
    {
      "cell_type": "code",
      "source": [
        "model = tf.keras.Sequential([\n",
        "  tf.keras.layers.Dense(units=1,input_shape=[1])\n",
        "])"
      ],
      "metadata": {
        "id": "i2r4WQRZXYi2"
      },
      "execution_count": 56,
      "outputs": []
    },
    {
      "cell_type": "markdown",
      "source": [
        "## ***STEP3: Compile the model, with loss and optimizer functions***\n",
        "Before training, the model has to be compiled. When compiled for training, the model is given:\n",
        "\n",
        "- Loss Function - A way of measuring how far off predictions are from the desired outcome. (The measured difference is called the \"loss\"\n",
        "- Optimizer Algorithm - A way of adjusting internal values in order to reduce the loss.\n",
        "\n",
        "These are used during training `model.fit` to first calculate the loss at each point, and then improve it. \n"
      ],
      "metadata": {
        "id": "GyvFpJhAkn6r"
      }
    },
    {
      "cell_type": "markdown",
      "source": [
        "The goal is to adjust the internal variables until the model (which is really a linear math function) mirrors the actual equation for converting Celsius to Fahrenheit.\n",
        "\n",
        "- `loss:` The regression problem loss functions (like MAE, MSE, RMSE)\n",
        "- `optimizer:` optimizing algorithms (like Stochastic Gradient Descent, Adam)\n",
        "\n",
        "> The ones used here are standard for simple models like this one, but many others are available.\n",
        "\n",
        "\n",
        "### **Note**\n",
        "\n",
        "One part of the Optimizer you may need to think about when building a model is the learning rate. This is the step size taken when\n",
        "adjusting values in the model. \n",
        "  - If the value is too small --> take too many iterations to train the model. \n",
        "  - Too large --> accuracy goes down. \n",
        "> Finding a good value often involves some trial and error, but the range is usually within 0.001 (default) and 0.1"
      ],
      "metadata": {
        "id": "MEyyj3kSlOll"
      }
    },
    {
      "cell_type": "code",
      "source": [
        "model.compile(loss='mean_squared_error', optimizer=tf.keras.optimizers.Adam(0.1))"
      ],
      "metadata": {
        "id": "nXnHhJDEYF58"
      },
      "execution_count": 57,
      "outputs": []
    },
    {
      "cell_type": "markdown",
      "source": [
        "## ***STEP4: Train the model***\n",
        "> Train the model by calling the `model.fit` method.\n",
        "\n",
        "- During training, the model takes in Celsius values, performs a calculation using the current internal variables (called \"weights\") and outputs values which are meant to be the Fahrenheit equivalent. \n",
        "- Since the weights are intially set randomly, the output will not be close to the correct value. The difference between the actual output\n",
        "and the desired output is calculated using the loss function, and the optimizer function directs how the weights should be adjusted.\n",
        "- This cycle of calculate, compare, adjust is controlled by the fit method. \n",
        "  - The first argument is the inputs, the second argument is the desired outputs. \n",
        "  - The `epochs`\n",
        "argument specifies how many times this cycle should be run, and the verbose argument controls how much output the method produces.\n",
        "\n",
        "> epochs is just no of iterations of optimizer algorithm"
      ],
      "metadata": {
        "id": "2WrN2SghzzS7"
      }
    },
    {
      "cell_type": "code",
      "source": [
        "history= model.fit(list1, list2, epochs=300, verbose=False)\n",
        "print( \"Finished training the model\")"
      ],
      "metadata": {
        "colab": {
          "base_uri": "https://localhost:8080/"
        },
        "id": "qB0HAPaflA8v",
        "outputId": "602242d8-4686-4c87-9392-7dc4bba796aa"
      },
      "execution_count": 58,
      "outputs": [
        {
          "output_type": "stream",
          "name": "stdout",
          "text": [
            "Finished training the model\n"
          ]
        }
      ]
    },
    {
      "cell_type": "markdown",
      "source": [
        "## ***STEP5: Display training statistics***\n",
        "\n",
        "- The fit method returns a history object.\n",
        "- We can use this object to plot how the loss of our model goes down after each training epoch.\n",
        "- A high loss means that the\n",
        "Fahrenheit degrees the model predicts is far from the corresponding value in fahrenheit a.\n",
        "\n",
        "\n",
        "> We'll use Matplotlib to visualize this"
      ],
      "metadata": {
        "id": "3ztcMLjM09Oy"
      }
    },
    {
      "cell_type": "code",
      "source": [
        "import matplotlib.pyplot as plt\n",
        "plt.xlabel('Epoch Number')\n",
        "plt.ylabel('Loss Magnitute')\n",
        "plt.plot(history.history['loss'])"
      ],
      "metadata": {
        "colab": {
          "base_uri": "https://localhost:8080/",
          "height": 469
        },
        "id": "O4HuxHcp0NSp",
        "outputId": "cf96e0c1-49de-4329-aacd-fa5a8db3af67"
      },
      "execution_count": 59,
      "outputs": [
        {
          "output_type": "execute_result",
          "data": {
            "text/plain": [
              "[<matplotlib.lines.Line2D at 0x7f8b5a26ace0>]"
            ]
          },
          "metadata": {},
          "execution_count": 59
        },
        {
          "output_type": "display_data",
          "data": {
            "text/plain": [
              "<Figure size 640x480 with 1 Axes>"
            ],
            "image/png": "[encoded data removed]"
          },
          "metadata": {}
        }
      ]
    },
    {
      "cell_type": "markdown",
      "source": [
        "## ***STEP6: Use the model to predict values***\n",
        "\n",
        "- Now you have a model that has been trained to learn the relationshop between celsius and fahrenheit.\n",
        "\n",
        "- You can use the predict method to have it calculate the Fahrenheit degrees for a previously unknown Celsius degrees.\n",
        "\n",
        " > For example, if the Celsius value is 100, what do you think the Fahrenheit result will be?\n"
      ],
      "metadata": {
        "id": "LqLyP3Ir14Jm"
      }
    },
    {
      "cell_type": "code",
      "source": [
        "print(model.predict([100.0])) \n",
        "#The correct answer is 100 x 1.8 + 32 = 212, so our model is doing really well."
      ],
      "metadata": {
        "colab": {
          "base_uri": "https://localhost:8080/"
        },
        "id": "x1-GAt771Lrn",
        "outputId": "b238673b-7390-476c-9228-ad94bc1ad78e"
      },
      "execution_count": 60,
      "outputs": [
        {
          "output_type": "stream",
          "name": "stderr",
          "text": [
            "WARNING:tensorflow:5 out of the last 11 calls to <function Model.make_predict_function.<locals>.predict_function at 0x7f8b5a27dcf0> triggered tf.function retracing. Tracing is expensive and the excessive number of tracings could be due to (1) creating @tf.function repeatedly in a loop, (2) passing tensors with different shapes, (3) passing Python objects instead of tensors. For (1), please define your @tf.function outside of the loop. For (2), @tf.function has reduce_retracing=True option that can avoid unnecessary retracing. For (3), please refer to https://www.tensorflow.org/guide/function#controlling_retracing and https://www.tensorflow.org/api_docs/python/tf/function for  more details.\n"
          ]
        },
        {
          "output_type": "stream",
          "name": "stdout",
          "text": [
            "1/1 [==============================] - 0s 63ms/step\n",
            "[[200.8802]]\n"
          ]
        }
      ]
    },
    {
      "cell_type": "markdown",
      "source": [
        "#### **REVIEW**\n",
        "- We created a model with a Dense layer\n",
        "- We trained it with 3500 examples (7 pairs, over 500 epochs).\n",
        "\n",
        "> Our model tuned the variables (weights) in the Dense layer until it was able to return the correct Fahrenheit value for any Celsius value. (Remember, 100 Celsius was\n",
        "not part of our training data.)\n",
        "\n"
      ],
      "metadata": {
        "id": "ZbC1BVtJ3INj"
      }
    },
    {
      "cell_type": "markdown",
      "source": [
        "## ***STEP7: Looking at the layer weights***\n",
        "\n",
        "Finally, let's print the internal variables of the Dense layer.\n",
        "\n",
        "The first variable is close to ~1.8 and the second to ~32. These values (1.8 and 32) are the actual variables in the real conversion formula."
      ],
      "metadata": {
        "id": "axHrZdWE3mbL"
      }
    },
    {
      "cell_type": "code",
      "source": [
        "print( \"These are the layer variables: {}\".format(layer1.get_weights()))"
      ],
      "metadata": {
        "colab": {
          "base_uri": "https://localhost:8080/"
        },
        "id": "by4oGC9E3zvn",
        "outputId": "bb64677d-e1bc-4ac9-d03a-37c53df56cfb"
      },
      "execution_count": 61,
      "outputs": [
        {
          "output_type": "stream",
          "name": "stdout",
          "text": [
            "These are the layer variables: [array([[0.419541]], dtype=float32), array([0.], dtype=float32)]\n"
          ]
        }
      ]
    },
    {
      "cell_type": "markdown",
      "source": [
        "This is really close to the values in the conversion formula. We'll explain this in an upcoming video where we show how a Dense layer works, but for a single neuron with a single input and a single output, the internal math looks the same as the equation for a line, $y = mx + b$, which has the same form as the conversion equation, $f = 1.8c + 32$.\n",
        "\n",
        "Since the form is the same, the variables should converge on the standard values of 1.8 and 32, which is exactly what happened.\n",
        "\n",
        "With additional neurons, additional inputs, and additional outputs, the formula becomes much more complex, but the idea is the same.\n",
        "\n",
        "### **A little experiment**\n",
        "\n",
        "Just for fun, what if we created more Dense layers with different units, which therefore also has more variables?"
      ],
      "metadata": {
        "id": "2ntB5s1d5clO"
      }
    },
    {
      "cell_type": "code",
      "source": [
        "l0 = tf.keras.layers.Dense(units=4, input_shape=[1])\n",
        "l1 = tf.keras.layers.Dense(units=4)\n",
        "l2 = tf.keras.layers.Dense(units=1)\n",
        "model = tf.keras.Sequential([l0, l1, l2])\n",
        "model.compile(loss='mean_squared_error', optimizer=tf.keras.optimizers.Adam(0.1))\n",
        "model.fit(list1, list2, epochs=500, verbose=False)\n",
        "print(\"Finished training the model\")\n",
        "print(model.predict([100.0]))\n",
        "print(\"Model predicts that 100 degrees Celsius is: {} degrees Fahrenheit\".format(model.predict([100.0])))\n",
        "print(\"These are the l0 variables: {}\".format(l0.get_weights()))\n",
        "print(\"These are the l1 variables: {}\".format(l1.get_weights()))\n",
        "print(\"These are the l2 variables: {}\".format(l2.get_weights()))"
      ],
      "metadata": {
        "colab": {
          "base_uri": "https://localhost:8080/"
        },
        "id": "T-P5eZRx3pRI",
        "outputId": "d26c1d7e-4b34-404d-9452-a51cac025566"
      },
      "execution_count": 62,
      "outputs": [
        {
          "output_type": "stream",
          "name": "stderr",
          "text": [
            "WARNING:tensorflow:6 out of the last 12 calls to <function Model.make_predict_function.<locals>.predict_function at 0x7f8b5a27e8c0> triggered tf.function retracing. Tracing is expensive and the excessive number of tracings could be due to (1) creating @tf.function repeatedly in a loop, (2) passing tensors with different shapes, (3) passing Python objects instead of tensors. For (1), please define your @tf.function outside of the loop. For (2), @tf.function has reduce_retracing=True option that can avoid unnecessary retracing. For (3), please refer to https://www.tensorflow.org/guide/function#controlling_retracing and https://www.tensorflow.org/api_docs/python/tf/function for  more details.\n"
          ]
        },
        {
          "output_type": "stream",
          "name": "stdout",
          "text": [
            "Finished training the model\n",
            "1/1 [==============================] - 0s 73ms/step\n",
            "[[212.]]\n",
            "1/1 [==============================] - 0s 38ms/step\n",
            "Model predicts that 100 degrees Celsius is: [[212.]] degrees Fahrenheit\n",
            "These are the l0 variables: [array([[ 0.01108996,  0.05720715,  0.9223138 , -0.44970465]],\n",
            "      dtype=float32), array([ 3.6009457,  2.8574197,  4.474016 , -4.4561434], dtype=float32)]\n",
            "These are the l1 variables: [array([[-0.2787294 , -1.0166557 , -1.6287118 , -0.3596759 ],\n",
            "       [-0.6947324 , -0.34355968, -1.1031983 , -0.19896437],\n",
            "       [-0.770585  ,  0.09018141, -0.8212324 , -1.5381795 ],\n",
            "       [ 0.8032466 ,  0.48061678,  0.9602346 ,  0.60110503]],\n",
            "      dtype=float32), array([-1.5384643 ,  2.9526877 , -4.163796  , -0.82212996], dtype=float32)]\n",
            "These are the l2 variables: [array([[-0.20849913],\n",
            "       [ 0.33953747],\n",
            "       [-1.341364  ],\n",
            "       [ 0.0474614 ]], dtype=float32), array([2.9875534], dtype=float32)]\n"
          ]
        }
      ]
    },
    {
      "cell_type": "code",
      "source": [],
      "metadata": {
        "id": "5k0KWB5y_a_W"
      },
      "execution_count": null,
      "outputs": []
    }
  ]
}