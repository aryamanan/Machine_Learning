{
  "cells": [
    {
      "cell_type": "markdown",
      "source": [
        "## DATA INGESTION\n",
        "- Pandas can read data from various sources like CSV, Excel, SQL databases and present it in various different ways in python"
      ],
      "metadata": {
        "collapsed": false,
        "id": "21gyRwKH49aB"
      }
    },
    {
      "cell_type": "code",
      "execution_count": null,
      "outputs": [],
      "source": [
        "# Pandas\n",
        "import pandas as pd"
      ],
      "metadata": {
        "id": "iOmrZu2949aE"
      }
    },
    {
      "cell_type": "code",
      "execution_count": null,
      "outputs": [
        {
          "name": "stdout",
          "output_type": "stream",
          "text": [
            "     5.1  3.5  1.4  0.2     Iris-setosa\n",
            "0    4.9  3.0  1.4  0.2     Iris-setosa\n",
            "1    4.7  3.2  1.3  0.2     Iris-setosa\n",
            "2    4.6  3.1  1.5  0.2     Iris-setosa\n",
            "3    5.0  3.6  1.4  0.2     Iris-setosa\n",
            "4    5.4  3.9  1.7  0.4     Iris-setosa\n",
            "..   ...  ...  ...  ...             ...\n",
            "144  6.7  3.0  5.2  2.3  Iris-virginica\n",
            "145  6.3  2.5  5.0  1.9  Iris-virginica\n",
            "146  6.5  3.0  5.2  2.0  Iris-virginica\n",
            "147  6.2  3.4  5.4  2.3  Iris-virginica\n",
            "148  5.9  3.0  5.1  1.8  Iris-virginica\n",
            "\n",
            "[149 rows x 5 columns]\n"
          ]
        }
      ],
      "source": [
        "iris=pd.read_csv(\"https://archive.ics.uci.edu/ml/machine-learning-databases/iris/iris.data\")\n",
        "print(iris)"
      ],
      "metadata": {
        "id": "eKMBrepU49aF",
        "outputId": "c7da8b4a-39fd-4fb9-f155-95152c762ff3"
      }
    },
    {
      "cell_type": "code",
      "execution_count": null,
      "outputs": [
        {
          "name": "stdout",
          "output_type": "stream",
          "text": [
            "<class 'pandas.core.frame.DataFrame'>\n"
          ]
        }
      ],
      "source": [
        "print(type(iris))"
      ],
      "metadata": {
        "id": "_1PwsvxW49aH",
        "outputId": "b6fffe47-5a2e-4165-9023-f95208db1b54"
      }
    },
    {
      "cell_type": "code",
      "execution_count": null,
      "outputs": [],
      "source": [
        "# make a copy\n",
        "df=iris.copy()"
      ],
      "metadata": {
        "id": "8FgBzxFA49aI"
      }
    },
    {
      "cell_type": "code",
      "execution_count": null,
      "outputs": [
        {
          "data": {
            "text/plain": "   5.1  3.5  1.4  0.2  Iris-setosa\n0  4.9  3.0  1.4  0.2  Iris-setosa\n1  4.7  3.2  1.3  0.2  Iris-setosa\n2  4.6  3.1  1.5  0.2  Iris-setosa",
            "text/html": "<div>\n<style scoped>\n    .dataframe tbody tr th:only-of-type {\n        vertical-align: middle;\n    }\n\n    .dataframe tbody tr th {\n        vertical-align: top;\n    }\n\n    .dataframe thead th {\n        text-align: right;\n    }\n</style>\n<table border=\"1\" class=\"dataframe\">\n  <thead>\n    <tr style=\"text-align: right;\">\n      <th></th>\n      <th>5.1</th>\n      <th>3.5</th>\n      <th>1.4</th>\n      <th>0.2</th>\n      <th>Iris-setosa</th>\n    </tr>\n  </thead>\n  <tbody>\n    <tr>\n      <th>0</th>\n      <td>4.9</td>\n      <td>3.0</td>\n      <td>1.4</td>\n      <td>0.2</td>\n      <td>Iris-setosa</td>\n    </tr>\n    <tr>\n      <th>1</th>\n      <td>4.7</td>\n      <td>3.2</td>\n      <td>1.3</td>\n      <td>0.2</td>\n      <td>Iris-setosa</td>\n    </tr>\n    <tr>\n      <th>2</th>\n      <td>4.6</td>\n      <td>3.1</td>\n      <td>1.5</td>\n      <td>0.2</td>\n      <td>Iris-setosa</td>\n    </tr>\n  </tbody>\n</table>\n</div>"
          },
          "execution_count": 20,
          "metadata": {},
          "output_type": "execute_result"
        }
      ],
      "source": [
        "df.head(3) # returns first 3 rows of dataset"
      ],
      "metadata": {
        "id": "QcE-CNkd49aI",
        "outputId": "f915e9cc-293a-458c-81f2-2e3f32c2677f"
      }
    },
    {
      "cell_type": "code",
      "execution_count": null,
      "outputs": [
        {
          "name": "stdout",
          "output_type": "stream",
          "text": [
            "(149, 5)\n",
            "5.1            float64\n",
            "3.5            float64\n",
            "1.4            float64\n",
            "0.2            float64\n",
            "Iris-setosa     object\n",
            "dtype: object\n"
          ]
        }
      ],
      "source": [
        "print(df.shape) # gives (rows x colums)\n",
        "print(df.dtypes)"
      ],
      "metadata": {
        "id": "hNcGOyWY49aJ",
        "outputId": "ee6e59e4-f900-4487-9009-78f110ad9c21"
      }
    },
    {
      "cell_type": "code",
      "execution_count": null,
      "outputs": [
        {
          "name": "stdout",
          "output_type": "stream",
          "text": [
            "      sl   sw   pl   pw     flower_type\n",
            "0    4.9  3.0  1.4  0.2     Iris-setosa\n",
            "1    4.7  3.2  1.3  0.2     Iris-setosa\n",
            "2    4.6  3.1  1.5  0.2     Iris-setosa\n",
            "3    5.0  3.6  1.4  0.2     Iris-setosa\n",
            "4    5.4  3.9  1.7  0.4     Iris-setosa\n",
            "..   ...  ...  ...  ...             ...\n",
            "144  6.7  3.0  5.2  2.3  Iris-virginica\n",
            "145  6.3  2.5  5.0  1.9  Iris-virginica\n",
            "146  6.5  3.0  5.2  2.0  Iris-virginica\n",
            "147  6.2  3.4  5.4  2.3  Iris-virginica\n",
            "148  5.9  3.0  5.1  1.8  Iris-virginica\n",
            "\n",
            "[149 rows x 5 columns]\n"
          ]
        }
      ],
      "source": [
        "df.columns = ['sl','sw','pl','pw','flower_type']\n",
        "print(df)"
      ],
      "metadata": {
        "id": "PWzDWSAL49aJ",
        "outputId": "2e28b233-c00f-4399-edba-baf0739ffbb0"
      }
    },
    {
      "cell_type": "code",
      "execution_count": null,
      "outputs": [
        {
          "data": {
            "text/plain": "               sl          sw          pl          pw\ncount  149.000000  149.000000  149.000000  149.000000\nmean     5.848322    3.051007    3.774497    1.205369\nstd      0.828594    0.433499    1.759651    0.761292\nmin      4.300000    2.000000    1.000000    0.100000\n25%      5.100000    2.800000    1.600000    0.300000\n50%      5.800000    3.000000    4.400000    1.300000\n75%      6.400000    3.300000    5.100000    1.800000\nmax      7.900000    4.400000    6.900000    2.500000",
            "text/html": "<div>\n<style scoped>\n    .dataframe tbody tr th:only-of-type {\n        vertical-align: middle;\n    }\n\n    .dataframe tbody tr th {\n        vertical-align: top;\n    }\n\n    .dataframe thead th {\n        text-align: right;\n    }\n</style>\n<table border=\"1\" class=\"dataframe\">\n  <thead>\n    <tr style=\"text-align: right;\">\n      <th></th>\n      <th>sl</th>\n      <th>sw</th>\n      <th>pl</th>\n      <th>pw</th>\n    </tr>\n  </thead>\n  <tbody>\n    <tr>\n      <th>count</th>\n      <td>149.000000</td>\n      <td>149.000000</td>\n      <td>149.000000</td>\n      <td>149.000000</td>\n    </tr>\n    <tr>\n      <th>mean</th>\n      <td>5.848322</td>\n      <td>3.051007</td>\n      <td>3.774497</td>\n      <td>1.205369</td>\n    </tr>\n    <tr>\n      <th>std</th>\n      <td>0.828594</td>\n      <td>0.433499</td>\n      <td>1.759651</td>\n      <td>0.761292</td>\n    </tr>\n    <tr>\n      <th>min</th>\n      <td>4.300000</td>\n      <td>2.000000</td>\n      <td>1.000000</td>\n      <td>0.100000</td>\n    </tr>\n    <tr>\n      <th>25%</th>\n      <td>5.100000</td>\n      <td>2.800000</td>\n      <td>1.600000</td>\n      <td>0.300000</td>\n    </tr>\n    <tr>\n      <th>50%</th>\n      <td>5.800000</td>\n      <td>3.000000</td>\n      <td>4.400000</td>\n      <td>1.300000</td>\n    </tr>\n    <tr>\n      <th>75%</th>\n      <td>6.400000</td>\n      <td>3.300000</td>\n      <td>5.100000</td>\n      <td>1.800000</td>\n    </tr>\n    <tr>\n      <th>max</th>\n      <td>7.900000</td>\n      <td>4.400000</td>\n      <td>6.900000</td>\n      <td>2.500000</td>\n    </tr>\n  </tbody>\n</table>\n</div>"
          },
          "execution_count": 30,
          "metadata": {},
          "output_type": "execute_result"
        }
      ],
      "source": [
        "df.describe() # gives all information regarding the dataset"
      ],
      "metadata": {
        "id": "MixEyyJ449aK",
        "outputId": "3b199405-bd6b-4143-d5db-240e411f7ffc"
      }
    },
    {
      "cell_type": "markdown",
      "source": [
        "- Here, 25%, 50% and 75% are percentiles, indicating what the values the smallest 25%, 50% and 75% land below in the set"
      ],
      "metadata": {
        "collapsed": false,
        "id": "RPCpWXDD49aK"
      }
    },
    {
      "cell_type": "code",
      "execution_count": null,
      "outputs": [
        {
          "data": {
            "text/plain": "0      4.9\n1      4.7\n2      4.6\n3      5.0\n4      5.4\n      ... \n144    6.7\n145    6.3\n146    6.5\n147    6.2\n148    5.9\nName: sl, Length: 149, dtype: float64"
          },
          "execution_count": 32,
          "metadata": {},
          "output_type": "execute_result"
        }
      ],
      "source": [
        "df.sl # df.columns_name gives us a specific column"
      ],
      "metadata": {
        "id": "L-yZJdqn49aL",
        "outputId": "bb9032a9-60ae-4ccc-cd53-8d42868ce462"
      }
    },
    {
      "cell_type": "code",
      "execution_count": null,
      "outputs": [
        {
          "data": {
            "text/plain": "        sl     sw     pl     pw  flower_type\n0    False  False  False  False        False\n1    False  False  False  False        False\n2    False  False  False  False        False\n3    False  False  False  False        False\n4    False  False  False  False        False\n..     ...    ...    ...    ...          ...\n144  False  False  False  False        False\n145  False  False  False  False        False\n146  False  False  False  False        False\n147  False  False  False  False        False\n148  False  False  False  False        False\n\n[149 rows x 5 columns]",
            "text/html": "<div>\n<style scoped>\n    .dataframe tbody tr th:only-of-type {\n        vertical-align: middle;\n    }\n\n    .dataframe tbody tr th {\n        vertical-align: top;\n    }\n\n    .dataframe thead th {\n        text-align: right;\n    }\n</style>\n<table border=\"1\" class=\"dataframe\">\n  <thead>\n    <tr style=\"text-align: right;\">\n      <th></th>\n      <th>sl</th>\n      <th>sw</th>\n      <th>pl</th>\n      <th>pw</th>\n      <th>flower_type</th>\n    </tr>\n  </thead>\n  <tbody>\n    <tr>\n      <th>0</th>\n      <td>False</td>\n      <td>False</td>\n      <td>False</td>\n      <td>False</td>\n      <td>False</td>\n    </tr>\n    <tr>\n      <th>1</th>\n      <td>False</td>\n      <td>False</td>\n      <td>False</td>\n      <td>False</td>\n      <td>False</td>\n    </tr>\n    <tr>\n      <th>2</th>\n      <td>False</td>\n      <td>False</td>\n      <td>False</td>\n      <td>False</td>\n      <td>False</td>\n    </tr>\n    <tr>\n      <th>3</th>\n      <td>False</td>\n      <td>False</td>\n      <td>False</td>\n      <td>False</td>\n      <td>False</td>\n    </tr>\n    <tr>\n      <th>4</th>\n      <td>False</td>\n      <td>False</td>\n      <td>False</td>\n      <td>False</td>\n      <td>False</td>\n    </tr>\n    <tr>\n      <th>...</th>\n      <td>...</td>\n      <td>...</td>\n      <td>...</td>\n      <td>...</td>\n      <td>...</td>\n    </tr>\n    <tr>\n      <th>144</th>\n      <td>False</td>\n      <td>False</td>\n      <td>False</td>\n      <td>False</td>\n      <td>False</td>\n    </tr>\n    <tr>\n      <th>145</th>\n      <td>False</td>\n      <td>False</td>\n      <td>False</td>\n      <td>False</td>\n      <td>False</td>\n    </tr>\n    <tr>\n      <th>146</th>\n      <td>False</td>\n      <td>False</td>\n      <td>False</td>\n      <td>False</td>\n      <td>False</td>\n    </tr>\n    <tr>\n      <th>147</th>\n      <td>False</td>\n      <td>False</td>\n      <td>False</td>\n      <td>False</td>\n      <td>False</td>\n    </tr>\n    <tr>\n      <th>148</th>\n      <td>False</td>\n      <td>False</td>\n      <td>False</td>\n      <td>False</td>\n      <td>False</td>\n    </tr>\n  </tbody>\n</table>\n<p>149 rows × 5 columns</p>\n</div>"
          },
          "execution_count": 38,
          "metadata": {},
          "output_type": "execute_result"
        }
      ],
      "source": [
        "df.isnull() # tells if the values are null or not"
      ],
      "metadata": {
        "id": "sCXovqMO49aL",
        "outputId": "70c74220-3557-4a73-dc14-a7fe82ca399f"
      }
    },
    {
      "cell_type": "code",
      "execution_count": null,
      "outputs": [
        {
          "data": {
            "text/plain": "    pl\n1  1.3\n2  1.5\n3  1.4",
            "text/html": "<div>\n<style scoped>\n    .dataframe tbody tr th:only-of-type {\n        vertical-align: middle;\n    }\n\n    .dataframe tbody tr th {\n        vertical-align: top;\n    }\n\n    .dataframe thead th {\n        text-align: right;\n    }\n</style>\n<table border=\"1\" class=\"dataframe\">\n  <thead>\n    <tr style=\"text-align: right;\">\n      <th></th>\n      <th>pl</th>\n    </tr>\n  </thead>\n  <tbody>\n    <tr>\n      <th>1</th>\n      <td>1.3</td>\n    </tr>\n    <tr>\n      <th>2</th>\n      <td>1.5</td>\n    </tr>\n    <tr>\n      <th>3</th>\n      <td>1.4</td>\n    </tr>\n  </tbody>\n</table>\n</div>"
          },
          "execution_count": 39,
          "metadata": {},
          "output_type": "execute_result"
        }
      ],
      "source": [
        "df.iloc[1:4, 2:3]"
      ],
      "metadata": {
        "id": "iilWtBLY49aM",
        "outputId": "cd7c8535-2195-4a67-e997-89ed0a3ca378"
      }
    },
    {
      "cell_type": "markdown",
      "source": [
        "- iloc is a method in the Pandas library that is used for integer-based indexing of Pandas objects like Series and DataFrames.\n",
        "- The iloc method is primarily used for selecting data based on its integer location within a DataFrame.\n",
        "- The iloc method takes two arguments, which are the row and column indices.\n",
        "- These indices can be integers or slices. For example, to select the first row of a DataFrame using iloc, you can do:"
      ],
      "metadata": {
        "collapsed": false,
        "id": "_qK9khF549aM"
      }
    },
    {
      "cell_type": "code",
      "execution_count": null,
      "outputs": [
        {
          "name": "stdout",
          "output_type": "stream",
          "text": [
            "    sl   sw\n",
            "0  4.9  3.0\n",
            "1  4.7  3.2\n"
          ]
        }
      ],
      "source": [
        "# select the first two rows and columns using iloc\n",
        "subset = df.iloc[0:2, 0:2]\n",
        "print(subset)"
      ],
      "metadata": {
        "id": "ETXS7JEk49aN",
        "outputId": "0d8c9058-61f9-4c1e-9900-f9316b8dfe12"
      }
    }
  ],
  "metadata": {
    "kernelspec": {
      "display_name": "Python 3",
      "language": "python",
      "name": "python3"
    },
    "language_info": {
      "codemirror_mode": {
        "name": "ipython",
        "version": 2
      },
      "file_extension": ".py",
      "mimetype": "text/x-python",
      "name": "python",
      "nbconvert_exporter": "python",
      "pygments_lexer": "ipython2",
      "version": "2.7.6"
    },
    "colab": {
      "provenance": []
    }
  },
  "nbformat": 4,
  "nbformat_minor": 0
}
