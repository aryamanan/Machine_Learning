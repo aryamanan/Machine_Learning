{
  "nbformat": 4,
  "nbformat_minor": 0,
  "metadata": {
    "colab": {
      "provenance": [],
      "authorship_tag": "ABX9TyPFDu7B7lRlxA/X0ydX3WN9"
    },
    "kernelspec": {
      "name": "python3",
      "display_name": "Python 3"
    },
    "language_info": {
      "name": "python"
    }
  },
  "cells": [
    {
      "cell_type": "code",
      "execution_count": 146,
      "metadata": {
        "id": "jSK88qcMinCA"
      },
      "outputs": [],
      "source": [
        "import numpy as np\n",
        "from sklearn.datasets import load_iris"
      ]
    },
    {
      "cell_type": "code",
      "source": [
        "data=load_iris()"
      ],
      "metadata": {
        "id": "8C424b2biu7o"
      },
      "execution_count": 147,
      "outputs": []
    },
    {
      "cell_type": "code",
      "source": [
        "feature_mat=data.data"
      ],
      "metadata": {
        "id": "uSBKboTGixIh"
      },
      "execution_count": 148,
      "outputs": []
    },
    {
      "cell_type": "code",
      "source": [
        "feature_mat[:10]"
      ],
      "metadata": {
        "colab": {
          "base_uri": "https://localhost:8080/"
        },
        "id": "zMJvcibei1xz",
        "outputId": "4a24529c-983d-49fe-e6bd-bef339865299"
      },
      "execution_count": 149,
      "outputs": [
        {
          "output_type": "execute_result",
          "data": {
            "text/plain": [
              "array([[5.1, 3.5, 1.4, 0.2],\n",
              "       [4.9, 3. , 1.4, 0.2],\n",
              "       [4.7, 3.2, 1.3, 0.2],\n",
              "       [4.6, 3.1, 1.5, 0.2],\n",
              "       [5. , 3.6, 1.4, 0.2],\n",
              "       [5.4, 3.9, 1.7, 0.4],\n",
              "       [4.6, 3.4, 1.4, 0.3],\n",
              "       [5. , 3.4, 1.5, 0.2],\n",
              "       [4.4, 2.9, 1.4, 0.2],\n",
              "       [4.9, 3.1, 1.5, 0.1]])"
            ]
          },
          "metadata": {},
          "execution_count": 149
        }
      ]
    },
    {
      "cell_type": "code",
      "source": [
        "print(feature_mat.shape[0])"
      ],
      "metadata": {
        "colab": {
          "base_uri": "https://localhost:8080/"
        },
        "id": "brKZT7JOmo31",
        "outputId": "9c7f678c-e2b5-4dd4-c153-3c054789ffd0"
      },
      "execution_count": 150,
      "outputs": [
        {
          "output_type": "stream",
          "name": "stdout",
          "text": [
            "150\n"
          ]
        }
      ]
    },
    {
      "cell_type": "markdown",
      "source": [
        "## Find Covariance"
      ],
      "metadata": {
        "id": "z2vW_F-QMmpF"
      }
    },
    {
      "cell_type": "code",
      "source": [
        "def covariance_cal(mat):\n",
        "  mean=np.mean(mat, axis=0) # mean of each feature, since covariance is movement of feature(variable) in a same or opposite direction\n",
        "  # mean along a column(feature) is when axis=0\n",
        "  standardized_mat=mat-mean\n",
        "  N=mat.shape[0] # shape[0] because the covariance values are normalized by the no of observations(ie no of rows)\n",
        "  return (standardized_mat.T@standardized_mat)/N"
      ],
      "metadata": {
        "id": "A--TDSppjWsG"
      },
      "execution_count": 109,
      "outputs": []
    },
    {
      "cell_type": "code",
      "source": [
        "# test case\n",
        "\n",
        "abc=np.array([[1,2,3],[4,5,6],[7,8,9]])\n",
        "mean=np.mean(abc)\n",
        "abc=abc-mean\n",
        "print(abc/5)"
      ],
      "metadata": {
        "colab": {
          "base_uri": "https://localhost:8080/"
        },
        "id": "g65CFiZ9j8i-",
        "outputId": "f45c6124-fe63-4a5d-ca19-05672ae4af3f"
      },
      "execution_count": 110,
      "outputs": [
        {
          "output_type": "stream",
          "name": "stdout",
          "text": [
            "[[-0.8 -0.6 -0.4]\n",
            " [-0.2  0.   0.2]\n",
            " [ 0.4  0.6  0.8]]\n"
          ]
        }
      ]
    },
    {
      "cell_type": "code",
      "source": [
        "bcd=np.array([[1,2,3],[4,5,6],[7,8,9]])\n",
        "mean_along_columns=np.mean(bcd,axis=0)\n",
        "mean_along_rows=np.mean(bcd,axis=1)\n",
        "print(mean_along_rows,mean_along_columns)"
      ],
      "metadata": {
        "colab": {
          "base_uri": "https://localhost:8080/"
        },
        "id": "jO3yFc6xutU8",
        "outputId": "f8e9d709-5b88-47e2-b5ea-b07541290990"
      },
      "execution_count": 111,
      "outputs": [
        {
          "output_type": "stream",
          "name": "stdout",
          "text": [
            "[2. 5. 8.] [4. 5. 6.]\n"
          ]
        }
      ]
    },
    {
      "cell_type": "code",
      "source": [
        "covariance_mat=covariance_cal(feature_mat)\n",
        "print(covariance_mat)"
      ],
      "metadata": {
        "colab": {
          "base_uri": "https://localhost:8080/"
        },
        "id": "ChgMh4MYngdQ",
        "outputId": "9f926c2b-4da1-410e-d138-5851e21d2140"
      },
      "execution_count": 128,
      "outputs": [
        {
          "output_type": "stream",
          "name": "stdout",
          "text": [
            "[[ 0.68112222 -0.04215111  1.26582     0.51282889]\n",
            " [-0.04215111  0.18871289 -0.32745867 -0.12082844]\n",
            " [ 1.26582    -0.32745867  3.09550267  1.286972  ]\n",
            " [ 0.51282889 -0.12082844  1.286972    0.57713289]]\n"
          ]
        }
      ]
    },
    {
      "cell_type": "code",
      "source": [
        "# or maybe\n",
        "cov_matrix=np.cov(feature_mat.T)\n",
        "print(cov_matrix)"
      ],
      "metadata": {
        "colab": {
          "base_uri": "https://localhost:8080/"
        },
        "id": "U9hEnXZIoAnD",
        "outputId": "3f947684-cedc-4d59-e4ac-40856f54d2ef"
      },
      "execution_count": 127,
      "outputs": [
        {
          "output_type": "stream",
          "name": "stdout",
          "text": [
            "[[ 0.68569351 -0.042434    1.27431544  0.51627069]\n",
            " [-0.042434    0.18997942 -0.32965638 -0.12163937]\n",
            " [ 1.27431544 -0.32965638  3.11627785  1.2956094 ]\n",
            " [ 0.51627069 -0.12163937  1.2956094   0.58100626]]\n"
          ]
        }
      ]
    },
    {
      "cell_type": "markdown",
      "source": [
        "# Find Eigen"
      ],
      "metadata": {
        "id": "rOUrjBw2MqxL"
      }
    },
    {
      "cell_type": "code",
      "source": [
        "# simple numpy\n",
        "\n",
        "ein_val, ein_vec=np.linalg.eig(covariance_mat)\n",
        "# if a matrix is singular(non-invertible) it won't have unique values\n",
        "# if matrix isn't square then you can't calculate eigenvecs and eigenvals"
      ],
      "metadata": {
        "id": "gy5v_xQGMqda"
      },
      "execution_count": 151,
      "outputs": []
    },
    {
      "cell_type": "code",
      "source": [
        "print(ein_vec)"
      ],
      "metadata": {
        "colab": {
          "base_uri": "https://localhost:8080/"
        },
        "id": "ey8IBIO1oRgR",
        "outputId": "6b734eb1-8da7-478c-fadb-56174d069a14"
      },
      "execution_count": 152,
      "outputs": [
        {
          "output_type": "stream",
          "name": "stdout",
          "text": [
            "[[ 0.36138659 -0.65658877 -0.58202985  0.31548719]\n",
            " [-0.08452251 -0.73016143  0.59791083 -0.3197231 ]\n",
            " [ 0.85667061  0.17337266  0.07623608 -0.47983899]\n",
            " [ 0.3582892   0.07548102  0.54583143  0.75365743]]\n"
          ]
        }
      ]
    },
    {
      "cell_type": "code",
      "source": [
        "# Columns of eigenvec Matrix of covariance matrix are PCA components\n",
        "\n",
        "pca_comp=ein_vec[:,:2] # first 2 columns of eigenvec matrix = first 2 PCA components\n",
        "\n",
        "print(pca_comp.shape,feature_mat.shape)\n",
        "\n",
        "pca_score= feature_mat@pca_comp"
      ],
      "metadata": {
        "colab": {
          "base_uri": "https://localhost:8080/"
        },
        "id": "8Jhb20YnXAqd",
        "outputId": "1504e78b-d1c1-41fc-d298-9bd28b1b77cf"
      },
      "execution_count": 162,
      "outputs": [
        {
          "output_type": "stream",
          "name": "stdout",
          "text": [
            "(4, 2) (150, 4)\n"
          ]
        }
      ]
    },
    {
      "cell_type": "code",
      "source": [
        "print(pca_score)"
      ],
      "metadata": {
        "colab": {
          "base_uri": "https://localhost:8080/"
        },
        "id": "WcS3YpkIY5d8",
        "outputId": "e7111f8e-d87c-4cda-9bd3-8ebbb9e39342"
      },
      "execution_count": 163,
      "outputs": [
        {
          "output_type": "stream",
          "name": "stdout",
          "text": [
            "[[ 2.81823951 -5.64634982]\n",
            " [ 2.78822345 -5.14995135]\n",
            " [ 2.61337456 -5.18200315]\n",
            " [ 2.75702228 -5.0086536 ]\n",
            " [ 2.7736486  -5.65370709]\n",
            " [ 3.2215055  -6.06828303]\n",
            " [ 2.68182738 -5.23749119]\n",
            " [ 2.87622016 -5.49033754]\n",
            " [ 2.6159824  -4.74864082]\n",
            " [ 2.82960933 -5.21317833]\n",
            " [ 2.99541804 -5.97202148]\n",
            " [ 2.8896099  -5.34168252]\n",
            " [ 2.71625587 -5.09184058]\n",
            " [ 2.27856139 -4.81555799]\n",
            " [ 2.85761474 -6.50571721]\n",
            " [ 3.1163261  -6.66501491]\n",
            " [ 2.87883726 -6.13763209]\n",
            " [ 2.85406843 -5.63880172]\n",
            " [ 3.30254481 -6.19979162]\n",
            " [ 2.91437873 -5.84051289]\n",
            " [ 3.19210892 -5.71829851]\n",
            " [ 2.9586599  -5.75994864]\n",
            " [ 2.28642572 -5.46042065]\n",
            " [ 3.19963195 -5.42566143]\n",
            " [ 3.14661108 -5.28967072]\n",
            " [ 2.99569623 -5.1809357 ]\n",
            " [ 3.03354506 -5.45790407]\n",
            " [ 2.94004523 -5.69467143]\n",
            " [ 2.86283042 -5.63899256]\n",
            " [ 2.87037575 -5.12999135]\n",
            " [ 2.91496666 -5.12263409]\n",
            " [ 3.09243264 -5.73787684]\n",
            " [ 2.8535028  -6.1403164 ]\n",
            " [ 2.90362838 -6.42009834]\n",
            " [ 2.86543825 -5.20563023]\n",
            " [ 2.63612348 -5.39631705]\n",
            " [ 2.87712708 -5.9263226 ]\n",
            " [ 2.70168102 -5.59559631]\n",
            " [ 2.52186309 -4.83899423]\n",
            " [ 2.91235882 -5.55599641]\n",
            " [ 2.73226271 -5.59048011]\n",
            " [ 2.65299643 -4.385992  ]\n",
            " [ 2.50495859 -4.98502652]\n",
            " [ 3.09675065 -5.51582401]\n",
            " [ 3.29287589 -5.76361572]\n",
            " [ 2.78791371 -5.07674437]\n",
            " [ 2.96421687 -5.83072372]\n",
            " [ 2.66290296 -5.09900701]\n",
            " [ 2.95927938 -5.9063626 ]\n",
            " [ 2.79900535 -5.43465866]\n",
            " [ 6.78719082 -6.01211305]\n",
            " [ 6.43485366 -5.64528622]\n",
            " [ 6.96666745 -5.83121539]\n",
            " [ 5.68568285 -4.49899357]\n",
            " [ 6.59046839 -5.40154325]\n",
            " [ 6.14403422 -4.90870571]\n",
            " [ 6.5974258  -5.61042085]\n",
            " [ 4.75324246 -4.32206162]\n",
            " [ 6.54649696 -5.55531448]\n",
            " [ 5.49361973 -4.60387067]\n",
            " [ 4.99452425 -4.06098139]\n",
            " [ 6.01406369 -5.22297134]\n",
            " [ 5.76734164 -4.77691611]\n",
            " [ 6.48729964 -5.20213472]\n",
            " [ 5.32843976 -5.07209837]\n",
            " [ 6.43022591 -5.79413207]\n",
            " [ 6.16264889 -4.97398291]\n",
            " [ 5.73847013 -4.99334181]\n",
            " [ 6.44709886 -4.78380703]\n",
            " [ 5.54759211 -4.7431182 ]\n",
            " [ 6.61864831 -5.24233572]\n",
            " [ 5.86025355 -5.25802755]\n",
            " [ 6.80054901 -4.99916527]\n",
            " [ 6.42409406 -5.14421478]\n",
            " [ 6.21721846 -5.47600852]\n",
            " [ 6.40253951 -5.65545705]\n",
            " [ 6.83438957 -5.57139345]\n",
            " [ 7.06016729 -5.59444802]\n",
            " [ 6.31565578 -5.16360228]\n",
            " [ 5.19678135 -4.95869039]\n",
            " [ 5.43423864 -4.62178045]\n",
            " [ 5.31274266 -4.64666581]\n",
            " [ 5.63879384 -5.01292014]\n",
            " [ 6.88239157 -4.90599829]\n",
            " [ 6.09037158 -4.84266516]\n",
            " [ 6.30922345 -5.52113489]\n",
            " [ 6.72305602 -5.73457217]\n",
            " [ 6.31746037 -4.95491552]\n",
            " [ 5.74832281 -5.05842818]\n",
            " [ 5.66877835 -4.64502585]\n",
            " [ 5.96716542 -4.65624103]\n",
            " [ 6.39318033 -5.29248813]\n",
            " [ 5.73291316 -4.92256673]\n",
            " [ 4.79783337 -4.31470435]\n",
            " [ 5.85934663 -4.82204248]\n",
            " [ 5.83429961 -5.11429789]\n",
            " [ 5.87858078 -5.03373365]\n",
            " [ 6.14494114 -5.34469077]\n",
            " [ 4.59589527 -4.57085921]\n",
            " [ 5.80136597 -4.97805477]\n",
            " [ 8.03355786 -5.31710347]\n",
            " [ 6.91760101 -4.75203623]\n",
            " [ 8.11904115 -5.67085573]\n",
            " [ 7.47389619 -5.14722467]\n",
            " [ 7.85237105 -5.28669163]\n",
            " [ 8.89940387 -5.87778925]\n",
            " [ 6.02359738 -4.13419385]\n",
            " [ 8.4349522  -5.68245258]\n",
            " [ 7.82359395 -5.08312107]\n",
            " [ 8.4191161  -6.10974453]\n",
            " [ 7.16413929 -5.56918098]\n",
            " [ 7.30576709 -5.11131496]\n",
            " [ 7.66795693 -5.54322816]\n",
            " [ 6.84852871 -4.55013423]\n",
            " [ 7.08829336 -4.78731186]\n",
            " [ 7.40682151 -5.44620327]\n",
            " [ 7.45205419 -5.36889584]\n",
            " [ 8.9894205  -6.50269191]\n",
            " [ 9.29801055 -5.58427555]\n",
            " [ 6.80315685 -4.56580294]\n",
            " [ 7.93018305 -5.70514859]\n",
            " [ 6.70136624 -4.72086105]\n",
            " [ 9.00228517 -5.78762668]\n",
            " [ 6.89113126 -5.12255325]\n",
            " [ 7.77779564 -5.66194318]\n",
            " [ 8.11645561 -5.88785393]\n",
            " [ 6.76087329 -5.14724778]\n",
            " [ 6.79349719 -5.21028393]\n",
            " [ 7.62597386 -5.1172231 ]\n",
            " [ 7.89036815 -5.79159238]\n",
            " [ 8.34403791 -5.70222174]\n",
            " [ 8.73303879 -6.70111766]\n",
            " [ 7.66180278 -5.109675  ]\n",
            " [ 6.94652637 -5.18353917]\n",
            " [ 7.28365994 -4.8270509 ]\n",
            " [ 8.57886506 -6.01503825]\n",
            " [ 7.64660845 -5.46701678]\n",
            " [ 7.40746328 -5.3762531 ]\n",
            " [ 6.67169147 -5.16196231]\n",
            " [ 7.60997628 -5.69924045]\n",
            " [ 7.81651984 -5.51060386]\n",
            " [ 7.42463293 -5.73615604]\n",
            " [ 6.91760101 -4.75203623]\n",
            " [ 8.06537851 -5.60481518]\n",
            " [ 7.92111132 -5.63175077]\n",
            " [ 7.44647493 -5.51448488]\n",
            " [ 7.02953175 -4.95163559]\n",
            " [ 7.26671085 -5.40581143]\n",
            " [ 7.40330675 -5.44358054]\n",
            " [ 6.89255399 -5.04429164]]\n"
          ]
        }
      ]
    },
    {
      "cell_type": "code",
      "source": [
        "import matplotlib.pyplot as plt\n",
        "%matplotlib inline\n",
        "\n",
        "\n",
        "plt.scatter(pca_score[:,0],pca_score[:,1])\n",
        "plt.show()"
      ],
      "metadata": {
        "colab": {
          "base_uri": "https://localhost:8080/",
          "height": 430
        },
        "id": "VNL8fWo6eJxt",
        "outputId": "5cfce402-6975-4470-e6ef-7e3705dc2ccf"
      },
      "execution_count": 164,
      "outputs": [
        {
          "output_type": "display_data",
          "data": {
            "text/plain": [
              "<Figure size 640x480 with 1 Axes>"
            ],
            "image/png": "[encoded data removed]"
          },
          "metadata": {}
        }
      ]
    },
    {
      "cell_type": "code",
      "source": [],
      "metadata": {
        "id": "S-Ei4qK8g-Rp"
      },
      "execution_count": null,
      "outputs": []
    }
  ]
}