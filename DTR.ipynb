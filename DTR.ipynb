{
  "nbformat": 4,
  "nbformat_minor": 0,
  "metadata": {
    "colab": {
      "provenance": [],
      "authorship_tag": "ABX9TyOU9YQvxaXp1T9uPncfM387"
    },
    "kernelspec": {
      "name": "python3",
      "display_name": "Python 3"
    },
    "language_info": {
      "name": "python"
    }
  },
  "cells": [
    {
      "cell_type": "markdown",
      "source": [
        "# Using Decision Tree Regressor for predictions on data containing Categorical variables"
      ],
      "metadata": {
        "id": "58jtwopQLTgT"
      }
    },
    {
      "cell_type": "code",
      "execution_count": 14,
      "metadata": {
        "id": "K9K1tIxo6d2e"
      },
      "outputs": [],
      "source": [
        "from sklearn.preprocessing import OneHotEncoder, LabelEncoder"
      ]
    },
    {
      "cell_type": "code",
      "source": [
        "from sklearn.decomposition import PCA"
      ],
      "metadata": {
        "id": "OpM1ASpZ6m6E"
      },
      "execution_count": 15,
      "outputs": []
    },
    {
      "cell_type": "code",
      "source": [
        "from sklearn.metrics.pairwise import cosine_similarity, euclidean_distances, manhattan_distances"
      ],
      "metadata": {
        "id": "H8hgDBtP6vBe"
      },
      "execution_count": 16,
      "outputs": []
    },
    {
      "cell_type": "code",
      "source": [
        "from sklearn.metrics import recall_score, f1_score, precision_score"
      ],
      "metadata": {
        "id": "YwqAbGvf9Ev0"
      },
      "execution_count": 17,
      "outputs": []
    },
    {
      "cell_type": "code",
      "source": [
        "from sklearn.linear_model import LinearRegression, LogisticRegression"
      ],
      "metadata": {
        "id": "btn3oq-K9NLc"
      },
      "execution_count": 18,
      "outputs": []
    },
    {
      "cell_type": "code",
      "source": [
        "from sklearn.datasets import load_iris"
      ],
      "metadata": {
        "id": "mb89P25c9X31"
      },
      "execution_count": 19,
      "outputs": []
    },
    {
      "cell_type": "code",
      "source": [
        "from sklearn.cluster import KMeans"
      ],
      "metadata": {
        "id": "V9_JZF-e-FCK"
      },
      "execution_count": 20,
      "outputs": []
    },
    {
      "cell_type": "code",
      "source": [
        "from sklearn.feature_extraction.text import TfidfVectorizer, CountVectorizer"
      ],
      "metadata": {
        "id": "WIUw9A9a-IXn"
      },
      "execution_count": 21,
      "outputs": []
    },
    {
      "cell_type": "code",
      "source": [
        "from ast import literal_eval"
      ],
      "metadata": {
        "id": "MzmbMEtL_WiR"
      },
      "execution_count": 27,
      "outputs": []
    },
    {
      "cell_type": "code",
      "source": [
        "data={\n",
        "    \"a\":{\n",
        "        \"abc\": [12,34,3,65,67,12,12,12,32,43,23,1243,43,34,23],\n",
        "        \"bcd\": [34,456,23,32,45,35,23,45,34,132,53,23,54,2342,3],\n",
        "        \"cde\": [23,54,56,23,34,43,23,35,56,32,23,45,65,34,23],\n",
        "        \"def\": ['asd','sd','sd','asd','bca','asd','sd','sd','asd','bca','asd','sd','sd','asd','bca'],\n",
        "        \"efg\": ['nddf','nddf','re','re','nddf','nddf','nddf','re','re','nddf','nddf','nddf','re','re','nddf']\n",
        "    }\n",
        "}"
      ],
      "metadata": {
        "id": "5NUY7L7t_mDV"
      },
      "execution_count": 111,
      "outputs": []
    },
    {
      "cell_type": "code",
      "source": [
        "import numpy as np\n",
        "import pandas as pd"
      ],
      "metadata": {
        "id": "5altqnMgBCpl"
      },
      "execution_count": 112,
      "outputs": []
    },
    {
      "cell_type": "code",
      "source": [
        "df=pd.DataFrame(data[\"a\"])"
      ],
      "metadata": {
        "id": "unFWD24eBO5L"
      },
      "execution_count": 113,
      "outputs": []
    },
    {
      "cell_type": "code",
      "source": [
        "df.head()"
      ],
      "metadata": {
        "colab": {
          "base_uri": "https://localhost:8080/",
          "height": 206
        },
        "id": "PaRB0tQQBUCh",
        "outputId": "a2a51c8f-1485-44c5-b3fe-4c46b47e790c"
      },
      "execution_count": 114,
      "outputs": [
        {
          "output_type": "execute_result",
          "data": {
            "text/plain": [
              "   abc  bcd  cde  def   efg\n",
              "0   12   34   23  asd  nddf\n",
              "1   34  456   54   sd  nddf\n",
              "2    3   23   56   sd    re\n",
              "3   65   32   23  asd    re\n",
              "4   67   45   34  bca  nddf"
            ],
            "text/html": [
              "\n",
              "  <div id=\"df-7edcbe6b-56fb-42c2-89a4-f3f8b3846ee5\" class=\"colab-df-container\">\n",
              "    <div>\n",
              "<style scoped>\n",
              "    .dataframe tbody tr th:only-of-type {\n",
              "        vertical-align: middle;\n",
              "    }\n",
              "\n",
              "    .dataframe tbody tr th {\n",
              "        vertical-align: top;\n",
              "    }\n",
              "\n",
              "    .dataframe thead th {\n",
              "        text-align: right;\n",
              "    }\n",
              "</style>\n",
              "<table border=\"1\" class=\"dataframe\">\n",
              "  <thead>\n",
              "    <tr style=\"text-align: right;\">\n",
              "      <th></th>\n",
              "      <th>abc</th>\n",
              "      <th>bcd</th>\n",
              "      <th>cde</th>\n",
              "      <th>def</th>\n",
              "      <th>efg</th>\n",
              "    </tr>\n",
              "  </thead>\n",
              "  <tbody>\n",
              "    <tr>\n",
              "      <th>0</th>\n",
              "      <td>12</td>\n",
              "      <td>34</td>\n",
              "      <td>23</td>\n",
              "      <td>asd</td>\n",
              "      <td>nddf</td>\n",
              "    </tr>\n",
              "    <tr>\n",
              "      <th>1</th>\n",
              "      <td>34</td>\n",
              "      <td>456</td>\n",
              "      <td>54</td>\n",
              "      <td>sd</td>\n",
              "      <td>nddf</td>\n",
              "    </tr>\n",
              "    <tr>\n",
              "      <th>2</th>\n",
              "      <td>3</td>\n",
              "      <td>23</td>\n",
              "      <td>56</td>\n",
              "      <td>sd</td>\n",
              "      <td>re</td>\n",
              "    </tr>\n",
              "    <tr>\n",
              "      <th>3</th>\n",
              "      <td>65</td>\n",
              "      <td>32</td>\n",
              "      <td>23</td>\n",
              "      <td>asd</td>\n",
              "      <td>re</td>\n",
              "    </tr>\n",
              "    <tr>\n",
              "      <th>4</th>\n",
              "      <td>67</td>\n",
              "      <td>45</td>\n",
              "      <td>34</td>\n",
              "      <td>bca</td>\n",
              "      <td>nddf</td>\n",
              "    </tr>\n",
              "  </tbody>\n",
              "</table>\n",
              "</div>\n",
              "    <div class=\"colab-df-buttons\">\n",
              "\n",
              "  <div class=\"colab-df-container\">\n",
              "    <button class=\"colab-df-convert\" onclick=\"convertToInteractive('df-7edcbe6b-56fb-42c2-89a4-f3f8b3846ee5')\"\n",
              "            title=\"Convert this dataframe to an interactive table.\"\n",
              "            style=\"display:none;\">\n",
              "\n",
              "  <svg xmlns=\"http://www.w3.org/2000/svg\" height=\"24px\" viewBox=\"0 -960 960 960\">\n",
              "    <path d=\"M120-120v-720h720v720H120Zm60-500h600v-160H180v160Zm220 220h160v-160H400v160Zm0 220h160v-160H400v160ZM180-400h160v-160H180v160Zm440 0h160v-160H620v160ZM180-180h160v-160H180v160Zm440 0h160v-160H620v160Z\"/>\n",
              "  </svg>\n",
              "    </button>\n",
              "\n",
              "  <style>\n",
              "    .colab-df-container {\n",
              "      display:flex;\n",
              "      gap: 12px;\n",
              "    }\n",
              "\n",
              "    .colab-df-convert {\n",
              "      background-color: #E8F0FE;\n",
              "      border: none;\n",
              "      border-radius: 50%;\n",
              "      cursor: pointer;\n",
              "      display: none;\n",
              "      fill: #1967D2;\n",
              "      height: 32px;\n",
              "      padding: 0 0 0 0;\n",
              "      width: 32px;\n",
              "    }\n",
              "\n",
              "    .colab-df-convert:hover {\n",
              "      background-color: #E2EBFA;\n",
              "      box-shadow: 0px 1px 2px rgba(60, 64, 67, 0.3), 0px 1px 3px 1px rgba(60, 64, 67, 0.15);\n",
              "      fill: #174EA6;\n",
              "    }\n",
              "\n",
              "    .colab-df-buttons div {\n",
              "      margin-bottom: 4px;\n",
              "    }\n",
              "\n",
              "    [theme=dark] .colab-df-convert {\n",
              "      background-color: #3B4455;\n",
              "      fill: #D2E3FC;\n",
              "    }\n",
              "\n",
              "    [theme=dark] .colab-df-convert:hover {\n",
              "      background-color: #434B5C;\n",
              "      box-shadow: 0px 1px 3px 1px rgba(0, 0, 0, 0.15);\n",
              "      filter: drop-shadow(0px 1px 2px rgba(0, 0, 0, 0.3));\n",
              "      fill: #FFFFFF;\n",
              "    }\n",
              "  </style>\n",
              "\n",
              "    <script>\n",
              "      const buttonEl =\n",
              "        document.querySelector('#df-7edcbe6b-56fb-42c2-89a4-f3f8b3846ee5 button.colab-df-convert');\n",
              "      buttonEl.style.display =\n",
              "        google.colab.kernel.accessAllowed ? 'block' : 'none';\n",
              "\n",
              "      async function convertToInteractive(key) {\n",
              "        const element = document.querySelector('#df-7edcbe6b-56fb-42c2-89a4-f3f8b3846ee5');\n",
              "        const dataTable =\n",
              "          await google.colab.kernel.invokeFunction('convertToInteractive',\n",
              "                                                    [key], {});\n",
              "        if (!dataTable) return;\n",
              "\n",
              "        const docLinkHtml = 'Like what you see? Visit the ' +\n",
              "          '<a target=\"_blank\" href=https://colab.research.google.com/notebooks/data_table.ipynb>data table notebook</a>'\n",
              "          + ' to learn more about interactive tables.';\n",
              "        element.innerHTML = '';\n",
              "        dataTable['output_type'] = 'display_data';\n",
              "        await google.colab.output.renderOutput(dataTable, element);\n",
              "        const docLink = document.createElement('div');\n",
              "        docLink.innerHTML = docLinkHtml;\n",
              "        element.appendChild(docLink);\n",
              "      }\n",
              "    </script>\n",
              "  </div>\n",
              "\n",
              "\n",
              "<div id=\"df-2fdcb13d-d21b-474a-94d7-a96d02bfecbc\">\n",
              "  <button class=\"colab-df-quickchart\" onclick=\"quickchart('df-2fdcb13d-d21b-474a-94d7-a96d02bfecbc')\"\n",
              "            title=\"Suggest charts.\"\n",
              "            style=\"display:none;\">\n",
              "\n",
              "<svg xmlns=\"http://www.w3.org/2000/svg\" height=\"24px\"viewBox=\"0 0 24 24\"\n",
              "     width=\"24px\">\n",
              "    <g>\n",
              "        <path d=\"M19 3H5c-1.1 0-2 .9-2 2v14c0 1.1.9 2 2 2h14c1.1 0 2-.9 2-2V5c0-1.1-.9-2-2-2zM9 17H7v-7h2v7zm4 0h-2V7h2v10zm4 0h-2v-4h2v4z\"/>\n",
              "    </g>\n",
              "</svg>\n",
              "  </button>\n",
              "\n",
              "<style>\n",
              "  .colab-df-quickchart {\n",
              "      --bg-color: #E8F0FE;\n",
              "      --fill-color: #1967D2;\n",
              "      --hover-bg-color: #E2EBFA;\n",
              "      --hover-fill-color: #174EA6;\n",
              "      --disabled-fill-color: #AAA;\n",
              "      --disabled-bg-color: #DDD;\n",
              "  }\n",
              "\n",
              "  [theme=dark] .colab-df-quickchart {\n",
              "      --bg-color: #3B4455;\n",
              "      --fill-color: #D2E3FC;\n",
              "      --hover-bg-color: #434B5C;\n",
              "      --hover-fill-color: #FFFFFF;\n",
              "      --disabled-bg-color: #3B4455;\n",
              "      --disabled-fill-color: #666;\n",
              "  }\n",
              "\n",
              "  .colab-df-quickchart {\n",
              "    background-color: var(--bg-color);\n",
              "    border: none;\n",
              "    border-radius: 50%;\n",
              "    cursor: pointer;\n",
              "    display: none;\n",
              "    fill: var(--fill-color);\n",
              "    height: 32px;\n",
              "    padding: 0;\n",
              "    width: 32px;\n",
              "  }\n",
              "\n",
              "  .colab-df-quickchart:hover {\n",
              "    background-color: var(--hover-bg-color);\n",
              "    box-shadow: 0 1px 2px rgba(60, 64, 67, 0.3), 0 1px 3px 1px rgba(60, 64, 67, 0.15);\n",
              "    fill: var(--button-hover-fill-color);\n",
              "  }\n",
              "\n",
              "  .colab-df-quickchart-complete:disabled,\n",
              "  .colab-df-quickchart-complete:disabled:hover {\n",
              "    background-color: var(--disabled-bg-color);\n",
              "    fill: var(--disabled-fill-color);\n",
              "    box-shadow: none;\n",
              "  }\n",
              "\n",
              "  .colab-df-spinner {\n",
              "    border: 2px solid var(--fill-color);\n",
              "    border-color: transparent;\n",
              "    border-bottom-color: var(--fill-color);\n",
              "    animation:\n",
              "      spin 1s steps(1) infinite;\n",
              "  }\n",
              "\n",
              "  @keyframes spin {\n",
              "    0% {\n",
              "      border-color: transparent;\n",
              "      border-bottom-color: var(--fill-color);\n",
              "      border-left-color: var(--fill-color);\n",
              "    }\n",
              "    20% {\n",
              "      border-color: transparent;\n",
              "      border-left-color: var(--fill-color);\n",
              "      border-top-color: var(--fill-color);\n",
              "    }\n",
              "    30% {\n",
              "      border-color: transparent;\n",
              "      border-left-color: var(--fill-color);\n",
              "      border-top-color: var(--fill-color);\n",
              "      border-right-color: var(--fill-color);\n",
              "    }\n",
              "    40% {\n",
              "      border-color: transparent;\n",
              "      border-right-color: var(--fill-color);\n",
              "      border-top-color: var(--fill-color);\n",
              "    }\n",
              "    60% {\n",
              "      border-color: transparent;\n",
              "      border-right-color: var(--fill-color);\n",
              "    }\n",
              "    80% {\n",
              "      border-color: transparent;\n",
              "      border-right-color: var(--fill-color);\n",
              "      border-bottom-color: var(--fill-color);\n",
              "    }\n",
              "    90% {\n",
              "      border-color: transparent;\n",
              "      border-bottom-color: var(--fill-color);\n",
              "    }\n",
              "  }\n",
              "</style>\n",
              "\n",
              "  <script>\n",
              "    async function quickchart(key) {\n",
              "      const quickchartButtonEl =\n",
              "        document.querySelector('#' + key + ' button');\n",
              "      quickchartButtonEl.disabled = true;  // To prevent multiple clicks.\n",
              "      quickchartButtonEl.classList.add('colab-df-spinner');\n",
              "      try {\n",
              "        const charts = await google.colab.kernel.invokeFunction(\n",
              "            'suggestCharts', [key], {});\n",
              "      } catch (error) {\n",
              "        console.error('Error during call to suggestCharts:', error);\n",
              "      }\n",
              "      quickchartButtonEl.classList.remove('colab-df-spinner');\n",
              "      quickchartButtonEl.classList.add('colab-df-quickchart-complete');\n",
              "    }\n",
              "    (() => {\n",
              "      let quickchartButtonEl =\n",
              "        document.querySelector('#df-2fdcb13d-d21b-474a-94d7-a96d02bfecbc button');\n",
              "      quickchartButtonEl.style.display =\n",
              "        google.colab.kernel.accessAllowed ? 'block' : 'none';\n",
              "    })();\n",
              "  </script>\n",
              "</div>\n",
              "    </div>\n",
              "  </div>\n"
            ]
          },
          "metadata": {},
          "execution_count": 114
        }
      ]
    },
    {
      "cell_type": "code",
      "source": [
        "catvar=df[[\"def\",\"efg\"]]\n",
        "print(catvar)"
      ],
      "metadata": {
        "colab": {
          "base_uri": "https://localhost:8080/"
        },
        "id": "JCG9TKvnBVgO",
        "outputId": "c1f7a063-fce9-4684-e23d-fcea9a4bb23d"
      },
      "execution_count": 115,
      "outputs": [
        {
          "output_type": "stream",
          "name": "stdout",
          "text": [
            "    def   efg\n",
            "0   asd  nddf\n",
            "1    sd  nddf\n",
            "2    sd    re\n",
            "3   asd    re\n",
            "4   bca  nddf\n",
            "5   asd  nddf\n",
            "6    sd  nddf\n",
            "7    sd    re\n",
            "8   asd    re\n",
            "9   bca  nddf\n",
            "10  asd  nddf\n",
            "11   sd  nddf\n",
            "12   sd    re\n",
            "13  asd    re\n",
            "14  bca  nddf\n"
          ]
        }
      ]
    },
    {
      "cell_type": "code",
      "source": [
        "OHencoder=OneHotEncoder()"
      ],
      "metadata": {
        "id": "FluH9Kw1Bvd2"
      },
      "execution_count": 116,
      "outputs": []
    },
    {
      "cell_type": "code",
      "source": [
        "vals=catvar.to_numpy()\n",
        "print(vals)"
      ],
      "metadata": {
        "colab": {
          "base_uri": "https://localhost:8080/"
        },
        "id": "08wpShlyB4lW",
        "outputId": "21ae9003-457f-4a3f-e281-757f0a64968a"
      },
      "execution_count": 117,
      "outputs": [
        {
          "output_type": "stream",
          "name": "stdout",
          "text": [
            "[['asd' 'nddf']\n",
            " ['sd' 'nddf']\n",
            " ['sd' 're']\n",
            " ['asd' 're']\n",
            " ['bca' 'nddf']\n",
            " ['asd' 'nddf']\n",
            " ['sd' 'nddf']\n",
            " ['sd' 're']\n",
            " ['asd' 're']\n",
            " ['bca' 'nddf']\n",
            " ['asd' 'nddf']\n",
            " ['sd' 'nddf']\n",
            " ['sd' 're']\n",
            " ['asd' 're']\n",
            " ['bca' 'nddf']]\n"
          ]
        }
      ]
    },
    {
      "cell_type": "code",
      "source": [
        "vecs=OHencoder.fit_transform(catvar)\n",
        "print(vecs) # condensed binary array"
      ],
      "metadata": {
        "colab": {
          "base_uri": "https://localhost:8080/"
        },
        "id": "-qEVASymCUSO",
        "outputId": "379619a1-b8ec-490b-f6a8-b5ca4ef3310d"
      },
      "execution_count": 118,
      "outputs": [
        {
          "output_type": "stream",
          "name": "stdout",
          "text": [
            "  (0, 0)\t1.0\n",
            "  (0, 3)\t1.0\n",
            "  (1, 2)\t1.0\n",
            "  (1, 3)\t1.0\n",
            "  (2, 2)\t1.0\n",
            "  (2, 4)\t1.0\n",
            "  (3, 0)\t1.0\n",
            "  (3, 4)\t1.0\n",
            "  (4, 1)\t1.0\n",
            "  (4, 3)\t1.0\n",
            "  (5, 0)\t1.0\n",
            "  (5, 3)\t1.0\n",
            "  (6, 2)\t1.0\n",
            "  (6, 3)\t1.0\n",
            "  (7, 2)\t1.0\n",
            "  (7, 4)\t1.0\n",
            "  (8, 0)\t1.0\n",
            "  (8, 4)\t1.0\n",
            "  (9, 1)\t1.0\n",
            "  (9, 3)\t1.0\n",
            "  (10, 0)\t1.0\n",
            "  (10, 3)\t1.0\n",
            "  (11, 2)\t1.0\n",
            "  (11, 3)\t1.0\n",
            "  (12, 2)\t1.0\n",
            "  (12, 4)\t1.0\n",
            "  (13, 0)\t1.0\n",
            "  (13, 4)\t1.0\n",
            "  (14, 1)\t1.0\n",
            "  (14, 3)\t1.0\n"
          ]
        }
      ]
    },
    {
      "cell_type": "code",
      "source": [
        "type(vecs)"
      ],
      "metadata": {
        "colab": {
          "base_uri": "https://localhost:8080/"
        },
        "id": "oMOogvRADmAm",
        "outputId": "a6e7dfd2-18cd-44a1-e68d-3cdb9d88e43c"
      },
      "execution_count": 119,
      "outputs": [
        {
          "output_type": "execute_result",
          "data": {
            "text/plain": [
              "scipy.sparse._csr.csr_matrix"
            ]
          },
          "metadata": {},
          "execution_count": 119
        }
      ]
    },
    {
      "cell_type": "code",
      "source": [
        "toarr=vecs.toarray()"
      ],
      "metadata": {
        "id": "0m6JfzdzDBkU"
      },
      "execution_count": 120,
      "outputs": []
    },
    {
      "cell_type": "code",
      "source": [
        "toarr=pd.DataFrame(toarr)\n",
        "print(toarr)"
      ],
      "metadata": {
        "colab": {
          "base_uri": "https://localhost:8080/"
        },
        "id": "IGLd4lboDDlv",
        "outputId": "e7694be3-fae5-4db1-8eb4-ebb6114f25dd"
      },
      "execution_count": 121,
      "outputs": [
        {
          "output_type": "stream",
          "name": "stdout",
          "text": [
            "      0    1    2    3    4\n",
            "0   1.0  0.0  0.0  1.0  0.0\n",
            "1   0.0  0.0  1.0  1.0  0.0\n",
            "2   0.0  0.0  1.0  0.0  1.0\n",
            "3   1.0  0.0  0.0  0.0  1.0\n",
            "4   0.0  1.0  0.0  1.0  0.0\n",
            "5   1.0  0.0  0.0  1.0  0.0\n",
            "6   0.0  0.0  1.0  1.0  0.0\n",
            "7   0.0  0.0  1.0  0.0  1.0\n",
            "8   1.0  0.0  0.0  0.0  1.0\n",
            "9   0.0  1.0  0.0  1.0  0.0\n",
            "10  1.0  0.0  0.0  1.0  0.0\n",
            "11  0.0  0.0  1.0  1.0  0.0\n",
            "12  0.0  0.0  1.0  0.0  1.0\n",
            "13  1.0  0.0  0.0  0.0  1.0\n",
            "14  0.0  1.0  0.0  1.0  0.0\n"
          ]
        }
      ]
    },
    {
      "cell_type": "code",
      "source": [
        "encoder=OneHotEncoder(sparse=False)\n",
        "vecs=encoder.fit_transform(catvar)\n",
        "arr=pd.DataFrame(vecs)\n",
        "print(arr)"
      ],
      "metadata": {
        "colab": {
          "base_uri": "https://localhost:8080/"
        },
        "id": "CLPA7sRUPERj",
        "outputId": "fd170195-dc0e-4b62-8902-f23cde707168"
      },
      "execution_count": 122,
      "outputs": [
        {
          "output_type": "stream",
          "name": "stdout",
          "text": [
            "      0    1    2    3    4\n",
            "0   1.0  0.0  0.0  1.0  0.0\n",
            "1   0.0  0.0  1.0  1.0  0.0\n",
            "2   0.0  0.0  1.0  0.0  1.0\n",
            "3   1.0  0.0  0.0  0.0  1.0\n",
            "4   0.0  1.0  0.0  1.0  0.0\n",
            "5   1.0  0.0  0.0  1.0  0.0\n",
            "6   0.0  0.0  1.0  1.0  0.0\n",
            "7   0.0  0.0  1.0  0.0  1.0\n",
            "8   1.0  0.0  0.0  0.0  1.0\n",
            "9   0.0  1.0  0.0  1.0  0.0\n",
            "10  1.0  0.0  0.0  1.0  0.0\n",
            "11  0.0  0.0  1.0  1.0  0.0\n",
            "12  0.0  0.0  1.0  0.0  1.0\n",
            "13  1.0  0.0  0.0  0.0  1.0\n",
            "14  0.0  1.0  0.0  1.0  0.0\n"
          ]
        },
        {
          "output_type": "stream",
          "name": "stderr",
          "text": [
            "/usr/local/lib/python3.10/dist-packages/sklearn/preprocessing/_encoders.py:868: FutureWarning: `sparse` was renamed to `sparse_output` in version 1.2 and will be removed in 1.4. `sparse_output` is ignored unless you leave `sparse` to its default value.\n",
            "  warnings.warn(\n"
          ]
        }
      ]
    },
    {
      "cell_type": "code",
      "source": [
        "dfencoded=pd.concat([df,arr],axis=1)\n",
        "dfencoded.reset_index(drop=True,inplace=True)\n",
        "dfencoded.drop([\"def\",\"efg\"],inplace=True,axis=1)"
      ],
      "metadata": {
        "id": "nQ7WRvRoDWRy"
      },
      "execution_count": 123,
      "outputs": []
    },
    {
      "cell_type": "code",
      "source": [
        "print(df)"
      ],
      "metadata": {
        "colab": {
          "base_uri": "https://localhost:8080/"
        },
        "id": "MREcPNp8NQja",
        "outputId": "ad329a14-7364-433c-cbde-9c6b6ad49333"
      },
      "execution_count": 124,
      "outputs": [
        {
          "output_type": "stream",
          "name": "stdout",
          "text": [
            "     abc   bcd  cde  def   efg\n",
            "0     12    34   23  asd  nddf\n",
            "1     34   456   54   sd  nddf\n",
            "2      3    23   56   sd    re\n",
            "3     65    32   23  asd    re\n",
            "4     67    45   34  bca  nddf\n",
            "5     12    35   43  asd  nddf\n",
            "6     12    23   23   sd  nddf\n",
            "7     12    45   35   sd    re\n",
            "8     32    34   56  asd    re\n",
            "9     43   132   32  bca  nddf\n",
            "10    23    53   23  asd  nddf\n",
            "11  1243    23   45   sd  nddf\n",
            "12    43    54   65   sd    re\n",
            "13    34  2342   34  asd    re\n",
            "14    23     3   23  bca  nddf\n"
          ]
        }
      ]
    },
    {
      "cell_type": "code",
      "source": [
        "print(dfencoded)"
      ],
      "metadata": {
        "colab": {
          "base_uri": "https://localhost:8080/"
        },
        "id": "NdzJqO1iNJOr",
        "outputId": "1f0d6417-8bad-45d8-a1da-35aa14f96654"
      },
      "execution_count": 125,
      "outputs": [
        {
          "output_type": "stream",
          "name": "stdout",
          "text": [
            "     abc   bcd  cde    0    1    2    3    4\n",
            "0     12    34   23  1.0  0.0  0.0  1.0  0.0\n",
            "1     34   456   54  0.0  0.0  1.0  1.0  0.0\n",
            "2      3    23   56  0.0  0.0  1.0  0.0  1.0\n",
            "3     65    32   23  1.0  0.0  0.0  0.0  1.0\n",
            "4     67    45   34  0.0  1.0  0.0  1.0  0.0\n",
            "5     12    35   43  1.0  0.0  0.0  1.0  0.0\n",
            "6     12    23   23  0.0  0.0  1.0  1.0  0.0\n",
            "7     12    45   35  0.0  0.0  1.0  0.0  1.0\n",
            "8     32    34   56  1.0  0.0  0.0  0.0  1.0\n",
            "9     43   132   32  0.0  1.0  0.0  1.0  0.0\n",
            "10    23    53   23  1.0  0.0  0.0  1.0  0.0\n",
            "11  1243    23   45  0.0  0.0  1.0  1.0  0.0\n",
            "12    43    54   65  0.0  0.0  1.0  0.0  1.0\n",
            "13    34  2342   34  1.0  0.0  0.0  0.0  1.0\n",
            "14    23     3   23  0.0  1.0  0.0  1.0  0.0\n"
          ]
        }
      ]
    },
    {
      "cell_type": "code",
      "source": [
        "print(dfencoded.columns)"
      ],
      "metadata": {
        "colab": {
          "base_uri": "https://localhost:8080/"
        },
        "id": "p5TjNecb19YV",
        "outputId": "ad249e9b-0c7d-43e2-9d8f-3eb8ecff8bdd"
      },
      "execution_count": 132,
      "outputs": [
        {
          "output_type": "stream",
          "name": "stdout",
          "text": [
            "Index(['abc', 'bcd', 'cde', 0, 1, 2, 3, 4], dtype='object')\n"
          ]
        }
      ]
    },
    {
      "cell_type": "code",
      "source": [
        "from sklearn.tree import DecisionTreeRegressor"
      ],
      "metadata": {
        "id": "UMmRwnp6Yr_F"
      },
      "execution_count": 126,
      "outputs": []
    },
    {
      "cell_type": "code",
      "source": [
        "regressor=DecisionTreeRegressor()"
      ],
      "metadata": {
        "id": "OyUt2Y74h6_D"
      },
      "execution_count": 127,
      "outputs": []
    },
    {
      "cell_type": "code",
      "source": [
        "from sklearn.model_selection import train_test_split"
      ],
      "metadata": {
        "id": "jvxhtKLQjttQ"
      },
      "execution_count": 128,
      "outputs": []
    },
    {
      "cell_type": "code",
      "source": [
        "X=dfencoded[[\"abc\",\"bcd\",0,1,2,3,4]]\n",
        "y=dfencoded.cde"
      ],
      "metadata": {
        "id": "7_QO7dRu1HBK"
      },
      "execution_count": 133,
      "outputs": []
    },
    {
      "cell_type": "code",
      "source": [
        "X.columns=[str(col) for col in X.columns]"
      ],
      "metadata": {
        "id": "O73SDp2f72o5"
      },
      "execution_count": 141,
      "outputs": []
    },
    {
      "cell_type": "code",
      "source": [
        "X_train,X_test,y_train,y_test=train_test_split(X,y,test_size=0.1,random_state=42)"
      ],
      "metadata": {
        "id": "UbqDrLsskIyk"
      },
      "execution_count": 165,
      "outputs": []
    },
    {
      "cell_type": "code",
      "source": [
        "dtr=DecisionTreeRegressor()"
      ],
      "metadata": {
        "id": "knIGqeXEzGua"
      },
      "execution_count": 166,
      "outputs": []
    },
    {
      "cell_type": "code",
      "source": [
        "dtr.fit(X_train,y_train)"
      ],
      "metadata": {
        "colab": {
          "base_uri": "https://localhost:8080/",
          "height": 74
        },
        "id": "xRAyVifm3PGM",
        "outputId": "b40c6649-ee02-4eea-c8d1-2590e118e881"
      },
      "execution_count": 167,
      "outputs": [
        {
          "output_type": "execute_result",
          "data": {
            "text/plain": [
              "DecisionTreeRegressor()"
            ],
            "text/html": [
              "<style>#sk-container-id-4 {color: black;background-color: white;}#sk-container-id-4 pre{padding: 0;}#sk-container-id-4 div.sk-toggleable {background-color: white;}#sk-container-id-4 label.sk-toggleable__label {cursor: pointer;display: block;width: 100%;margin-bottom: 0;padding: 0.3em;box-sizing: border-box;text-align: center;}#sk-container-id-4 label.sk-toggleable__label-arrow:before {content: \"▸\";float: left;margin-right: 0.25em;color: #696969;}#sk-container-id-4 label.sk-toggleable__label-arrow:hover:before {color: black;}#sk-container-id-4 div.sk-estimator:hover label.sk-toggleable__label-arrow:before {color: black;}#sk-container-id-4 div.sk-toggleable__content {max-height: 0;max-width: 0;overflow: hidden;text-align: left;background-color: #f0f8ff;}#sk-container-id-4 div.sk-toggleable__content pre {margin: 0.2em;color: black;border-radius: 0.25em;background-color: #f0f8ff;}#sk-container-id-4 input.sk-toggleable__control:checked~div.sk-toggleable__content {max-height: 200px;max-width: 100%;overflow: auto;}#sk-container-id-4 input.sk-toggleable__control:checked~label.sk-toggleable__label-arrow:before {content: \"▾\";}#sk-container-id-4 div.sk-estimator input.sk-toggleable__control:checked~label.sk-toggleable__label {background-color: #d4ebff;}#sk-container-id-4 div.sk-label input.sk-toggleable__control:checked~label.sk-toggleable__label {background-color: #d4ebff;}#sk-container-id-4 input.sk-hidden--visually {border: 0;clip: rect(1px 1px 1px 1px);clip: rect(1px, 1px, 1px, 1px);height: 1px;margin: -1px;overflow: hidden;padding: 0;position: absolute;width: 1px;}#sk-container-id-4 div.sk-estimator {font-family: monospace;background-color: #f0f8ff;border: 1px dotted black;border-radius: 0.25em;box-sizing: border-box;margin-bottom: 0.5em;}#sk-container-id-4 div.sk-estimator:hover {background-color: #d4ebff;}#sk-container-id-4 div.sk-parallel-item::after {content: \"\";width: 100%;border-bottom: 1px solid gray;flex-grow: 1;}#sk-container-id-4 div.sk-label:hover label.sk-toggleable__label {background-color: #d4ebff;}#sk-container-id-4 div.sk-serial::before {content: \"\";position: absolute;border-left: 1px solid gray;box-sizing: border-box;top: 0;bottom: 0;left: 50%;z-index: 0;}#sk-container-id-4 div.sk-serial {display: flex;flex-direction: column;align-items: center;background-color: white;padding-right: 0.2em;padding-left: 0.2em;position: relative;}#sk-container-id-4 div.sk-item {position: relative;z-index: 1;}#sk-container-id-4 div.sk-parallel {display: flex;align-items: stretch;justify-content: center;background-color: white;position: relative;}#sk-container-id-4 div.sk-item::before, #sk-container-id-4 div.sk-parallel-item::before {content: \"\";position: absolute;border-left: 1px solid gray;box-sizing: border-box;top: 0;bottom: 0;left: 50%;z-index: -1;}#sk-container-id-4 div.sk-parallel-item {display: flex;flex-direction: column;z-index: 1;position: relative;background-color: white;}#sk-container-id-4 div.sk-parallel-item:first-child::after {align-self: flex-end;width: 50%;}#sk-container-id-4 div.sk-parallel-item:last-child::after {align-self: flex-start;width: 50%;}#sk-container-id-4 div.sk-parallel-item:only-child::after {width: 0;}#sk-container-id-4 div.sk-dashed-wrapped {border: 1px dashed gray;margin: 0 0.4em 0.5em 0.4em;box-sizing: border-box;padding-bottom: 0.4em;background-color: white;}#sk-container-id-4 div.sk-label label {font-family: monospace;font-weight: bold;display: inline-block;line-height: 1.2em;}#sk-container-id-4 div.sk-label-container {text-align: center;}#sk-container-id-4 div.sk-container {/* jupyter's `normalize.less` sets `[hidden] { display: none; }` but bootstrap.min.css set `[hidden] { display: none !important; }` so we also need the `!important` here to be able to override the default hidden behavior on the sphinx rendered scikit-learn.org. See: https://github.com/scikit-learn/scikit-learn/issues/21755 */display: inline-block !important;position: relative;}#sk-container-id-4 div.sk-text-repr-fallback {display: none;}</style><div id=\"sk-container-id-4\" class=\"sk-top-container\"><div class=\"sk-text-repr-fallback\"><pre>DecisionTreeRegressor()</pre><b>In a Jupyter environment, please rerun this cell to show the HTML representation or trust the notebook. <br />On GitHub, the HTML representation is unable to render, please try loading this page with nbviewer.org.</b></div><div class=\"sk-container\" hidden><div class=\"sk-item\"><div class=\"sk-estimator sk-toggleable\"><input class=\"sk-toggleable__control sk-hidden--visually\" id=\"sk-estimator-id-4\" type=\"checkbox\" checked><label for=\"sk-estimator-id-4\" class=\"sk-toggleable__label sk-toggleable__label-arrow\">DecisionTreeRegressor</label><div class=\"sk-toggleable__content\"><pre>DecisionTreeRegressor()</pre></div></div></div></div></div>"
            ]
          },
          "metadata": {},
          "execution_count": 167
        }
      ]
    },
    {
      "cell_type": "code",
      "source": [
        "y_pred=dtr.predict(X_test)"
      ],
      "metadata": {
        "id": "FCgWjRdP4etI"
      },
      "execution_count": 168,
      "outputs": []
    },
    {
      "cell_type": "code",
      "source": [
        "cnt=0\n",
        "for i in y_pred:\n",
        "  print(i,\" \",y_test.iloc[cnt])\n",
        "  cnt+=1"
      ],
      "metadata": {
        "colab": {
          "base_uri": "https://localhost:8080/"
        },
        "id": "OeZwNO-f8MU2",
        "outputId": "22f55d68-db23-4aa8-864f-d8c5ebfbb7a9"
      },
      "execution_count": 169,
      "outputs": [
        {
          "output_type": "stream",
          "name": "stdout",
          "text": [
            "34.0   32\n",
            "23.0   45\n"
          ]
        }
      ]
    },
    {
      "cell_type": "code",
      "source": [
        "X_new=df[[\"abc\",\"bcd\",\"def\",\"efg\"]]\n",
        "y_new=df.cde\n",
        "print(X_new)"
      ],
      "metadata": {
        "colab": {
          "base_uri": "https://localhost:8080/"
        },
        "id": "njw11dLE8dVx",
        "outputId": "1be7506b-6fd7-416d-9a8e-8a9117ac97c9"
      },
      "execution_count": 177,
      "outputs": [
        {
          "output_type": "stream",
          "name": "stdout",
          "text": [
            "     abc   bcd  def   efg\n",
            "0     12    34  asd  nddf\n",
            "1     34   456   sd  nddf\n",
            "2      3    23   sd    re\n",
            "3     65    32  asd    re\n",
            "4     67    45  bca  nddf\n",
            "5     12    35  asd  nddf\n",
            "6     12    23   sd  nddf\n",
            "7     12    45   sd    re\n",
            "8     32    34  asd    re\n",
            "9     43   132  bca  nddf\n",
            "10    23    53  asd  nddf\n",
            "11  1243    23   sd  nddf\n",
            "12    43    54   sd    re\n",
            "13    34  2342  asd    re\n",
            "14    23     3  bca  nddf\n"
          ]
        }
      ]
    },
    {
      "cell_type": "code",
      "source": [
        "y_train,y_test,X_train,X_test=train_test_split(X_new,y_new,test_size=0.2,random_state=32)"
      ],
      "metadata": {
        "id": "cxXxErce_N-E"
      },
      "execution_count": 178,
      "outputs": []
    },
    {
      "cell_type": "code",
      "source": [
        "X_train=X_train.values.reshape(1,-1)\n",
        "print(y_train)"
      ],
      "metadata": {
        "colab": {
          "base_uri": "https://localhost:8080/"
        },
        "id": "0eBa_j9FEFNh",
        "outputId": "2aeb51fd-8bbf-451c-9b54-1d0a04bada1e"
      },
      "execution_count": 186,
      "outputs": [
        {
          "output_type": "stream",
          "name": "stdout",
          "text": [
            "[[23 53 'asd' 'nddf' 3 23 'sd' 're' 43 132 'bca' 'nddf' 34 456 'sd'\n",
            "  'nddf' 34 2342 'asd' 're' 23 3 'bca' 'nddf' 65 32 'asd' 're' 32 34\n",
            "  'asd' 're' 12 23 'sd' 'nddf' 12 35 'asd' 'nddf' 1243 23 'sd' 'nddf' 12\n",
            "  45 'sd' 're']]\n"
          ]
        }
      ]
    },
    {
      "cell_type": "code",
      "source": [
        "# dtr.fit(X_train,y_train) won't work since it has categorical string data"
      ],
      "metadata": {
        "colab": {
          "base_uri": "https://localhost:8080/",
          "height": 330
        },
        "id": "bFk9i8k4_fgG",
        "outputId": "be756531-17dc-4e75-e982-5c9417e64232"
      },
      "execution_count": 188,
      "outputs": [
        {
          "output_type": "error",
          "ename": "ValueError",
          "evalue": "ignored",
          "traceback": [
            "\u001b[0;31m---------------------------------------------------------------------------\u001b[0m",
            "\u001b[0;31mValueError\u001b[0m                                Traceback (most recent call last)",
            "\u001b[0;32m<ipython-input-188-9c886f61f1c7>\u001b[0m in \u001b[0;36m<cell line: 1>\u001b[0;34m()\u001b[0m\n\u001b[0;32m----> 1\u001b[0;31m \u001b[0mdtr\u001b[0m\u001b[0;34m.\u001b[0m\u001b[0mfit\u001b[0m\u001b[0;34m(\u001b[0m\u001b[0mX_train\u001b[0m\u001b[0;34m,\u001b[0m\u001b[0my_train\u001b[0m\u001b[0;34m)\u001b[0m\u001b[0;34m\u001b[0m\u001b[0;34m\u001b[0m\u001b[0m\n\u001b[0m",
            "\u001b[0;32m/usr/local/lib/python3.10/dist-packages/sklearn/tree/_classes.py\u001b[0m in \u001b[0;36mfit\u001b[0;34m(self, X, y, sample_weight, check_input)\u001b[0m\n\u001b[1;32m   1245\u001b[0m         \"\"\"\n\u001b[1;32m   1246\u001b[0m \u001b[0;34m\u001b[0m\u001b[0m\n\u001b[0;32m-> 1247\u001b[0;31m         super().fit(\n\u001b[0m\u001b[1;32m   1248\u001b[0m             \u001b[0mX\u001b[0m\u001b[0;34m,\u001b[0m\u001b[0;34m\u001b[0m\u001b[0;34m\u001b[0m\u001b[0m\n\u001b[1;32m   1249\u001b[0m             \u001b[0my\u001b[0m\u001b[0;34m,\u001b[0m\u001b[0;34m\u001b[0m\u001b[0;34m\u001b[0m\u001b[0m\n",
            "\u001b[0;32m/usr/local/lib/python3.10/dist-packages/sklearn/tree/_classes.py\u001b[0m in \u001b[0;36mfit\u001b[0;34m(self, X, y, sample_weight, check_input)\u001b[0m\n\u001b[1;32m    246\u001b[0m \u001b[0;34m\u001b[0m\u001b[0m\n\u001b[1;32m    247\u001b[0m         \u001b[0;32mif\u001b[0m \u001b[0mgetattr\u001b[0m\u001b[0;34m(\u001b[0m\u001b[0my\u001b[0m\u001b[0;34m,\u001b[0m \u001b[0;34m\"dtype\"\u001b[0m\u001b[0;34m,\u001b[0m \u001b[0;32mNone\u001b[0m\u001b[0;34m)\u001b[0m \u001b[0;34m!=\u001b[0m \u001b[0mDOUBLE\u001b[0m \u001b[0;32mor\u001b[0m \u001b[0;32mnot\u001b[0m \u001b[0my\u001b[0m\u001b[0;34m.\u001b[0m\u001b[0mflags\u001b[0m\u001b[0;34m.\u001b[0m\u001b[0mcontiguous\u001b[0m\u001b[0;34m:\u001b[0m\u001b[0;34m\u001b[0m\u001b[0;34m\u001b[0m\u001b[0m\n\u001b[0;32m--> 248\u001b[0;31m             \u001b[0my\u001b[0m \u001b[0;34m=\u001b[0m \u001b[0mnp\u001b[0m\u001b[0;34m.\u001b[0m\u001b[0mascontiguousarray\u001b[0m\u001b[0;34m(\u001b[0m\u001b[0my\u001b[0m\u001b[0;34m,\u001b[0m \u001b[0mdtype\u001b[0m\u001b[0;34m=\u001b[0m\u001b[0mDOUBLE\u001b[0m\u001b[0;34m)\u001b[0m\u001b[0;34m\u001b[0m\u001b[0;34m\u001b[0m\u001b[0m\n\u001b[0m\u001b[1;32m    249\u001b[0m \u001b[0;34m\u001b[0m\u001b[0m\n\u001b[1;32m    250\u001b[0m         \u001b[0mmax_depth\u001b[0m \u001b[0;34m=\u001b[0m \u001b[0mnp\u001b[0m\u001b[0;34m.\u001b[0m\u001b[0miinfo\u001b[0m\u001b[0;34m(\u001b[0m\u001b[0mnp\u001b[0m\u001b[0;34m.\u001b[0m\u001b[0mint32\u001b[0m\u001b[0;34m)\u001b[0m\u001b[0;34m.\u001b[0m\u001b[0mmax\u001b[0m \u001b[0;32mif\u001b[0m \u001b[0mself\u001b[0m\u001b[0;34m.\u001b[0m\u001b[0mmax_depth\u001b[0m \u001b[0;32mis\u001b[0m \u001b[0;32mNone\u001b[0m \u001b[0;32melse\u001b[0m \u001b[0mself\u001b[0m\u001b[0;34m.\u001b[0m\u001b[0mmax_depth\u001b[0m\u001b[0;34m\u001b[0m\u001b[0;34m\u001b[0m\u001b[0m\n",
            "\u001b[0;31mValueError\u001b[0m: could not convert string to float: 'asd'"
          ]
        }
      ]
    },
    {
      "cell_type": "code",
      "source": [
        "X_train.ndim"
      ],
      "metadata": {
        "colab": {
          "base_uri": "https://localhost:8080/"
        },
        "id": "CnhHrDEk_xYc",
        "outputId": "66798de4-e78c-49bb-8e84-4527db5a2458"
      },
      "execution_count": 175,
      "outputs": [
        {
          "output_type": "execute_result",
          "data": {
            "text/plain": [
              "1"
            ]
          },
          "metadata": {},
          "execution_count": 175
        }
      ]
    },
    {
      "cell_type": "code",
      "source": [
        "from scipy.sparse import csr_matrix"
      ],
      "metadata": {
        "id": "bb9vdDOn_8oF"
      },
      "execution_count": 189,
      "outputs": []
    },
    {
      "cell_type": "code",
      "source": [
        "print(arr, arr.size)"
      ],
      "metadata": {
        "colab": {
          "base_uri": "https://localhost:8080/"
        },
        "id": "AlIteibdLqjj",
        "outputId": "e33d4604-4e97-4665-9b9a-97da76fe11f5"
      },
      "execution_count": 194,
      "outputs": [
        {
          "output_type": "stream",
          "name": "stdout",
          "text": [
            "      0    1    2    3    4\n",
            "0   1.0  0.0  0.0  1.0  0.0\n",
            "1   0.0  0.0  1.0  1.0  0.0\n",
            "2   0.0  0.0  1.0  0.0  1.0\n",
            "3   1.0  0.0  0.0  0.0  1.0\n",
            "4   0.0  1.0  0.0  1.0  0.0\n",
            "5   1.0  0.0  0.0  1.0  0.0\n",
            "6   0.0  0.0  1.0  1.0  0.0\n",
            "7   0.0  0.0  1.0  0.0  1.0\n",
            "8   1.0  0.0  0.0  0.0  1.0\n",
            "9   0.0  1.0  0.0  1.0  0.0\n",
            "10  1.0  0.0  0.0  1.0  0.0\n",
            "11  0.0  0.0  1.0  1.0  0.0\n",
            "12  0.0  0.0  1.0  0.0  1.0\n",
            "13  1.0  0.0  0.0  0.0  1.0\n",
            "14  0.0  1.0  0.0  1.0  0.0 75\n"
          ]
        }
      ]
    },
    {
      "cell_type": "code",
      "source": [
        "csr_mat=csr_matrix(arr)\n",
        "print(csr_mat)\n",
        "csr_mat.size"
      ],
      "metadata": {
        "colab": {
          "base_uri": "https://localhost:8080/"
        },
        "id": "9SlmXRg1Lyo0",
        "outputId": "03da8c91-2b03-4d86-c26b-9de9a50ffb10"
      },
      "execution_count": 193,
      "outputs": [
        {
          "output_type": "stream",
          "name": "stdout",
          "text": [
            "  (0, 0)\t1.0\n",
            "  (0, 3)\t1.0\n",
            "  (1, 2)\t1.0\n",
            "  (1, 3)\t1.0\n",
            "  (2, 2)\t1.0\n",
            "  (2, 4)\t1.0\n",
            "  (3, 0)\t1.0\n",
            "  (3, 4)\t1.0\n",
            "  (4, 1)\t1.0\n",
            "  (4, 3)\t1.0\n",
            "  (5, 0)\t1.0\n",
            "  (5, 3)\t1.0\n",
            "  (6, 2)\t1.0\n",
            "  (6, 3)\t1.0\n",
            "  (7, 2)\t1.0\n",
            "  (7, 4)\t1.0\n",
            "  (8, 0)\t1.0\n",
            "  (8, 4)\t1.0\n",
            "  (9, 1)\t1.0\n",
            "  (9, 3)\t1.0\n",
            "  (10, 0)\t1.0\n",
            "  (10, 3)\t1.0\n",
            "  (11, 2)\t1.0\n",
            "  (11, 3)\t1.0\n",
            "  (12, 2)\t1.0\n",
            "  (12, 4)\t1.0\n",
            "  (13, 0)\t1.0\n",
            "  (13, 4)\t1.0\n",
            "  (14, 1)\t1.0\n",
            "  (14, 3)\t1.0\n"
          ]
        },
        {
          "output_type": "execute_result",
          "data": {
            "text/plain": [
              "30"
            ]
          },
          "metadata": {},
          "execution_count": 193
        }
      ]
    },
    {
      "cell_type": "code",
      "source": [
        "mat=[[1,1,1,1,1,1,0],\n",
        "     [1,1,1,0,1,1,1],\n",
        "     [0,1,1,1,0,1,1],\n",
        "     [1,0,1,1,1,1,1]]"
      ],
      "metadata": {
        "id": "mYhLMAXKL5kI"
      },
      "execution_count": 195,
      "outputs": []
    },
    {
      "cell_type": "code",
      "source": [
        "abc=csr_matrix(mat)\n",
        "print(abc)"
      ],
      "metadata": {
        "colab": {
          "base_uri": "https://localhost:8080/"
        },
        "id": "pZ0tVse5MSYk",
        "outputId": "2be2e4f8-c009-4a48-f3ae-231a2924eed2"
      },
      "execution_count": 196,
      "outputs": [
        {
          "output_type": "stream",
          "name": "stdout",
          "text": [
            "  (0, 0)\t1\n",
            "  (0, 1)\t1\n",
            "  (0, 2)\t1\n",
            "  (0, 3)\t1\n",
            "  (0, 4)\t1\n",
            "  (0, 5)\t1\n",
            "  (1, 0)\t1\n",
            "  (1, 1)\t1\n",
            "  (1, 2)\t1\n",
            "  (1, 4)\t1\n",
            "  (1, 5)\t1\n",
            "  (1, 6)\t1\n",
            "  (2, 1)\t1\n",
            "  (2, 2)\t1\n",
            "  (2, 3)\t1\n",
            "  (2, 5)\t1\n",
            "  (2, 6)\t1\n",
            "  (3, 0)\t1\n",
            "  (3, 2)\t1\n",
            "  (3, 3)\t1\n",
            "  (3, 4)\t1\n",
            "  (3, 5)\t1\n",
            "  (3, 6)\t1\n"
          ]
        }
      ]
    },
    {
      "cell_type": "code",
      "source": [
        "from scipy.sparse import csc_matrix # compressed sparse column"
      ],
      "metadata": {
        "id": "Z8T7iXQaMXAV"
      },
      "execution_count": 199,
      "outputs": []
    },
    {
      "cell_type": "code",
      "source": [
        "abc=csc_matrix(mat)\n",
        "print(abc)"
      ],
      "metadata": {
        "colab": {
          "base_uri": "https://localhost:8080/"
        },
        "id": "k7rHjlEqM2kl",
        "outputId": "8f96c94b-4521-43ad-bdd4-8281d685e060"
      },
      "execution_count": 201,
      "outputs": [
        {
          "output_type": "stream",
          "name": "stdout",
          "text": [
            "  (0, 0)\t1\n",
            "  (1, 0)\t1\n",
            "  (3, 0)\t1\n",
            "  (0, 1)\t1\n",
            "  (1, 1)\t1\n",
            "  (2, 1)\t1\n",
            "  (0, 2)\t1\n",
            "  (1, 2)\t1\n",
            "  (2, 2)\t1\n",
            "  (3, 2)\t1\n",
            "  (0, 3)\t1\n",
            "  (2, 3)\t1\n",
            "  (3, 3)\t1\n",
            "  (0, 4)\t1\n",
            "  (1, 4)\t1\n",
            "  (3, 4)\t1\n",
            "  (0, 5)\t1\n",
            "  (1, 5)\t1\n",
            "  (2, 5)\t1\n",
            "  (3, 5)\t1\n",
            "  (1, 6)\t1\n",
            "  (2, 6)\t1\n",
            "  (3, 6)\t1\n"
          ]
        }
      ]
    },
    {
      "cell_type": "code",
      "source": [],
      "metadata": {
        "id": "VKyqoUc-NFOz"
      },
      "execution_count": null,
      "outputs": []
    }
  ]
}