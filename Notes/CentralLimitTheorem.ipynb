{
  "nbformat": 4,
  "nbformat_minor": 0,
  "metadata": {
    "colab": {
      "provenance": [],
      "authorship_tag": "ABX9TyN2rZuPVgcrfXlZ38psnf2i",
      "include_colab_link": true
    },
    "kernelspec": {
      "name": "python3",
      "display_name": "Python 3"
    },
    "language_info": {
      "name": "python"
    }
  },
  "cells": [
    {
      "cell_type": "markdown",
      "metadata": {
        "id": "view-in-github",
        "colab_type": "text"
      },
      "source": [
        "<a href=\"https://colab.research.google.com/github/aryamanan/Machiene_Learning/blob/main/CentralLimitTheorem.ipynb\" target=\"_parent\"><img src=\"https://colab.research.google.com/assets/colab-badge.svg\" alt=\"Open In Colab\"/></a>"
      ]
    },
    {
      "cell_type": "markdown",
      "source": [
        "# Central Limit Theorem\n",
        "states that the more samples we take of a given population (regardless of what distribution the population dataset follows), the more the means of the samples follow a normal curve distribution (if the sample sizes are large enough)"
      ],
      "metadata": {
        "id": "zk67wXfMplBQ"
      }
    },
    {
      "cell_type": "code",
      "execution_count": 56,
      "metadata": {
        "id": "Qt4HoRFyorZ3"
      },
      "outputs": [],
      "source": [
        "import numpy as np\n",
        "import matplotlib.pyplot as plt"
      ]
    },
    {
      "cell_type": "code",
      "source": [
        "# Create the population dataset\n",
        "\n",
        "np.random.seed(42)\n",
        "dataset=np.random.exponential(10,(1,100000))\n",
        "dataset=dataset.flatten()"
      ],
      "metadata": {
        "id": "_X11IG1Mo8h0"
      },
      "execution_count": 103,
      "outputs": []
    },
    {
      "cell_type": "code",
      "source": [
        "plt.hist(dataset,bins=1000)\n",
        "plt.show() # As we can see, it has exponential distribution"
      ],
      "metadata": {
        "colab": {
          "base_uri": "https://localhost:8080/",
          "height": 430
        },
        "id": "6y1w3ftb4lqL",
        "outputId": "a5cf9896-8c8c-44f8-f91d-aa1e075e021a"
      },
      "execution_count": 104,
      "outputs": [
        {
          "output_type": "display_data",
          "data": {
            "text/plain": [
              "<Figure size 640x480 with 1 Axes>"
            ],
            "image/png": "[encoded data removed]"
          },
          "metadata": {}
        }
      ]
    },
    {
      "cell_type": "code",
      "source": [
        "# Create the samples (let's create 72 for now)\n",
        "\n",
        "sample1=np.random.choice(dataset,size=10000,replace=False)\n",
        "sample2=np.random.choice(dataset,size=10000,replace=False)\n",
        "sample3=np.random.choice(dataset,size=10000,replace=False)\n",
        "sample4=np.random.choice(dataset,size=10000,replace=False)\n",
        "sample5=np.random.choice(dataset,size=10000,replace=False)\n",
        "sample6=np.random.choice(dataset,size=10000,replace=False)\n",
        "sample7=np.random.choice(dataset,size=10000,replace=False)\n",
        "sample8=np.random.choice(dataset,size=10000,replace=False)\n",
        "sample9=np.random.choice(dataset,size=10000,replace=False)\n",
        "sample10=np.random.choice(dataset,size=10000,replace=False)\n",
        "sample11=np.random.choice(dataset,size=10000,replace=False)\n",
        "sample12=np.random.choice(dataset,size=10000,replace=False)\n",
        "sample13=np.random.choice(dataset,size=10000,replace=False)\n",
        "sample14=np.random.choice(dataset,size=10000,replace=False)\n",
        "sample15=np.random.choice(dataset,size=10000,replace=False)\n",
        "sample16=np.random.choice(dataset,size=10000,replace=False)\n",
        "sample17=np.random.choice(dataset,size=10000,replace=False)\n",
        "sample18=np.random.choice(dataset,size=10000,replace=False)\n",
        "sample19=np.random.choice(dataset,size=10000,replace=False)\n",
        "sample20=np.random.choice(dataset,size=10000,replace=False)\n",
        "sample21=np.random.choice(dataset,size=10000,replace=False)\n",
        "sample22=np.random.choice(dataset,size=10000,replace=False)\n",
        "sample23=np.random.choice(dataset,size=10000,replace=False)\n",
        "sample24=np.random.choice(dataset,size=10000,replace=False)\n",
        "sample25=np.random.choice(dataset,size=10000,replace=False)\n",
        "sample26 = np.random.choice(dataset, size=10000, replace=False)\n",
        "sample27 = np.random.choice(dataset, size=10000, replace=False)\n",
        "sample28 = np.random.choice(dataset, size=10000, replace=False)\n",
        "sample29 = np.random.choice(dataset, size=10000, replace=False)\n",
        "sample30 = np.random.choice(dataset, size=10000, replace=False)\n",
        "sample31 = np.random.choice(dataset, size=10000, replace=False)\n",
        "sample32 = np.random.choice(dataset, size=10000, replace=False)\n",
        "sample33 = np.random.choice(dataset, size=10000, replace=False)\n",
        "sample34 = np.random.choice(dataset, size=10000, replace=False)\n",
        "sample35 = np.random.choice(dataset, size=10000, replace=False)\n",
        "sample36 = np.random.choice(dataset, size=10000, replace=False)\n",
        "sample37 = np.random.choice(dataset, size=10000, replace=False)\n",
        "sample38 = np.random.choice(dataset, size=10000, replace=False)\n",
        "sample39 = np.random.choice(dataset, size=10000, replace=False)\n",
        "sample40 = np.random.choice(dataset, size=10000, replace=False)\n",
        "sample41 = np.random.choice(dataset, size=10000, replace=False)\n",
        "sample42 = np.random.choice(dataset, size=10000, replace=False)\n",
        "sample43 = np.random.choice(dataset, size=10000, replace=False)\n",
        "sample44 = np.random.choice(dataset, size=10000, replace=False)\n",
        "sample45 = np.random.choice(dataset, size=10000, replace=False)\n",
        "sample46 = np.random.choice(dataset, size=10000, replace=False)\n",
        "sample47 = np.random.choice(dataset, size=10000, replace=False)\n",
        "sample48 = np.random.choice(dataset, size=10000, replace=False)\n",
        "sample49 = np.random.choice(dataset, size=10000, replace=False)\n",
        "sample50 = np.random.choice(dataset, size=10000, replace=False)\n",
        "sample51 = np.random.choice(dataset, size=10000, replace=False)\n",
        "sample52 = np.random.choice(dataset, size=10000, replace=False)\n",
        "sample53 = np.random.choice(dataset, size=10000, replace=False)\n",
        "sample54 = np.random.choice(dataset, size=10000, replace=False)\n",
        "sample55 = np.random.choice(dataset, size=10000, replace=False)\n",
        "sample56 = np.random.choice(dataset, size=10000, replace=False)\n",
        "sample57 = np.random.choice(dataset, size=10000, replace=False)\n",
        "sample58 = np.random.choice(dataset, size=10000, replace=False)\n",
        "sample59 = np.random.choice(dataset, size=10000, replace=False)\n",
        "sample60 = np.random.choice(dataset, size=10000, replace=False)\n",
        "sample61 = np.random.choice(dataset, size=10000, replace=False)\n",
        "sample62 = np.random.choice(dataset, size=10000, replace=False)\n",
        "sample63 = np.random.choice(dataset, size=10000, replace=False)\n",
        "sample64 = np.random.choice(dataset, size=10000, replace=False)\n",
        "sample65 = np.random.choice(dataset, size=10000, replace=False)\n",
        "sample66 = np.random.choice(dataset, size=10000, replace=False)\n",
        "sample67 = np.random.choice(dataset, size=10000, replace=False)\n",
        "sample68 = np.random.choice(dataset, size=10000, replace=False)\n",
        "sample69 = np.random.choice(dataset, size=10000, replace=False)\n",
        "sample70 = np.random.choice(dataset, size=10000, replace=False)\n",
        "sample71 = np.random.choice(dataset, size=10000, replace=False)\n",
        "sample72 = np.random.choice(dataset, size=10000, replace=False)\n"
      ],
      "metadata": {
        "id": "acbSGERkpnwg"
      },
      "execution_count": 128,
      "outputs": []
    },
    {
      "cell_type": "code",
      "source": [
        "# Find the sample means\n",
        "\n",
        "x1=np.mean(sample1)\n",
        "x2=np.mean(sample2)\n",
        "x3=np.mean(sample3)\n",
        "x4=np.mean(sample4)\n",
        "x5=np.mean(sample5)\n",
        "x6=np.mean(sample6)\n",
        "x7=np.mean(sample7)\n",
        "x8=np.mean(sample8)\n",
        "x9=np.mean(sample9)\n",
        "x10=np.mean(sample10)\n",
        "x11=np.mean(sample11)\n",
        "x12=np.mean(sample12)\n",
        "x13=np.mean(sample13)\n",
        "x14=np.mean(sample14)\n",
        "x15=np.mean(sample15)\n",
        "x16=np.mean(sample16)\n",
        "x17=np.mean(sample17)\n",
        "x18=np.mean(sample18)\n",
        "x19=np.mean(sample19)\n",
        "x20=np.mean(sample20)\n",
        "x21=np.mean(sample21)\n",
        "x22=np.mean(sample22)\n",
        "x23=np.mean(sample23)\n",
        "x24=np.mean(sample24)\n",
        "x25=np.mean(sample25)\n",
        "x26 = np.mean(sample26)\n",
        "x27 = np.mean(sample27)\n",
        "x28 = np.mean(sample28)\n",
        "x29 = np.mean(sample29)\n",
        "x30 = np.mean(sample30)\n",
        "x31 = np.mean(sample31)\n",
        "x32 = np.mean(sample32)\n",
        "x33 = np.mean(sample33)\n",
        "x34 = np.mean(sample34)\n",
        "x35 = np.mean(sample35)\n",
        "x36 = np.mean(sample36)\n",
        "x37 = np.mean(sample37)\n",
        "x38 = np.mean(sample38)\n",
        "x39 = np.mean(sample39)\n",
        "x40 = np.mean(sample40)\n",
        "x41 = np.mean(sample41)\n",
        "x42 = np.mean(sample42)\n",
        "x43 = np.mean(sample43)\n",
        "x44 = np.mean(sample44)\n",
        "x45 = np.mean(sample45)\n",
        "x46 = np.mean(sample46)\n",
        "x47 = np.mean(sample47)\n",
        "x48 = np.mean(sample48)\n",
        "x49 = np.mean(sample49)\n",
        "x50 = np.mean(sample50)\n",
        "x51 = np.mean(sample51)\n",
        "x52 = np.mean(sample52)\n",
        "x53 = np.mean(sample53)\n",
        "x54 = np.mean(sample54)\n",
        "x55 = np.mean(sample55)\n",
        "x56 = np.mean(sample56)\n",
        "x57 = np.mean(sample57)\n",
        "x58 = np.mean(sample58)\n",
        "x59 = np.mean(sample59)\n",
        "x60 = np.mean(sample60)\n",
        "x61 = np.mean(sample61)\n",
        "x62 = np.mean(sample62)\n",
        "x63 = np.mean(sample63)\n",
        "x64 = np.mean(sample64)\n",
        "x65 = np.mean(sample65)\n",
        "x66 = np.mean(sample66)\n",
        "x67 = np.mean(sample67)\n",
        "x68 = np.mean(sample68)\n",
        "x69 = np.mean(sample69)\n",
        "x70 = np.mean(sample70)\n",
        "x71 = np.mean(sample71)\n",
        "x72 = np.mean(sample72)\n",
        "\n"
      ],
      "metadata": {
        "id": "3owX7AmhpuPw"
      },
      "execution_count": 129,
      "outputs": []
    },
    {
      "cell_type": "code",
      "source": [
        "X=[x1,x2,x3,x4,x5,x6,x7,x8,x9,x10,x11,x12,x13,x14,x15,x16,x17,x18,x19,x20,x21,x22,x23,x24,x25,x26,x27,x28,x29,x30,x31,x32,x33,x34,x35,x36,x37,x38,x39,x40,x41,x42,x43,x44,x45,x46,x47,x48,x49,x50,x51,x52,x53,x54,x55,x56,x57,x58,x59,x60,x61,x62,x63,x64,x65,x66,x67,x68,x69,x70,x71,x72]"
      ],
      "metadata": {
        "id": "mIJNLf0xqNlr"
      },
      "execution_count": 130,
      "outputs": []
    },
    {
      "cell_type": "code",
      "source": [
        "plt.hist(X,bins=9)\n",
        "plt.xlabel(\"X\")\n",
        "plt.ylabel(\"sample means\")\n",
        "plt.show() # The sample means follow a normal curve tho"
      ],
      "metadata": {
        "colab": {
          "base_uri": "https://localhost:8080/",
          "height": 449
        },
        "id": "OAikwZCxraTV",
        "outputId": "7634892b-a054-4059-c9b4-0db5720a58f3"
      },
      "execution_count": 131,
      "outputs": [
        {
          "output_type": "display_data",
          "data": {
            "text/plain": [
              "<Figure size 640x480 with 1 Axes>"
            ],
            "image/png": "[encoded data removed]"
          },
          "metadata": {}
        }
      ]
    },
    {
      "cell_type": "code",
      "source": [
        "print(sample1)"
      ],
      "metadata": {
        "colab": {
          "base_uri": "https://localhost:8080/"
        },
        "id": "DX1y-Zkcr5GP",
        "outputId": "6eab8df0-fa25-45e2-84f5-a00ddf560c6e"
      },
      "execution_count": 132,
      "outputs": [
        {
          "output_type": "stream",
          "name": "stdout",
          "text": [
            "[13.02744185  7.17748035  3.16672642 ...  0.13754038 24.9624715\n",
            "  9.48441821]\n"
          ]
        }
      ]
    },
    {
      "cell_type": "code",
      "source": [
        "xbar=np.mean(X)"
      ],
      "metadata": {
        "id": "AEdts7RSsLiz"
      },
      "execution_count": 133,
      "outputs": []
    },
    {
      "cell_type": "code",
      "source": [
        "X=(X-xbar)/np.std(X)"
      ],
      "metadata": {
        "id": "m9CL6vZHsOz1"
      },
      "execution_count": 134,
      "outputs": []
    },
    {
      "cell_type": "code",
      "source": [
        "plt.hist(X,bins=9)\n",
        "plt.show() # better visualisation with normalized graph"
      ],
      "metadata": {
        "colab": {
          "base_uri": "https://localhost:8080/",
          "height": 430
        },
        "id": "eO7BLUQ2s3Eo",
        "outputId": "ac9bc118-493e-4567-cc08-97f5f036cf07"
      },
      "execution_count": 135,
      "outputs": [
        {
          "output_type": "display_data",
          "data": {
            "text/plain": [
              "<Figure size 640x480 with 1 Axes>"
            ],
            "image/png": "[encoded data removed]"
          },
          "metadata": {}
        }
      ]
    }
  ]
}
