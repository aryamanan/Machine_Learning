{
  "nbformat": 4,
  "nbformat_minor": 0,
  "metadata": {
    "colab": {
      "provenance": [],
      "authorship_tag": "ABX9TyO0efm2/luBvEUzlmrIZkwt"
    },
    "kernelspec": {
      "name": "python3",
      "display_name": "Python 3"
    },
    "language_info": {
      "name": "python"
    }
  },
  "cells": [
    {
      "cell_type": "markdown",
      "source": [
        "# TensorFlow PRIMER pt1"
      ],
      "metadata": {
        "id": "3F45uvZxL3KW"
      }
    },
    {
      "cell_type": "code",
      "source": [
        "# importing dependency\n",
        "import tensorflow as tf\n",
        "print(tf.__version__)"
      ],
      "metadata": {
        "colab": {
          "base_uri": "https://localhost:8080/"
        },
        "id": "9EDoGSrKL2Vh",
        "outputId": "870ea940-8fb0-4fb1-8259-2b09c34e132b"
      },
      "execution_count": 1,
      "outputs": [
        {
          "output_type": "stream",
          "name": "stdout",
          "text": [
            "2.12.0\n"
          ]
        }
      ]
    },
    {
      "cell_type": "code",
      "execution_count": 2,
      "metadata": {
        "colab": {
          "base_uri": "https://localhost:8080/"
        },
        "id": "EeYlm6ivLTpD",
        "outputId": "b6891302-f755-48d5-b988-4262f295af4d"
      },
      "outputs": [
        {
          "output_type": "stream",
          "name": "stdout",
          "text": [
            "tf.Tensor(7, shape=(), dtype=int32) \n",
            "\n",
            "0\n"
          ]
        }
      ],
      "source": [
        "# create tersors with constant values\n",
        "scalar=tf.constant(7)\n",
        "print(scalar,\"\\n\")\n",
        "# check no of dimentions of a tensor\n",
        "print(scalar.ndim)"
      ]
    },
    {
      "cell_type": "code",
      "source": [
        "# create a vector\n",
        "vector=tf.constant([10,19,34,23])\n",
        "print(vector,\"\\n\")\n",
        "\n",
        "# check the dimention of our vector\n",
        "print(vector.ndim)"
      ],
      "metadata": {
        "colab": {
          "base_uri": "https://localhost:8080/"
        },
        "id": "3FvePtvwMcRW",
        "outputId": "00fa5c62-1a7c-4ad9-88f9-c012eb8bf397"
      },
      "execution_count": 3,
      "outputs": [
        {
          "output_type": "stream",
          "name": "stdout",
          "text": [
            "tf.Tensor([10 19 34 23], shape=(4,), dtype=int32) \n",
            "\n",
            "1\n"
          ]
        }
      ]
    },
    {
      "cell_type": "code",
      "source": [
        "# create a matrix \n",
        "matrix=tf.constant([[10,11],[12,54],[354,23]])\n",
        "print(matrix)\n",
        "\n",
        "# check the dimention of our matrix\n",
        "print(matrix.ndim)"
      ],
      "metadata": {
        "colab": {
          "base_uri": "https://localhost:8080/"
        },
        "id": "yDHO0C0pNNt-",
        "outputId": "ddeecc42-3985-4165-b0b4-225ce19f2750"
      },
      "execution_count": 4,
      "outputs": [
        {
          "output_type": "stream",
          "name": "stdout",
          "text": [
            "tf.Tensor(\n",
            "[[ 10  11]\n",
            " [ 12  54]\n",
            " [354  23]], shape=(3, 2), dtype=int32)\n",
            "2\n"
          ]
        }
      ]
    },
    {
      "cell_type": "code",
      "source": [
        "# defining datatypes \n",
        "matrix2=tf.constant([[12,34],[23,56]],dtype='float')\n",
        "print(matrix2)"
      ],
      "metadata": {
        "colab": {
          "base_uri": "https://localhost:8080/"
        },
        "id": "3hPPcNwBNdVY",
        "outputId": "2af41f9e-387c-4dde-f858-d976b85fb3a3"
      },
      "execution_count": 5,
      "outputs": [
        {
          "output_type": "stream",
          "name": "stdout",
          "text": [
            "tf.Tensor(\n",
            "[[12. 34.]\n",
            " [23. 56.]], shape=(2, 2), dtype=float32)\n"
          ]
        }
      ]
    },
    {
      "cell_type": "code",
      "source": [
        "# create a tensor (3D matrix)\n",
        "tensor=tf.constant([[[23,34,23],[23,45,34],[234,45,23]],[[23,45,23],[645,553,23],[87,56,435]]])\n",
        "print(tensor)"
      ],
      "metadata": {
        "colab": {
          "base_uri": "https://localhost:8080/"
        },
        "id": "DFnGGGRsN1pS",
        "outputId": "208bfe4d-87e9-4d45-b08b-6c1e8c3a6736"
      },
      "execution_count": 6,
      "outputs": [
        {
          "output_type": "stream",
          "name": "stdout",
          "text": [
            "tf.Tensor(\n",
            "[[[ 23  34  23]\n",
            "  [ 23  45  34]\n",
            "  [234  45  23]]\n",
            "\n",
            " [[ 23  45  23]\n",
            "  [645 553  23]\n",
            "  [ 87  56 435]]], shape=(2, 3, 3), dtype=int32)\n"
          ]
        }
      ]
    },
    {
      "cell_type": "markdown",
      "source": [
        "### Create Tensor with Variable "
      ],
      "metadata": {
        "id": "DtckZRBCO8nP"
      }
    },
    {
      "cell_type": "code",
      "source": [
        "# create the same tensor with tf.Variable() as above\n",
        "changeable_tensor=tf.Variable([10,7]) # V should be capital\n",
        "unchangable_tensor=tf.constant([10,7])\n",
        "print(changeable_tensor, unchangable_tensor)\n",
        "\n",
        "# changeable_tensor[0]=7 # can't update and assign values here like this\n",
        "changeable_tensor[0].assign(23) # this works"
      ],
      "metadata": {
        "colab": {
          "base_uri": "https://localhost:8080/"
        },
        "id": "T5A4OmvCO8Ns",
        "outputId": "bc35e971-03c6-4075-eb2f-ed06ab578ec0"
      },
      "execution_count": 7,
      "outputs": [
        {
          "output_type": "stream",
          "name": "stdout",
          "text": [
            "<tf.Variable 'Variable:0' shape=(2,) dtype=int32, numpy=array([10,  7], dtype=int32)> tf.Tensor([10  7], shape=(2,), dtype=int32)\n"
          ]
        },
        {
          "output_type": "execute_result",
          "data": {
            "text/plain": [
              "<tf.Variable 'UnreadVariable' shape=(2,) dtype=int32, numpy=array([23,  7], dtype=int32)>"
            ]
          },
          "metadata": {},
          "execution_count": 7
        }
      ]
    },
    {
      "cell_type": "markdown",
      "source": [
        "## Creating Radom Tensors \n",
        "> USED TO INITIALISE NN AND DEEP LEARNING MODELS WITH RANDOM WEIGHTS"
      ],
      "metadata": {
        "id": "DkTyzHgtQ1pm"
      }
    },
    {
      "cell_type": "code",
      "source": [
        "# create two random (but the same tensors)\n",
        "rand1=tf.random.Generator.from_seed(42) # setting seed for reproduibility\n",
        "rand1=rand1.normal(shape=(3,2)) # normal distibution\n",
        "\n",
        "rand2=tf.random.Generator.from_seed(42) # same seed values means same random value generated\n",
        "rand2=rand2.normal(shape=(3,2))\n",
        "print(rand1,\"\\n\",\"\\n\",rand2)\n",
        "\n",
        "# remember that the distribution type needs to be the same for the exact copies produced"
      ],
      "metadata": {
        "colab": {
          "base_uri": "https://localhost:8080/"
        },
        "id": "BSSBxgaFOU9P",
        "outputId": "9bfa4192-7091-4524-bfda-5f3ec4acea38"
      },
      "execution_count": 8,
      "outputs": [
        {
          "output_type": "stream",
          "name": "stdout",
          "text": [
            "tf.Tensor(\n",
            "[[-0.7565803  -0.06854702]\n",
            " [ 0.07595026 -1.2573844 ]\n",
            " [-0.23193763 -1.8107855 ]], shape=(3, 2), dtype=float32) \n",
            " \n",
            " tf.Tensor(\n",
            "[[-0.7565803  -0.06854702]\n",
            " [ 0.07595026 -1.2573844 ]\n",
            " [-0.23193763 -1.8107855 ]], shape=(3, 2), dtype=float32)\n"
          ]
        }
      ]
    },
    {
      "cell_type": "markdown",
      "source": [
        "## Shuffling the order of elements in a tensor \n",
        ">IMPORTANT FOR STOCHASTIC GRADIENT DESCENT OPTIMIZER IN OUR BACKPROPAGATION ALGORITHM\n",
        "\n"
      ],
      "metadata": {
        "id": "-7R5HjWuS7Jq"
      }
    },
    {
      "cell_type": "code",
      "source": [
        "not_shuffled=tf.constant([[10,7],[23,54],[342,3],[43554,465]])   \n",
        "print(not_shuffled)           "
      ],
      "metadata": {
        "colab": {
          "base_uri": "https://localhost:8080/"
        },
        "id": "fwyyOuJaS6qu",
        "outputId": "0aeb89a7-cb46-4c80-e122-d80c9a5703ff"
      },
      "execution_count": 9,
      "outputs": [
        {
          "output_type": "stream",
          "name": "stdout",
          "text": [
            "tf.Tensor(\n",
            "[[   10     7]\n",
            " [   23    54]\n",
            " [  342     3]\n",
            " [43554   465]], shape=(4, 2), dtype=int32)\n"
          ]
        }
      ]
    },
    {
      "cell_type": "code",
      "source": [
        "# shuffle every time executed\n",
        "shuffled=tf.random.shuffle(not_shuffled)\n",
        "print(shuffled)"
      ],
      "metadata": {
        "colab": {
          "base_uri": "https://localhost:8080/"
        },
        "id": "xPucb6wZQBLz",
        "outputId": "005a5c61-4256-4bc3-995b-cbc720214d0b"
      },
      "execution_count": 10,
      "outputs": [
        {
          "output_type": "stream",
          "name": "stdout",
          "text": [
            "tf.Tensor(\n",
            "[[43554   465]\n",
            " [  342     3]\n",
            " [   10     7]\n",
            " [   23    54]], shape=(4, 2), dtype=int32)\n"
          ]
        }
      ]
    },
    {
      "cell_type": "code",
      "source": [
        "# seeding, so the values so they don't change\n",
        "tf.random.set_seed(42) # Global level random seeding\n",
        "tf.random.shuffle(not_shuffled,seed=42)"
      ],
      "metadata": {
        "colab": {
          "base_uri": "https://localhost:8080/"
        },
        "id": "zQ-Jq_S-Uziy",
        "outputId": "d212737d-e32c-4598-c425-0da96888b304"
      },
      "execution_count": 11,
      "outputs": [
        {
          "output_type": "execute_result",
          "data": {
            "text/plain": [
              "<tf.Tensor: shape=(4, 2), dtype=int32, numpy=\n",
              "array([[   23,    54],\n",
              "       [  342,     3],\n",
              "       [   10,     7],\n",
              "       [43554,   465]], dtype=int32)>"
            ]
          },
          "metadata": {},
          "execution_count": 11
        }
      ]
    },
    {
      "cell_type": "code",
      "source": [
        "tf.random.shuffle(not_shuffled, seed=42)"
      ],
      "metadata": {
        "colab": {
          "base_uri": "https://localhost:8080/"
        },
        "id": "eECbQX3eVI6s",
        "outputId": "43568304-95ef-422e-a588-474332a839a9"
      },
      "execution_count": 12,
      "outputs": [
        {
          "output_type": "execute_result",
          "data": {
            "text/plain": [
              "<tf.Tensor: shape=(4, 2), dtype=int32, numpy=\n",
              "array([[   10,     7],\n",
              "       [  342,     3],\n",
              "       [43554,   465],\n",
              "       [   23,    54]], dtype=int32)>"
            ]
          },
          "metadata": {},
          "execution_count": 12
        }
      ]
    },
    {
      "cell_type": "markdown",
      "source": [
        "### More Tensors"
      ],
      "metadata": {
        "id": "JlMiREBbWM4d"
      }
    },
    {
      "cell_type": "code",
      "source": [
        "tf.ones(shape=(2,3))"
      ],
      "metadata": {
        "colab": {
          "base_uri": "https://localhost:8080/"
        },
        "id": "9mwBXfZ8V-k8",
        "outputId": "56153484-a971-4b32-9a3d-5b971d85ad72"
      },
      "execution_count": 13,
      "outputs": [
        {
          "output_type": "execute_result",
          "data": {
            "text/plain": [
              "<tf.Tensor: shape=(2, 3), dtype=float32, numpy=\n",
              "array([[1., 1., 1.],\n",
              "       [1., 1., 1.]], dtype=float32)>"
            ]
          },
          "metadata": {},
          "execution_count": 13
        }
      ]
    },
    {
      "cell_type": "code",
      "source": [
        "tf.zeros(shape=(3,5))"
      ],
      "metadata": {
        "colab": {
          "base_uri": "https://localhost:8080/"
        },
        "id": "IHyTA1NAWR7r",
        "outputId": "233af468-69a8-48a9-e46b-499b65465549"
      },
      "execution_count": 14,
      "outputs": [
        {
          "output_type": "execute_result",
          "data": {
            "text/plain": [
              "<tf.Tensor: shape=(3, 5), dtype=float32, numpy=\n",
              "array([[0., 0., 0., 0., 0.],\n",
              "       [0., 0., 0., 0., 0.],\n",
              "       [0., 0., 0., 0., 0.]], dtype=float32)>"
            ]
          },
          "metadata": {},
          "execution_count": 14
        }
      ]
    },
    {
      "cell_type": "markdown",
      "source": [
        "## NumPy vs Tensors\n",
        "main difference is that Numpy arrays can't be run on a GPU computing, while tensorflow tensors can be"
      ],
      "metadata": {
        "id": "yTmhSEGPWdTx"
      }
    },
    {
      "cell_type": "code",
      "source": [
        "# Turning NumPy arrays into tensors\n",
        "import numpy as np\n",
        "nparr=np.arange(4,10)\n",
        "print(nparr,\"\\n\")\n",
        "tensor=tf.constant(nparr)\n",
        "print(tensor)"
      ],
      "metadata": {
        "colab": {
          "base_uri": "https://localhost:8080/"
        },
        "id": "VlMU3Kv6WU7b",
        "outputId": "19f7c3ba-8ee7-49b4-8739-af42bb27cde0"
      },
      "execution_count": 15,
      "outputs": [
        {
          "output_type": "stream",
          "name": "stdout",
          "text": [
            "[4 5 6 7 8 9] \n",
            "\n",
            "tf.Tensor([4 5 6 7 8 9], shape=(6,), dtype=int64)\n"
          ]
        }
      ]
    },
    {
      "cell_type": "markdown",
      "source": [
        "## Getting info from tensors\n",
        "- Shape: The length of each dimention of the tensor `tensor.shape`\n",
        "- Rank: No of tensor dimentions `tensor.ndim`\n",
        "  - scalar=0\n",
        "  - vector=1\n",
        "  - tensor=n\n",
        "- Axis or Dimention: Aparticular dimention of a tensor `tensor[0], tensor[:,1]`\n",
        "- Size: The total number of items in the tensor `tf.size(tensor)`"
      ],
      "metadata": {
        "id": "VbRkUFGidD8u"
      }
    },
    {
      "cell_type": "code",
      "source": [
        "# create a rank 4 tensor (4 dimentions)\n",
        "rank2tensor=tf.zeros(shape=[3,4,2,8]) # 2X8 ke 4 tensors banao, 3 baar\n",
        "print(rank2tensor)"
      ],
      "metadata": {
        "colab": {
          "base_uri": "https://localhost:8080/"
        },
        "id": "Tt9ng6v0ZfEB",
        "outputId": "07814737-b7f2-484f-9a0c-dd8f200d770c"
      },
      "execution_count": 16,
      "outputs": [
        {
          "output_type": "stream",
          "name": "stdout",
          "text": [
            "tf.Tensor(\n",
            "[[[[0. 0. 0. 0. 0. 0. 0. 0.]\n",
            "   [0. 0. 0. 0. 0. 0. 0. 0.]]\n",
            "\n",
            "  [[0. 0. 0. 0. 0. 0. 0. 0.]\n",
            "   [0. 0. 0. 0. 0. 0. 0. 0.]]\n",
            "\n",
            "  [[0. 0. 0. 0. 0. 0. 0. 0.]\n",
            "   [0. 0. 0. 0. 0. 0. 0. 0.]]\n",
            "\n",
            "  [[0. 0. 0. 0. 0. 0. 0. 0.]\n",
            "   [0. 0. 0. 0. 0. 0. 0. 0.]]]\n",
            "\n",
            "\n",
            " [[[0. 0. 0. 0. 0. 0. 0. 0.]\n",
            "   [0. 0. 0. 0. 0. 0. 0. 0.]]\n",
            "\n",
            "  [[0. 0. 0. 0. 0. 0. 0. 0.]\n",
            "   [0. 0. 0. 0. 0. 0. 0. 0.]]\n",
            "\n",
            "  [[0. 0. 0. 0. 0. 0. 0. 0.]\n",
            "   [0. 0. 0. 0. 0. 0. 0. 0.]]\n",
            "\n",
            "  [[0. 0. 0. 0. 0. 0. 0. 0.]\n",
            "   [0. 0. 0. 0. 0. 0. 0. 0.]]]\n",
            "\n",
            "\n",
            " [[[0. 0. 0. 0. 0. 0. 0. 0.]\n",
            "   [0. 0. 0. 0. 0. 0. 0. 0.]]\n",
            "\n",
            "  [[0. 0. 0. 0. 0. 0. 0. 0.]\n",
            "   [0. 0. 0. 0. 0. 0. 0. 0.]]\n",
            "\n",
            "  [[0. 0. 0. 0. 0. 0. 0. 0.]\n",
            "   [0. 0. 0. 0. 0. 0. 0. 0.]]\n",
            "\n",
            "  [[0. 0. 0. 0. 0. 0. 0. 0.]\n",
            "   [0. 0. 0. 0. 0. 0. 0. 0.]]]], shape=(3, 4, 2, 8), dtype=float32)\n"
          ]
        }
      ]
    },
    {
      "cell_type": "code",
      "source": [
        "rank2tensor[0] # gives 1 tensor out of 3, \n",
        "# possible tensors here are rank4tensor[0], rank4tensor[1], rank4tensor[2]"
      ],
      "metadata": {
        "colab": {
          "base_uri": "https://localhost:8080/"
        },
        "id": "RVy8anklhlUN",
        "outputId": "c4fcdc29-be73-45ce-c274-3ad73cb3011b"
      },
      "execution_count": 17,
      "outputs": [
        {
          "output_type": "execute_result",
          "data": {
            "text/plain": [
              "<tf.Tensor: shape=(4, 2, 8), dtype=float32, numpy=\n",
              "array([[[0., 0., 0., 0., 0., 0., 0., 0.],\n",
              "        [0., 0., 0., 0., 0., 0., 0., 0.]],\n",
              "\n",
              "       [[0., 0., 0., 0., 0., 0., 0., 0.],\n",
              "        [0., 0., 0., 0., 0., 0., 0., 0.]],\n",
              "\n",
              "       [[0., 0., 0., 0., 0., 0., 0., 0.],\n",
              "        [0., 0., 0., 0., 0., 0., 0., 0.]],\n",
              "\n",
              "       [[0., 0., 0., 0., 0., 0., 0., 0.],\n",
              "        [0., 0., 0., 0., 0., 0., 0., 0.]]], dtype=float32)>"
            ]
          },
          "metadata": {},
          "execution_count": 17
        }
      ]
    },
    {
      "cell_type": "code",
      "source": [
        "print(rank2tensor.shape,'\\n',rank2tensor.ndim,'\\n',tf.size(rank2tensor))"
      ],
      "metadata": {
        "colab": {
          "base_uri": "https://localhost:8080/"
        },
        "id": "WSYVM3DAjP1-",
        "outputId": "0270d9d9-97db-48e3-bf79-e6119d130830"
      },
      "execution_count": 18,
      "outputs": [
        {
          "output_type": "stream",
          "name": "stdout",
          "text": [
            "(3, 4, 2, 8) \n",
            " 4 \n",
            " tf.Tensor(192, shape=(), dtype=int32)\n"
          ]
        }
      ]
    },
    {
      "cell_type": "markdown",
      "source": [
        "### Various attributes of a tensor\n"
      ],
      "metadata": {
        "id": "PCffO8j9jqDB"
      }
    },
    {
      "cell_type": "code",
      "source": [
        "print(\"Datatype of every Element:\",  rank2tensor.dtype)\n",
        "print(\"Number of Dimentions(rank):\",  rank2tensor.ndim)\n",
        "print(\"shape of the tensor:\", rank2tensor.shape)\n",
        "print(\"elements along 0 axis:\", rank2tensor.shape[0])\n",
        "print(\"Elements along the last axis:\", rank2tensor.shape[-1])\n",
        "print(\"Total number of elements in our tensor:\", tf.size(rank2tensor))\n",
        "print(\"Total number of elements in our tensor:\", tf.size(rank2tensor).numpy()) # simpler version"
      ],
      "metadata": {
        "colab": {
          "base_uri": "https://localhost:8080/"
        },
        "id": "NRFXi8Ukjb8W",
        "outputId": "df9f71fb-c912-404a-9d3d-7880541381e2"
      },
      "execution_count": 19,
      "outputs": [
        {
          "output_type": "stream",
          "name": "stdout",
          "text": [
            "Datatype of every Element: <dtype: 'float32'>\n",
            "Number of Dimentions(rank): 4\n",
            "shape of the tensor: (3, 4, 2, 8)\n",
            "elements along 0 axis: 3\n",
            "Elements along the last axis: 8\n",
            "Total number of elements in our tensor: tf.Tensor(192, shape=(), dtype=int32)\n",
            "Total number of elements in our tensor: 192\n"
          ]
        }
      ]
    },
    {
      "cell_type": "markdown",
      "source": [
        "# Indexing Tensors\n",
        "Tensors can be indexed just like Python Lists"
      ],
      "metadata": {
        "id": "4hRod1iGk4Bh"
      }
    },
    {
      "cell_type": "code",
      "source": [
        "slist=[1,3,4,5,4]\n",
        "print(slist[:2])"
      ],
      "metadata": {
        "colab": {
          "base_uri": "https://localhost:8080/"
        },
        "id": "OCLvmbwxk24-",
        "outputId": "daaef35e-4136-4900-adac-34f14426fbde"
      },
      "execution_count": 20,
      "outputs": [
        {
          "output_type": "stream",
          "name": "stdout",
          "text": [
            "[1, 3]\n"
          ]
        }
      ]
    },
    {
      "cell_type": "code",
      "source": [
        "# get the first 2 values of each dimention \n",
        "rank2tensor[:2,:2,:2,:2]"
      ],
      "metadata": {
        "colab": {
          "base_uri": "https://localhost:8080/"
        },
        "id": "bpTos8QTkkIm",
        "outputId": "518314c4-3cb9-4c6e-d66a-d855ef6d9081"
      },
      "execution_count": 21,
      "outputs": [
        {
          "output_type": "execute_result",
          "data": {
            "text/plain": [
              "<tf.Tensor: shape=(2, 2, 2, 2), dtype=float32, numpy=\n",
              "array([[[[0., 0.],\n",
              "         [0., 0.]],\n",
              "\n",
              "        [[0., 0.],\n",
              "         [0., 0.]]],\n",
              "\n",
              "\n",
              "       [[[0., 0.],\n",
              "         [0., 0.]],\n",
              "\n",
              "        [[0., 0.],\n",
              "         [0., 0.]]]], dtype=float32)>"
            ]
          },
          "metadata": {},
          "execution_count": 21
        }
      ]
    },
    {
      "cell_type": "code",
      "source": [
        "# let's change our tensor here and start afresh\n",
        "rank2tensor=tf.constant([[10,7],[3,7]])"
      ],
      "metadata": {
        "id": "B3n8iApElkoA"
      },
      "execution_count": 22,
      "outputs": []
    },
    {
      "cell_type": "code",
      "source": [
        "# last item of each of row of our rank 2 tensor\n",
        "rank2tensor[:,-1]"
      ],
      "metadata": {
        "colab": {
          "base_uri": "https://localhost:8080/"
        },
        "id": "GlMQV25_mbyZ",
        "outputId": "3f31a5ea-875e-4b56-c6eb-cf5fb8beef10"
      },
      "execution_count": 23,
      "outputs": [
        {
          "output_type": "execute_result",
          "data": {
            "text/plain": [
              "<tf.Tensor: shape=(2,), dtype=int32, numpy=array([7, 7], dtype=int32)>"
            ]
          },
          "metadata": {},
          "execution_count": 23
        }
      ]
    },
    {
      "cell_type": "code",
      "source": [
        "# Add in extra dimention to our rank 2 tensor\n",
        "rank3tensor=rank2tensor[...,tf.newaxis]\n",
        "print(rank3tensor)"
      ],
      "metadata": {
        "id": "LpPgn5hRnL3M",
        "colab": {
          "base_uri": "https://localhost:8080/"
        },
        "outputId": "2a6d858b-243d-459f-b922-939d1646ad1f"
      },
      "execution_count": 24,
      "outputs": [
        {
          "output_type": "stream",
          "name": "stdout",
          "text": [
            "tf.Tensor(\n",
            "[[[10]\n",
            "  [ 7]]\n",
            "\n",
            " [[ 3]\n",
            "  [ 7]]], shape=(2, 2, 1), dtype=int32)\n"
          ]
        }
      ]
    },
    {
      "cell_type": "markdown",
      "source": [
        "`[...,tf.newaxis]` represents `[:,:,tf.newaxis]`\n",
        "\n",
        "every axis before the new one, include those and add this new one"
      ],
      "metadata": {
        "id": "pf3MJHE8EGzd"
      }
    },
    {
      "cell_type": "code",
      "source": [
        "# Alternative to tf.newaxis\n",
        "tf.expand_dims(rank2tensor,axis=1) "
      ],
      "metadata": {
        "id": "QJSGYnYZngMR",
        "colab": {
          "base_uri": "https://localhost:8080/"
        },
        "outputId": "c3484023-b9d2-4493-abbd-5fa5d300d30f"
      },
      "execution_count": 26,
      "outputs": [
        {
          "output_type": "execute_result",
          "data": {
            "text/plain": [
              "<tf.Tensor: shape=(2, 1, 2), dtype=int32, numpy=\n",
              "array([[[10,  7]],\n",
              "\n",
              "       [[ 3,  7]]], dtype=int32)>"
            ]
          },
          "metadata": {},
          "execution_count": 26
        }
      ]
    },
    {
      "cell_type": "code",
      "source": [
        "tf.expand_dims(rank2tensor,axis=-1) # axis=-1 means expand final axis "
      ],
      "metadata": {
        "colab": {
          "base_uri": "https://localhost:8080/"
        },
        "id": "jgJ91kFhEwoa",
        "outputId": "0f9ad28e-5c90-40b9-96fd-06a4171a3768"
      },
      "execution_count": 27,
      "outputs": [
        {
          "output_type": "execute_result",
          "data": {
            "text/plain": [
              "<tf.Tensor: shape=(2, 2, 1), dtype=int32, numpy=\n",
              "array([[[10],\n",
              "        [ 7]],\n",
              "\n",
              "       [[ 3],\n",
              "        [ 7]]], dtype=int32)>"
            ]
          },
          "metadata": {},
          "execution_count": 27
        }
      ]
    }
  ]
}