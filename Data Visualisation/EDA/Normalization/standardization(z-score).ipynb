{
  "nbformat": 4,
  "nbformat_minor": 0,
  "metadata": {
    "colab": {
      "provenance": [],
      "authorship_tag": "ABX9TyNZBSyViou+WP43IpzpUNam"
    },
    "kernelspec": {
      "name": "python3",
      "display_name": "Python 3"
    },
    "language_info": {
      "name": "python"
    }
  },
  "cells": [
    {
      "cell_type": "markdown",
      "source": [
        "# Normalized Graphs (and uses)\n",
        "- A normalized graph is a graph in which the data has been transformed to have a standardized scale, usually by dividing each data point by a normalization factor. \n",
        "- The normalization factor is often the standard deviation of the data, or the maximum value of the data.\n",
        "\n",
        "- Normalized graphs are used to compare data that have different units or scales. \n",
        "- By normalizing the data, we can remove the effect of the scale and focus on the relative differences between the data points. \n",
        "- This can make it easier to identify patterns or trends in the data, and can also help to make the data more visually appealing.\n",
        "\n",
        "## Standardization(Z - Scoring)\n",
        "- One common type of normalized graph is a z-score plot, which shows the number of standard deviations that each data point is from the mean of the data ie (X-mean)/std_dev where X->given dataset, mean->mean of X dataset and std_dev->std deviation of X dataset\n",
        "- This can be useful for identifying outliers or unusual values in the data.\n",
        "\n",
        "- Another type of normalized graph is a density plot, which shows the probability density function of the data after it has been normalized.\n",
        "- This can be useful for comparing the shapes of different distributions and identifying patterns in the data.\n",
        "\n",
        "#### Overall, normalized graphs are a useful tool for visualizing and comparing data that have different scales or units, and can help to highlight patterns and trends that might be obscured by differences in scale. They allow us to understand how data is distributed around mean in normal data" 
      ],
      "metadata": {
        "id": "MXttZooQ8dR8"
      }
    },
    {
      "cell_type": "code",
      "execution_count": 2,
      "metadata": {
        "id": "SsxfUcmwOKsQ"
      },
      "outputs": [],
      "source": [
        "import numpy as np\n",
        "import pandas as pd\n",
        "import matplotlib.pyplot as plt\n",
        "import random\n",
        "from IPython.display import display, Math"
      ]
    },
    {
      "cell_type": "markdown",
      "source": [
        "## HOW TO STANDARDIZE DATA (USE Z-SCORE METHOD TO NORMALIZE DATA)\n",
        "#### Here are the steps to normalize data using the Z-score method:\n",
        "\n",
        "1. Calculate the mean of your data set.\n",
        "\n",
        "2. Calculate the standard deviation of your data set.\n",
        "\n",
        "3. Subtract the mean from each data point.\n",
        "\n",
        "4. Divide each data point by the standard deviation.\n",
        "\n",
        "#### The resulting data set will have a mean of 0 and a standard deviation of 1."
      ],
      "metadata": {
        "id": "9fNMYQs_PZxI"
      }
    },
    {
      "cell_type": "code",
      "source": [
        "# making a sample height data (this won't contain any consistent patterns that defines a distribution curve to visualise data)\n",
        "heights=[random.randint(150,200) for i in range(100)]"
      ],
      "metadata": {
        "id": "mnRSIJk8ORA9"
      },
      "execution_count": 3,
      "outputs": []
    },
    {
      "cell_type": "markdown",
      "source": [
        "### Step 1: calculating the mean of the data"
      ],
      "metadata": {
        "id": "QUX8E5g8OMWH"
      }
    },
    {
      "cell_type": "code",
      "source": [
        "mean=np.mean(heights)\n",
        "print(mean)"
      ],
      "metadata": {
        "colab": {
          "base_uri": "https://localhost:8080/"
        },
        "id": "zP_BugW2Ob3r",
        "outputId": "e1fb7ef4-789e-415c-d6d4-39e79ccc78da"
      },
      "execution_count": 7,
      "outputs": [
        {
          "output_type": "stream",
          "name": "stdout",
          "text": [
            "174.13\n"
          ]
        }
      ]
    },
    {
      "cell_type": "code",
      "source": [
        "# we will use round() or truc() to get rid of too in-decimal data\n",
        "\n",
        "z=np.array([2,3,4,6,7,64,2,1])\n",
        "print(np.trunc(5.3434), np.round(5.5656,3))"
      ],
      "metadata": {
        "colab": {
          "base_uri": "https://localhost:8080/"
        },
        "id": "WOGrpxuu5BIF",
        "outputId": "d799fd07-810f-4b0e-9c39-c008153ec638"
      },
      "execution_count": 8,
      "outputs": [
        {
          "output_type": "stream",
          "name": "stdout",
          "text": [
            "5.0 5.566\n"
          ]
        }
      ]
    },
    {
      "cell_type": "markdown",
      "source": [
        "#### Step 2: Calculate the standard deviation of the data"
      ],
      "metadata": {
        "id": "biLdYfQG-EeS"
      }
    },
    {
      "cell_type": "code",
      "source": [
        "from IPython.display import display, Math\n",
        "\n",
        "# Define a LaTeX equation for sample standard deviation\n",
        "latex_eqn = r's = \\sqrt{\\frac{1}{n-1}\\sum_{i=1}^{n}(x_i - \\bar{x})^2}'\n",
        "\n",
        "# Display the equation using the Math function\n",
        "display(Math(latex_eqn))"
      ],
      "metadata": {
        "colab": {
          "base_uri": "https://localhost:8080/",
          "height": 70
        },
        "id": "HiT3exZZ-g6Q",
        "outputId": "f3137893-fab8-431d-a109-26d06bdf506c"
      },
      "execution_count": 9,
      "outputs": [
        {
          "output_type": "display_data",
          "data": {
            "text/plain": [
              "<IPython.core.display.Math object>"
            ],
            "text/latex": "$\\displaystyle s = \\sqrt{\\frac{1}{n-1}\\sum_{i=1}^{n}(x_i - \\bar{x})^2}$"
          },
          "metadata": {}
        }
      ]
    },
    {
      "cell_type": "code",
      "source": [
        "mean_centered_heights=[np.round(height-mean,2) for height in heights]\n",
        "mean_height_str=', '.join(str(i) for i in mean_centered_heights)\n",
        "print(mean_height_str)"
      ],
      "metadata": {
        "colab": {
          "base_uri": "https://localhost:8080/"
        },
        "id": "2f-2SBKLOqZ-",
        "outputId": "7d915c20-fddb-44dc-dc8a-0333634b4163"
      },
      "execution_count": 10,
      "outputs": [
        {
          "output_type": "stream",
          "name": "stdout",
          "text": [
            "12.87, -1.13, 17.87, 17.87, 16.87, 14.87, -3.13, 24.87, 4.87, -7.13, -10.13, 17.87, -19.13, -7.13, -14.13, -21.13, 20.87, -12.13, 18.87, -18.13, -15.13, -21.13, -20.13, 13.87, 8.87, 4.87, -6.13, 15.87, -1.13, -13.13, -5.13, -22.13, 23.87, 12.87, -22.13, 8.87, -2.13, 5.87, -3.13, -11.13, -15.13, -3.13, 11.87, 14.87, -9.13, -4.13, -1.13, 5.87, 9.87, 18.87, 24.87, -2.13, -23.13, 5.87, 21.87, -12.13, -24.13, 12.87, -21.13, 1.87, 11.87, -20.13, 0.87, -5.13, -3.13, -24.13, 4.87, -9.13, 1.87, -19.13, -2.13, -5.13, 15.87, 8.87, 15.87, -12.13, -16.13, 5.87, -2.13, 10.87, 21.87, -16.13, -20.13, -22.13, -18.13, 2.87, -15.13, 21.87, -0.13, 12.87, 25.87, 19.87, -19.13, -9.13, 25.87, 5.87, -0.13, -10.13, -3.13, 17.87\n"
          ]
        }
      ]
    },
    {
      "cell_type": "code",
      "source": [
        "squared_mch=[np.round(x*x,2) for x in mean_centered_heights]\n",
        "squared_mch_str=', '.join(str(i) for i in squared_mch)\n",
        "print(squared_mch_str)"
      ],
      "metadata": {
        "colab": {
          "base_uri": "https://localhost:8080/"
        },
        "id": "efWfnpsYO-7Q",
        "outputId": "42ef165d-b72d-46f5-cbce-df44705b317c"
      },
      "execution_count": 11,
      "outputs": [
        {
          "output_type": "stream",
          "name": "stdout",
          "text": [
            "165.64, 1.28, 319.34, 319.34, 284.6, 221.12, 9.8, 618.52, 23.72, 50.84, 102.62, 319.34, 365.96, 50.84, 199.66, 446.48, 435.56, 147.14, 356.08, 328.7, 228.92, 446.48, 405.22, 192.38, 78.68, 23.72, 37.58, 251.86, 1.28, 172.4, 26.32, 489.74, 569.78, 165.64, 489.74, 78.68, 4.54, 34.46, 9.8, 123.88, 228.92, 9.8, 140.9, 221.12, 83.36, 17.06, 1.28, 34.46, 97.42, 356.08, 618.52, 4.54, 535.0, 34.46, 478.3, 147.14, 582.26, 165.64, 446.48, 3.5, 140.9, 405.22, 0.76, 26.32, 9.8, 582.26, 23.72, 83.36, 3.5, 365.96, 4.54, 26.32, 251.86, 78.68, 251.86, 147.14, 260.18, 34.46, 4.54, 118.16, 478.3, 260.18, 405.22, 489.74, 328.7, 8.24, 228.92, 478.3, 0.02, 165.64, 669.26, 394.82, 365.96, 83.36, 669.26, 34.46, 0.02, 102.62, 9.8, 319.34\n"
          ]
        }
      ]
    },
    {
      "cell_type": "code",
      "source": [
        "res=np.round(np.sum(squared_mch),2)\n",
        "print(res)"
      ],
      "metadata": {
        "colab": {
          "base_uri": "https://localhost:8080/"
        },
        "id": "W8u4NLc9P67-",
        "outputId": "0c62cac1-ef97-4790-beb4-00384aa851d5"
      },
      "execution_count": 18,
      "outputs": [
        {
          "output_type": "stream",
          "name": "stdout",
          "text": [
            "21115.62\n"
          ]
        }
      ]
    },
    {
      "cell_type": "code",
      "source": [
        "variance=np.round(res/(len(heights)-1),2)\n",
        "print(variance)"
      ],
      "metadata": {
        "colab": {
          "base_uri": "https://localhost:8080/"
        },
        "id": "uvbLJ0txQlVr",
        "outputId": "ff176220-b9bf-413f-bce8-a58ef7c7e8c7"
      },
      "execution_count": 19,
      "outputs": [
        {
          "output_type": "stream",
          "name": "stdout",
          "text": [
            "213.29\n"
          ]
        }
      ]
    },
    {
      "cell_type": "code",
      "source": [
        "std_dev=np.round(np.sqrt(variance),2)\n",
        "print(std_dev)"
      ],
      "metadata": {
        "colab": {
          "base_uri": "https://localhost:8080/"
        },
        "id": "8JTDGAFbQsJ1",
        "outputId": "8a69090e-8c0c-43e9-e7a4-b2f2432f9ec3"
      },
      "execution_count": 21,
      "outputs": [
        {
          "output_type": "stream",
          "name": "stdout",
          "text": [
            "14.6\n"
          ]
        }
      ]
    },
    {
      "cell_type": "markdown",
      "source": [
        "### Step 3: Subtract mean from each data point in our data/list (gives mean centered data)\n",
        "\n",
        "### Step 4: Divide each datapoint in the new obtained mean centered data by the standard deviation of the original data"
      ],
      "metadata": {
        "id": "ojJPxafH_xwG"
      }
    },
    {
      "cell_type": "code",
      "source": [
        "normalized_list=[np.round(height/std_dev) for height in mean_centered_heights]\n",
        "normh_str=', '.join(str(i) for i in normalized_list)\n",
        "print(normh_str)"
      ],
      "metadata": {
        "colab": {
          "base_uri": "https://localhost:8080/"
        },
        "id": "K9-K3f2NQ0OL",
        "outputId": "f5490ba0-4412-4481-94f5-95c40fa1211b"
      },
      "execution_count": 22,
      "outputs": [
        {
          "output_type": "stream",
          "name": "stdout",
          "text": [
            "1.0, -0.0, 1.0, 1.0, 1.0, 1.0, -0.0, 2.0, 0.0, -0.0, -1.0, 1.0, -1.0, -0.0, -1.0, -1.0, 1.0, -1.0, 1.0, -1.0, -1.0, -1.0, -1.0, 1.0, 1.0, 0.0, -0.0, 1.0, -0.0, -1.0, -0.0, -2.0, 2.0, 1.0, -2.0, 1.0, -0.0, 0.0, -0.0, -1.0, -1.0, -0.0, 1.0, 1.0, -1.0, -0.0, -0.0, 0.0, 1.0, 1.0, 2.0, -0.0, -2.0, 0.0, 1.0, -1.0, -2.0, 1.0, -1.0, 0.0, 1.0, -1.0, 0.0, -0.0, -0.0, -2.0, 0.0, -1.0, 0.0, -1.0, -0.0, -0.0, 1.0, 1.0, 1.0, -1.0, -1.0, 0.0, -0.0, 1.0, 1.0, -1.0, -1.0, -2.0, -1.0, 0.0, -1.0, 1.0, -0.0, 1.0, 2.0, 1.0, -1.0, -1.0, 2.0, 0.0, -0.0, -1.0, -0.0, 1.0\n"
          ]
        }
      ]
    },
    {
      "cell_type": "code",
      "source": [
        "x=[i for i in range(100)]\n",
        "y=normalized_list\n",
        "plt.hist(normalized_list)\n",
        "plt.title(\"Histogram of heights\")\n",
        "plt.xlabel('z score')\n",
        "plt.ylabel('heights')\n",
        "plt.show()"
      ],
      "metadata": {
        "colab": {
          "base_uri": "https://localhost:8080/",
          "height": 472
        },
        "id": "bkj_315fRoOU",
        "outputId": "4f77cdcd-5f83-4136-fcd8-1acf90d31624"
      },
      "execution_count": 23,
      "outputs": [
        {
          "output_type": "display_data",
          "data": {
            "text/plain": [
              "<Figure size 640x480 with 1 Axes>"
            ],
            "image/png": "[encoded data removed]"
          },
          "metadata": {}
        }
      ]
    },
    {
      "cell_type": "code",
      "source": [
        "# The entire code summed up here\n",
        "\n",
        "# But this time we'll use normally distributed data\n",
        "heights=np.random.normal(175,10,100) # (mean,std_dev,no_of_samples)\n",
        "\n",
        "# Procedure\n",
        "mean=np.mean(heights)\n",
        "# mean_centred_heights=[np.round(height-mean,2) for height in heights]\n",
        "# squared_mch=[np.round(x*x,2) for x in mean_centred_heights]\n",
        "# sum=np.round(np.sum(squared_mch),2)\n",
        "# variance=np.round(sum/(len(heights)-1),2)\n",
        "# std_dev=np.round(np.sqrt(variance),2)\n",
        "# normalized_list=[np.round(height/std_dev) for height in mean_heights]\n",
        "std_dev=np.std(heights) # instead of doing all this, just use numpy to find std_dev\n",
        "normalized_heights=[(height-mean)/std_dev for height in heights]\n",
        "plt.hist(normalized_heights)\n",
        "plt.title(\"Histogram of heights\")\n",
        "plt.xlabel('z score')\n",
        "plt.ylabel('heights')\n",
        "plt.show()"
      ],
      "metadata": {
        "colab": {
          "base_uri": "https://localhost:8080/",
          "height": 472
        },
        "id": "-LjbkCyS67VG",
        "outputId": "b0e4751a-19d9-45a0-c16b-dee2f81ae370"
      },
      "execution_count": 30,
      "outputs": [
        {
          "output_type": "display_data",
          "data": {
            "text/plain": [
              "<Figure size 640x480 with 1 Axes>"
            ],
            "image/png": "[encoded data removed]"
          },
          "metadata": {}
        }
      ]
    }
  ]
}
