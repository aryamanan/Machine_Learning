{
  "nbformat": 4,
  "nbformat_minor": 0,
  "metadata": {
    "colab": {
      "provenance": [],
      "authorship_tag": "ABX9TyPeKEpUTRnC87OJUsFv6QYi"
    },
    "kernelspec": {
      "name": "python3",
      "display_name": "Python 3"
    },
    "language_info": {
      "name": "python"
    }
  },
  "cells": [
    {
      "cell_type": "markdown",
      "source": [
        "# Normalized Graphs (and uses)\n",
        "- A normalized graph is a graph in which the data has been transformed to have a standardized scale, usually by dividing each data point by a normalization factor. \n",
        "- The normalization factor is often the standard deviation of the data, or the maximum value of the data.\n",
        "\n",
        "- Normalized graphs are used to compare data that have different units or scales. \n",
        "- By normalizing the data, we can remove the effect of the scale and focus on the relative differences between the data points. \n",
        "- This can make it easier to identify patterns or trends in the data, and can also help to make the data more visually appealing.\n",
        "\n",
        "## Z - Scoring\n",
        "- One common type of normalized graph is a z-score plot, which shows the number of standard deviations that each data point is from the mean of the data. \n",
        "- This can be useful for identifying outliers or unusual values in the data.\n",
        "\n",
        "- Another type of normalized graph is a density plot, which shows the probability density function of the data after it has been normalized.\n",
        "- This can be useful for comparing the shapes of different distributions and identifying patterns in the data.\n",
        "\n",
        "#### Overall, normalized graphs are a useful tool for visualizing and comparing data that have different scales or units, and can help to highlight patterns and trends that might be obscured by differences in scale."
      ],
      "metadata": {
        "id": "MXttZooQ8dR8"
      }
    },
    {
      "cell_type": "code",
      "execution_count": 45,
      "metadata": {
        "id": "SsxfUcmwOKsQ"
      },
      "outputs": [],
      "source": [
        "import numpy as np\n",
        "import pandas as pd\n",
        "import matplotlib.pyplot as plt\n",
        "import random\n",
        "from IPython.display import display, Math"
      ]
    },
    {
      "cell_type": "code",
      "source": [
        "# making a sample height data (this won't contain any consistent patterns that defines a distribution curve to visualise data)\n",
        "heights=[random.randint(0,2000) for i in range(100)]\n",
        "print(np.var(heights))"
      ],
      "metadata": {
        "colab": {
          "base_uri": "https://localhost:8080/"
        },
        "id": "mnRSIJk8ORA9",
        "outputId": "4a8702ee-bb2c-421c-ca43-802f13c1e3a1"
      },
      "execution_count": 18,
      "outputs": [
        {
          "output_type": "stream",
          "name": "stdout",
          "text": [
            "289461.90560000006\n"
          ]
        }
      ]
    },
    {
      "cell_type": "code",
      "source": [
        "mean=np.mean(heights)\n",
        "print(mean)"
      ],
      "metadata": {
        "colab": {
          "base_uri": "https://localhost:8080/"
        },
        "id": "zP_BugW2Ob3r",
        "outputId": "17b5ca63-35cb-44e2-bd1b-d2ec0f967f01"
      },
      "execution_count": 7,
      "outputs": [
        {
          "output_type": "stream",
          "name": "stdout",
          "text": [
            "175.54\n"
          ]
        }
      ]
    },
    {
      "cell_type": "code",
      "source": [
        "# we will round() or truc() th data to get rid of too in-decimal data\n",
        "\n",
        "z=np.array([2,3,4,6,7,64,2,1])\n",
        "print(np.trunc(5.3434), np.round(5.5656,3))"
      ],
      "metadata": {
        "colab": {
          "base_uri": "https://localhost:8080/"
        },
        "id": "WOGrpxuu5BIF",
        "outputId": "1368f8ac-0798-40fb-bfaa-93dcd12aeff7"
      },
      "execution_count": 44,
      "outputs": [
        {
          "output_type": "stream",
          "name": "stdout",
          "text": [
            "5.0 5.566\n"
          ]
        }
      ]
    },
    {
      "cell_type": "markdown",
      "source": [
        "#### We will now calculate the standard deviation "
      ],
      "metadata": {
        "id": "biLdYfQG-EeS"
      }
    },
    {
      "cell_type": "code",
      "source": [
        "from IPython.display import display, Math\n",
        "\n",
        "# Define a LaTeX equation for sample standard deviation\n",
        "latex_eqn = r's = \\sqrt{\\frac{1}{n-1}\\sum_{i=1}^{n}(x_i - \\bar{x})^2}'\n",
        "\n",
        "# Display the equation using the Math function\n",
        "display(Math(latex_eqn))"
      ],
      "metadata": {
        "colab": {
          "base_uri": "https://localhost:8080/",
          "height": 70
        },
        "id": "HiT3exZZ-g6Q",
        "outputId": "cc77c202-30b6-436c-9d28-344be28da1f9"
      },
      "execution_count": 62,
      "outputs": [
        {
          "output_type": "display_data",
          "data": {
            "text/plain": [
              "<IPython.core.display.Math object>"
            ],
            "text/latex": "$\\displaystyle s = \\sqrt{\\frac{1}{n-1}\\sum_{i=1}^{n}(x_i - \\bar{x})^2}$"
          },
          "metadata": {}
        }
      ]
    },
    {
      "cell_type": "code",
      "source": [
        "mean_centered_heights=[np.round(height-mean,2) for height in heights]\n",
        "mean_height_str=', '.join(str(i) for i in mean_centered_heights)\n",
        "print(mean_height_str)"
      ],
      "metadata": {
        "colab": {
          "base_uri": "https://localhost:8080/"
        },
        "id": "2f-2SBKLOqZ-",
        "outputId": "663a1ba4-16b0-44b4-bc54-0917d4d230d7"
      },
      "execution_count": 27,
      "outputs": [
        {
          "output_type": "stream",
          "name": "stdout",
          "text": [
            "-6.39, 16.61, -15.39, 14.61, -17.39, -21.39, 1.61, 18.61, 12.61, -19.39, 10.61, -0.39, -8.39, -18.39, 4.61, 20.61, -1.39, 6.61, -8.39, -11.39, -25.39, -28.39, 21.61, 7.61, -0.39, 0.61, 14.61, 21.61, 19.61, 8.61, -9.39, 20.61, 1.61, 3.61, 14.61, -12.39, -27.39, -3.39, -14.39, 14.61, -21.39, 20.61, 17.61, 20.61, 15.61, -14.39, -9.39, 21.61, -4.39, 10.61, 1.61, -19.39, -6.39, 4.61, -18.39, -7.39, -2.39, 12.61, 14.61, -20.39, 15.61, -16.39, 7.61, 7.61, 12.61, -25.39, -11.39, 3.61, -11.39, -1.39, -11.39, -22.39, -5.39, -4.39, -18.39, 8.61, 12.61, 12.61, 13.61, -3.39, 14.61, -2.39, -27.39, -1.39, -1.39, 3.61, -2.39, -14.39, -20.39, 19.61, -17.39, 4.61, 17.61, -25.39, 13.61, 17.61, 9.61, 6.61, 11.61, 7.61\n"
          ]
        }
      ]
    },
    {
      "cell_type": "code",
      "source": [
        "squared_mch=[np.round(x*x,2) for x in mean_centered_heights]\n",
        "squared_mch_str=', '.join(str(i) for i in squared_mch)\n",
        "print(squared_mch_str)"
      ],
      "metadata": {
        "colab": {
          "base_uri": "https://localhost:8080/"
        },
        "id": "efWfnpsYO-7Q",
        "outputId": "f3f0b187-f6ea-4021-9376-f7c92ca9f20d"
      },
      "execution_count": 31,
      "outputs": [
        {
          "output_type": "stream",
          "name": "stdout",
          "text": [
            "40.83, 275.89, 236.85, 213.45, 302.41, 457.53, 2.59, 346.33, 159.01, 375.97, 112.57, 0.15, 70.39, 338.19, 21.25, 424.77, 1.93, 43.69, 70.39, 129.73, 644.65, 805.99, 466.99, 57.91, 0.15, 0.37, 213.45, 466.99, 384.55, 74.13, 88.17, 424.77, 2.59, 13.03, 213.45, 153.51, 750.21, 11.49, 207.07, 213.45, 457.53, 424.77, 310.11, 424.77, 243.67, 207.07, 88.17, 466.99, 19.27, 112.57, 2.59, 375.97, 40.83, 21.25, 338.19, 54.61, 5.71, 159.01, 213.45, 415.75, 243.67, 268.63, 57.91, 57.91, 159.01, 644.65, 129.73, 13.03, 129.73, 1.93, 129.73, 501.31, 29.05, 19.27, 338.19, 74.13, 159.01, 159.01, 185.23, 11.49, 213.45, 5.71, 750.21, 1.93, 1.93, 13.03, 5.71, 207.07, 415.75, 384.55, 302.41, 21.25, 310.11, 644.65, 185.23, 310.11, 92.35, 43.69, 134.79, 57.91\n"
          ]
        }
      ]
    },
    {
      "cell_type": "code",
      "source": [
        "variance=np.round(np.sum(squared_mch),2)\n",
        "print(variance)"
      ],
      "metadata": {
        "colab": {
          "base_uri": "https://localhost:8080/"
        },
        "id": "W8u4NLc9P67-",
        "outputId": "70e09577-7555-4127-a555-04fa5b4a6dd8"
      },
      "execution_count": 32,
      "outputs": [
        {
          "output_type": "stream",
          "name": "stdout",
          "text": [
            "20613.58\n"
          ]
        }
      ]
    },
    {
      "cell_type": "code",
      "source": [
        "res=np.round(sum/(len(heights)-1),2)\n",
        "print(res)"
      ],
      "metadata": {
        "colab": {
          "base_uri": "https://localhost:8080/"
        },
        "id": "uvbLJ0txQlVr",
        "outputId": "417a515b-4de2-4eb5-be0a-7e77ccaeb8d7"
      },
      "execution_count": 11,
      "outputs": [
        {
          "output_type": "stream",
          "name": "stdout",
          "text": [
            "192.88\n"
          ]
        }
      ]
    },
    {
      "cell_type": "code",
      "source": [
        "std_dev=np.round(np.sqrt(res),2)\n",
        "print(std_dev)"
      ],
      "metadata": {
        "colab": {
          "base_uri": "https://localhost:8080/"
        },
        "id": "8JTDGAFbQsJ1",
        "outputId": "cb78a89a-bccf-44a4-f5d8-b1a3adb6915b"
      },
      "execution_count": 12,
      "outputs": [
        {
          "output_type": "stream",
          "name": "stdout",
          "text": [
            "13.89\n"
          ]
        }
      ]
    },
    {
      "cell_type": "markdown",
      "source": [
        "### Normalised Data is accomplished by subtracting the mean from each data point and dividing by the standard deviation."
      ],
      "metadata": {
        "id": "ojJPxafH_xwG"
      }
    },
    {
      "cell_type": "code",
      "source": [
        "normalised_list=[np.round(height/std_dev) for height in mean_centered_heights]\n",
        "normh_str=', '.join(str(i) for i in normalised_list)\n",
        "print(normh_str)"
      ],
      "metadata": {
        "colab": {
          "base_uri": "https://localhost:8080/"
        },
        "id": "K9-K3f2NQ0OL",
        "outputId": "af8b1542-5760-450f-c2f3-fe9f19ae6778"
      },
      "execution_count": 40,
      "outputs": [
        {
          "output_type": "stream",
          "name": "stdout",
          "text": [
            "-0.0, 1.0, -1.0, 1.0, -1.0, -1.0, 0.0, 1.0, 1.0, -1.0, 1.0, -0.0, -1.0, -1.0, 0.0, 1.0, -0.0, 0.0, -1.0, -1.0, -2.0, -2.0, 2.0, 1.0, -0.0, 0.0, 1.0, 2.0, 1.0, 1.0, -1.0, 1.0, 0.0, 0.0, 1.0, -1.0, -2.0, -0.0, -1.0, 1.0, -1.0, 1.0, 1.0, 1.0, 1.0, -1.0, -1.0, 2.0, -0.0, 1.0, 0.0, -1.0, -0.0, 0.0, -1.0, -1.0, -0.0, 1.0, 1.0, -1.0, 1.0, -1.0, 1.0, 1.0, 1.0, -2.0, -1.0, 0.0, -1.0, -0.0, -1.0, -2.0, -0.0, -0.0, -1.0, 1.0, 1.0, 1.0, 1.0, -0.0, 1.0, -0.0, -2.0, -0.0, -0.0, 0.0, -0.0, -1.0, -1.0, 1.0, -1.0, 0.0, 1.0, -2.0, 1.0, 1.0, 1.0, 0.0, 1.0, 1.0\n"
          ]
        }
      ]
    },
    {
      "cell_type": "code",
      "source": [
        "x=[i for i in range(100)]\n",
        "y=normalised_list\n",
        "plt.hist(normalised_list)\n",
        "plt.title(\"Histogram of heights\")\n",
        "plt.xlabel('z score')\n",
        "plt.ylabel('heights')\n",
        "plt.show()"
      ],
      "metadata": {
        "colab": {
          "base_uri": "https://localhost:8080/",
          "height": 472
        },
        "id": "bkj_315fRoOU",
        "outputId": "6fba8692-6992-41a5-e38b-fc6abc22a9d6"
      },
      "execution_count": 41,
      "outputs": [
        {
          "output_type": "display_data",
          "data": {
            "text/plain": [
              "<Figure size 640x480 with 1 Axes>"
            ],
            "image/png": "[encoded data removed]"
          },
          "metadata": {}
        }
      ]
    },
    {
      "cell_type": "code",
      "source": [
        "heights=[random.randint(150,200) for i in range(100)]\n",
        "mean=np.mean(heights)\n",
        "# mean_centred_heights=[np.round(height-mean,2) for height in heights]\n",
        "# squared_mch=[np.round(x*x,2) for x in mean_centred_heights]\n",
        "# sum=np.round(np.sum(squared_mch),2)\n",
        "# variance=np.round(sum/(len(heights)-1),2)\n",
        "# std_dev=np.round(np.sqrt(variance),2)\n",
        "# normalised_list=[np.round(height/std_dev) for height in mean_heights]\n",
        "std_dev=np.std(heights) # instead of doing all this, just use numpy to find std_dev\n",
        "normalised_heights=[(height-mean)/std_dev for height in heights]\n",
        "plt.hist(normalised_heights)\n",
        "plt.title(\"Histogram of heights\")\n",
        "plt.xlabel('z score')\n",
        "plt.ylabel('heights')\n",
        "plt.show()"
      ],
      "metadata": {
        "colab": {
          "base_uri": "https://localhost:8080/",
          "height": 472
        },
        "id": "-LjbkCyS67VG",
        "outputId": "7e04cb5e-147d-45ac-fe45-f0e06a01fb95"
      },
      "execution_count": 43,
      "outputs": [
        {
          "output_type": "display_data",
          "data": {
            "text/plain": [
              "<Figure size 640x480 with 1 Axes>"
            ],
            "image/png": "[encoded data removed]"
          },
          "metadata": {}
        }
      ]
    }
  ]
}
